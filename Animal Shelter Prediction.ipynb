{
 "cells": [
  {
   "cell_type": "markdown",
   "metadata": {},
   "source": [
    "# Predicting Shelter Animal Outcomes"
   ]
  },
  {
   "cell_type": "code",
   "execution_count": 150,
   "metadata": {},
   "outputs": [],
   "source": [
    "import pandas as pd\n",
    "import numpy as np\n",
    "from sklearn.linear_model import LinearRegression, LogisticRegression\n",
    "from sklearn.model_selection import train_test_split\n",
    "from sklearn.cross_validation import KFold, cross_val_score\n",
    "from sklearn.model_selection import train_test_split\n",
    "from sklearn import metrics\n",
    "from sklearn.ensemble import RandomForestClassifier, RandomForestRegressor\n",
    "import scipy.stats as stats\n",
    "\n",
    "\n",
    "%matplotlib inline\n",
    "import seaborn as sns"
   ]
  },
  {
   "cell_type": "code",
   "execution_count": 3,
   "metadata": {
    "scrolled": false
   },
   "outputs": [
    {
     "name": "stdout",
     "output_type": "stream",
     "text": [
      "(26729, 10)\n",
      "AnimalID          object\n",
      "Name              object\n",
      "DateTime          object\n",
      "OutcomeType       object\n",
      "OutcomeSubtype    object\n",
      "AnimalType        object\n",
      "SexuponOutcome    object\n",
      "AgeuponOutcome    object\n",
      "Breed             object\n",
      "Color             object\n",
      "dtype: object\n"
     ]
    }
   ],
   "source": [
    "data = pd.read_csv(\"train.csv\")\n",
    "print(data.shape)\n",
    "print(data.dtypes)"
   ]
  },
  {
   "cell_type": "code",
   "execution_count": 4,
   "metadata": {},
   "outputs": [
    {
     "data": {
      "text/html": [
       "<div>\n",
       "<style scoped>\n",
       "    .dataframe tbody tr th:only-of-type {\n",
       "        vertical-align: middle;\n",
       "    }\n",
       "\n",
       "    .dataframe tbody tr th {\n",
       "        vertical-align: top;\n",
       "    }\n",
       "\n",
       "    .dataframe thead th {\n",
       "        text-align: right;\n",
       "    }\n",
       "</style>\n",
       "<table border=\"1\" class=\"dataframe\">\n",
       "  <thead>\n",
       "    <tr style=\"text-align: right;\">\n",
       "      <th></th>\n",
       "      <th>AnimalID</th>\n",
       "      <th>Name</th>\n",
       "      <th>DateTime</th>\n",
       "      <th>OutcomeType</th>\n",
       "      <th>OutcomeSubtype</th>\n",
       "      <th>AnimalType</th>\n",
       "      <th>SexuponOutcome</th>\n",
       "      <th>AgeuponOutcome</th>\n",
       "      <th>Breed</th>\n",
       "      <th>Color</th>\n",
       "    </tr>\n",
       "  </thead>\n",
       "  <tbody>\n",
       "    <tr>\n",
       "      <th>0</th>\n",
       "      <td>A671945</td>\n",
       "      <td>Hambone</td>\n",
       "      <td>2014-02-12 18:22:00</td>\n",
       "      <td>Return_to_owner</td>\n",
       "      <td>NaN</td>\n",
       "      <td>Dog</td>\n",
       "      <td>Neutered Male</td>\n",
       "      <td>1 year</td>\n",
       "      <td>Shetland Sheepdog Mix</td>\n",
       "      <td>Brown/White</td>\n",
       "    </tr>\n",
       "    <tr>\n",
       "      <th>1</th>\n",
       "      <td>A656520</td>\n",
       "      <td>Emily</td>\n",
       "      <td>2013-10-13 12:44:00</td>\n",
       "      <td>Euthanasia</td>\n",
       "      <td>Suffering</td>\n",
       "      <td>Cat</td>\n",
       "      <td>Spayed Female</td>\n",
       "      <td>1 year</td>\n",
       "      <td>Domestic Shorthair Mix</td>\n",
       "      <td>Cream Tabby</td>\n",
       "    </tr>\n",
       "    <tr>\n",
       "      <th>2</th>\n",
       "      <td>A686464</td>\n",
       "      <td>Pearce</td>\n",
       "      <td>2015-01-31 12:28:00</td>\n",
       "      <td>Adoption</td>\n",
       "      <td>Foster</td>\n",
       "      <td>Dog</td>\n",
       "      <td>Neutered Male</td>\n",
       "      <td>2 years</td>\n",
       "      <td>Pit Bull Mix</td>\n",
       "      <td>Blue/White</td>\n",
       "    </tr>\n",
       "    <tr>\n",
       "      <th>3</th>\n",
       "      <td>A683430</td>\n",
       "      <td>NaN</td>\n",
       "      <td>2014-07-11 19:09:00</td>\n",
       "      <td>Transfer</td>\n",
       "      <td>Partner</td>\n",
       "      <td>Cat</td>\n",
       "      <td>Intact Male</td>\n",
       "      <td>3 weeks</td>\n",
       "      <td>Domestic Shorthair Mix</td>\n",
       "      <td>Blue Cream</td>\n",
       "    </tr>\n",
       "    <tr>\n",
       "      <th>4</th>\n",
       "      <td>A667013</td>\n",
       "      <td>NaN</td>\n",
       "      <td>2013-11-15 12:52:00</td>\n",
       "      <td>Transfer</td>\n",
       "      <td>Partner</td>\n",
       "      <td>Dog</td>\n",
       "      <td>Neutered Male</td>\n",
       "      <td>2 years</td>\n",
       "      <td>Lhasa Apso/Miniature Poodle</td>\n",
       "      <td>Tan</td>\n",
       "    </tr>\n",
       "  </tbody>\n",
       "</table>\n",
       "</div>"
      ],
      "text/plain": [
       "  AnimalID     Name             DateTime      OutcomeType OutcomeSubtype  \\\n",
       "0  A671945  Hambone  2014-02-12 18:22:00  Return_to_owner            NaN   \n",
       "1  A656520    Emily  2013-10-13 12:44:00       Euthanasia      Suffering   \n",
       "2  A686464   Pearce  2015-01-31 12:28:00         Adoption         Foster   \n",
       "3  A683430      NaN  2014-07-11 19:09:00         Transfer        Partner   \n",
       "4  A667013      NaN  2013-11-15 12:52:00         Transfer        Partner   \n",
       "\n",
       "  AnimalType SexuponOutcome AgeuponOutcome                        Breed  \\\n",
       "0        Dog  Neutered Male         1 year        Shetland Sheepdog Mix   \n",
       "1        Cat  Spayed Female         1 year       Domestic Shorthair Mix   \n",
       "2        Dog  Neutered Male        2 years                 Pit Bull Mix   \n",
       "3        Cat    Intact Male        3 weeks       Domestic Shorthair Mix   \n",
       "4        Dog  Neutered Male        2 years  Lhasa Apso/Miniature Poodle   \n",
       "\n",
       "         Color  \n",
       "0  Brown/White  \n",
       "1  Cream Tabby  \n",
       "2   Blue/White  \n",
       "3   Blue Cream  \n",
       "4          Tan  "
      ]
     },
     "execution_count": 4,
     "metadata": {},
     "output_type": "execute_result"
    }
   ],
   "source": [
    "data.head()"
   ]
  },
  {
   "cell_type": "code",
   "execution_count": 6,
   "metadata": {},
   "outputs": [
    {
     "data": {
      "text/plain": [
       "AnimalID              0\n",
       "Name               7691\n",
       "DateTime              0\n",
       "OutcomeType           0\n",
       "OutcomeSubtype    13612\n",
       "AnimalType            0\n",
       "SexuponOutcome        1\n",
       "AgeuponOutcome       18\n",
       "Breed                 0\n",
       "Color                 0\n",
       "dtype: int64"
      ]
     },
     "execution_count": 6,
     "metadata": {},
     "output_type": "execute_result"
    }
   ],
   "source": [
    "data.isnull().sum()"
   ]
  },
  {
   "cell_type": "code",
   "execution_count": 40,
   "metadata": {},
   "outputs": [
    {
     "data": {
      "text/plain": [
       "Adoption           10769\n",
       "Transfer            9422\n",
       "Return_to_owner     4786\n",
       "Euthanasia          1555\n",
       "Died                 197\n",
       "Name: OutcomeType, dtype: int64"
      ]
     },
     "execution_count": 40,
     "metadata": {},
     "output_type": "execute_result"
    }
   ],
   "source": [
    "data.OutcomeType.value_counts()"
   ]
  },
  {
   "cell_type": "markdown",
   "metadata": {},
   "source": [
    "## 1. Formatting and Analyzing Individual Features\n",
    "Before I start predicting outcomes, I need to format features to be suitable for analyses and see their individual relationship to the outcomes. "
   ]
  },
  {
   "cell_type": "markdown",
   "metadata": {},
   "source": [
    "### a. Animal Type"
   ]
  },
  {
   "cell_type": "code",
   "execution_count": 21,
   "metadata": {},
   "outputs": [
    {
     "data": {
      "text/plain": [
       "AnimalType  OutcomeType    \n",
       "Cat         Transfer           0.205956\n",
       "            Adoption           0.159826\n",
       "            Euthanasia         0.026563\n",
       "            Return_to_owner    0.018706\n",
       "            Died               0.005500\n",
       "Dog         Adoption           0.243069\n",
       "            Return_to_owner    0.160350\n",
       "            Transfer           0.146545\n",
       "            Euthanasia         0.031614\n",
       "            Died               0.001871\n",
       "Name: OutcomeType, dtype: float64"
      ]
     },
     "execution_count": 21,
     "metadata": {},
     "output_type": "execute_result"
    }
   ],
   "source": [
    "AnimalTypeGroup = data.groupby('AnimalType')\n",
    "AnimalTypeGroup.OutcomeType.value_counts() / data.AnimalType.value_counts().sum()"
   ]
  },
  {
   "cell_type": "code",
   "execution_count": 24,
   "metadata": {},
   "outputs": [],
   "source": [
    "# convert animal type to binary value\n",
    "# Dog = 1, Cat = 0\n",
    "data[\"AnimalTypeNum\"] = pd.get_dummies(data.AnimalType).astype(int)['Dog']\n",
    "\n",
    "#(data.AnimalType=='Dog').astype(int) "
   ]
  },
  {
   "cell_type": "code",
   "execution_count": 22,
   "metadata": {},
   "outputs": [
    {
     "data": {
      "text/plain": [
       "Dog    15595\n",
       "Cat    11134\n",
       "Name: AnimalType, dtype: int64"
      ]
     },
     "execution_count": 22,
     "metadata": {},
     "output_type": "execute_result"
    }
   ],
   "source": [
    "data.AnimalType.value_counts()"
   ]
  },
  {
   "cell_type": "code",
   "execution_count": 25,
   "metadata": {},
   "outputs": [
    {
     "data": {
      "text/plain": [
       "1    15595\n",
       "0    11134\n",
       "Name: AnimalTypeNum, dtype: int64"
      ]
     },
     "execution_count": 25,
     "metadata": {},
     "output_type": "execute_result"
    }
   ],
   "source": [
    "data.AnimalTypeNum.value_counts()"
   ]
  },
  {
   "cell_type": "markdown",
   "metadata": {},
   "source": [
    "### b. Format DateTime"
   ]
  },
  {
   "cell_type": "code",
   "execution_count": 26,
   "metadata": {},
   "outputs": [],
   "source": [
    "#format Datetime\n",
    "data['DateTime'] = pd.to_datetime(data['DateTime'])"
   ]
  },
  {
   "cell_type": "code",
   "execution_count": 27,
   "metadata": {},
   "outputs": [],
   "source": [
    "dataAge = data.AgeuponOutcome.tolist()"
   ]
  },
  {
   "cell_type": "code",
   "execution_count": 33,
   "metadata": {},
   "outputs": [],
   "source": [
    "# create list of age in days\n",
    "AgeinDays = []\n",
    "for i in dataAge:\n",
    "    try:\n",
    "        num = (i.split()[0])\n",
    "        letter = (i.split()[1][0])\n",
    "        if(letter == 'y'):\n",
    "            days = int(num)*365\n",
    "        elif(letter == 'm'):\n",
    "            days = int(num)*30\n",
    "        elif(letter == 'w'):\n",
    "            days = int(num)*7\n",
    "        else:\n",
    "            days = int(num)\n",
    "        AgeinDays.append(days)\n",
    "    except:\n",
    "        AgeinDays.append(np.nan)"
   ]
  },
  {
   "cell_type": "code",
   "execution_count": 34,
   "metadata": {
    "scrolled": true
   },
   "outputs": [
    {
     "data": {
      "text/plain": [
       "[365,\n",
       " 365,\n",
       " 730,\n",
       " 21,\n",
       " 730,\n",
       " 30,\n",
       " 21,\n",
       " 21,\n",
       " 150,\n",
       " 365,\n",
       " 730,\n",
       " 730,\n",
       " 1460,\n",
       " 730,\n",
       " 365,\n",
       " 90,\n",
       " 21,\n",
       " 14,\n",
       " 730,\n",
       " 365]"
      ]
     },
     "execution_count": 34,
     "metadata": {},
     "output_type": "execute_result"
    }
   ],
   "source": [
    "# check list\n",
    "AgeinDays[:20]"
   ]
  },
  {
   "cell_type": "code",
   "execution_count": 35,
   "metadata": {},
   "outputs": [],
   "source": [
    "# append numerical age column to data set\n",
    "data['AgeinDays'] = AgeinDays"
   ]
  },
  {
   "cell_type": "code",
   "execution_count": 38,
   "metadata": {},
   "outputs": [
    {
     "data": {
      "text/plain": [
       "18"
      ]
     },
     "execution_count": 38,
     "metadata": {},
     "output_type": "execute_result"
    }
   ],
   "source": [
    "data.AgeinDays.isnull().sum()"
   ]
  },
  {
   "cell_type": "code",
   "execution_count": 42,
   "metadata": {},
   "outputs": [
    {
     "data": {
      "text/plain": [
       "365.0"
      ]
     },
     "execution_count": 42,
     "metadata": {},
     "output_type": "execute_result"
    }
   ],
   "source": [
    "age_median =  data.AgeinDays.median()\n",
    "age_median"
   ]
  },
  {
   "cell_type": "code",
   "execution_count": 43,
   "metadata": {},
   "outputs": [
    {
     "data": {
      "text/plain": [
       "0"
      ]
     },
     "execution_count": 43,
     "metadata": {},
     "output_type": "execute_result"
    }
   ],
   "source": [
    "data.AgeinDays.fillna(age_median, inplace=True)\n",
    "data.AgeinDays.isnull().sum()"
   ]
  },
  {
   "cell_type": "code",
   "execution_count": 44,
   "metadata": {},
   "outputs": [
    {
     "data": {
      "text/html": [
       "<div>\n",
       "<style scoped>\n",
       "    .dataframe tbody tr th:only-of-type {\n",
       "        vertical-align: middle;\n",
       "    }\n",
       "\n",
       "    .dataframe tbody tr th {\n",
       "        vertical-align: top;\n",
       "    }\n",
       "\n",
       "    .dataframe thead th {\n",
       "        text-align: right;\n",
       "    }\n",
       "</style>\n",
       "<table border=\"1\" class=\"dataframe\">\n",
       "  <thead>\n",
       "    <tr style=\"text-align: right;\">\n",
       "      <th></th>\n",
       "      <th>AnimalID</th>\n",
       "      <th>Name</th>\n",
       "      <th>DateTime</th>\n",
       "      <th>OutcomeType</th>\n",
       "      <th>OutcomeSubtype</th>\n",
       "      <th>AnimalType</th>\n",
       "      <th>SexuponOutcome</th>\n",
       "      <th>Breed</th>\n",
       "      <th>Color</th>\n",
       "      <th>AnimalTypeNum</th>\n",
       "      <th>AgeinDays</th>\n",
       "    </tr>\n",
       "  </thead>\n",
       "  <tbody>\n",
       "    <tr>\n",
       "      <th>0</th>\n",
       "      <td>A671945</td>\n",
       "      <td>Hambone</td>\n",
       "      <td>2014-02-12 18:22:00</td>\n",
       "      <td>Return_to_owner</td>\n",
       "      <td>NaN</td>\n",
       "      <td>Dog</td>\n",
       "      <td>Neutered Male</td>\n",
       "      <td>Shetland Sheepdog Mix</td>\n",
       "      <td>Brown/White</td>\n",
       "      <td>1</td>\n",
       "      <td>365.0</td>\n",
       "    </tr>\n",
       "    <tr>\n",
       "      <th>1</th>\n",
       "      <td>A656520</td>\n",
       "      <td>Emily</td>\n",
       "      <td>2013-10-13 12:44:00</td>\n",
       "      <td>Euthanasia</td>\n",
       "      <td>Suffering</td>\n",
       "      <td>Cat</td>\n",
       "      <td>Spayed Female</td>\n",
       "      <td>Domestic Shorthair Mix</td>\n",
       "      <td>Cream Tabby</td>\n",
       "      <td>0</td>\n",
       "      <td>365.0</td>\n",
       "    </tr>\n",
       "    <tr>\n",
       "      <th>2</th>\n",
       "      <td>A686464</td>\n",
       "      <td>Pearce</td>\n",
       "      <td>2015-01-31 12:28:00</td>\n",
       "      <td>Adoption</td>\n",
       "      <td>Foster</td>\n",
       "      <td>Dog</td>\n",
       "      <td>Neutered Male</td>\n",
       "      <td>Pit Bull Mix</td>\n",
       "      <td>Blue/White</td>\n",
       "      <td>1</td>\n",
       "      <td>730.0</td>\n",
       "    </tr>\n",
       "    <tr>\n",
       "      <th>3</th>\n",
       "      <td>A683430</td>\n",
       "      <td>NaN</td>\n",
       "      <td>2014-07-11 19:09:00</td>\n",
       "      <td>Transfer</td>\n",
       "      <td>Partner</td>\n",
       "      <td>Cat</td>\n",
       "      <td>Intact Male</td>\n",
       "      <td>Domestic Shorthair Mix</td>\n",
       "      <td>Blue Cream</td>\n",
       "      <td>0</td>\n",
       "      <td>21.0</td>\n",
       "    </tr>\n",
       "    <tr>\n",
       "      <th>4</th>\n",
       "      <td>A667013</td>\n",
       "      <td>NaN</td>\n",
       "      <td>2013-11-15 12:52:00</td>\n",
       "      <td>Transfer</td>\n",
       "      <td>Partner</td>\n",
       "      <td>Dog</td>\n",
       "      <td>Neutered Male</td>\n",
       "      <td>Lhasa Apso/Miniature Poodle</td>\n",
       "      <td>Tan</td>\n",
       "      <td>1</td>\n",
       "      <td>730.0</td>\n",
       "    </tr>\n",
       "  </tbody>\n",
       "</table>\n",
       "</div>"
      ],
      "text/plain": [
       "  AnimalID     Name            DateTime      OutcomeType OutcomeSubtype  \\\n",
       "0  A671945  Hambone 2014-02-12 18:22:00  Return_to_owner            NaN   \n",
       "1  A656520    Emily 2013-10-13 12:44:00       Euthanasia      Suffering   \n",
       "2  A686464   Pearce 2015-01-31 12:28:00         Adoption         Foster   \n",
       "3  A683430      NaN 2014-07-11 19:09:00         Transfer        Partner   \n",
       "4  A667013      NaN 2013-11-15 12:52:00         Transfer        Partner   \n",
       "\n",
       "  AnimalType SexuponOutcome                        Breed        Color  \\\n",
       "0        Dog  Neutered Male        Shetland Sheepdog Mix  Brown/White   \n",
       "1        Cat  Spayed Female       Domestic Shorthair Mix  Cream Tabby   \n",
       "2        Dog  Neutered Male                 Pit Bull Mix   Blue/White   \n",
       "3        Cat    Intact Male       Domestic Shorthair Mix   Blue Cream   \n",
       "4        Dog  Neutered Male  Lhasa Apso/Miniature Poodle          Tan   \n",
       "\n",
       "   AnimalTypeNum  AgeinDays  \n",
       "0              1      365.0  \n",
       "1              0      365.0  \n",
       "2              1      730.0  \n",
       "3              0       21.0  \n",
       "4              1      730.0  "
      ]
     },
     "execution_count": 44,
     "metadata": {},
     "output_type": "execute_result"
    }
   ],
   "source": [
    "del data['AgeuponOutcome']\n",
    "data.head()"
   ]
  },
  {
   "cell_type": "code",
   "execution_count": 45,
   "metadata": {},
   "outputs": [
    {
     "data": {
      "text/plain": [
       "<matplotlib.axes._subplots.AxesSubplot at 0x110c37ac8>"
      ]
     },
     "execution_count": 45,
     "metadata": {},
     "output_type": "execute_result"
    },
    {
     "data": {
      "image/png": "[encoded data removed]",
      "text/plain": [
       "<matplotlib.figure.Figure at 0x110c2fb70>"
      ]
     },
     "metadata": {},
     "output_type": "display_data"
    }
   ],
   "source": [
    "data.AgeinDays.hist()"
   ]
  },
  {
   "cell_type": "markdown",
   "metadata": {},
   "source": [
    "### c. Breed Data"
   ]
  },
  {
   "cell_type": "code",
   "execution_count": 48,
   "metadata": {},
   "outputs": [
    {
     "data": {
      "text/plain": [
       "[True, True, True, True, False, False, True, True, True, False]"
      ]
     },
     "execution_count": 48,
     "metadata": {},
     "output_type": "execute_result"
    }
   ],
   "source": [
    "# create column to identify mixed breeds\n",
    "mixMask = ['Mix' in breed for breed in data.Breed.tolist()]\n",
    "mixMask[:10]"
   ]
  },
  {
   "cell_type": "code",
   "execution_count": 50,
   "metadata": {},
   "outputs": [
    {
     "data": {
      "text/html": [
       "<div>\n",
       "<style scoped>\n",
       "    .dataframe tbody tr th:only-of-type {\n",
       "        vertical-align: middle;\n",
       "    }\n",
       "\n",
       "    .dataframe tbody tr th {\n",
       "        vertical-align: top;\n",
       "    }\n",
       "\n",
       "    .dataframe thead th {\n",
       "        text-align: right;\n",
       "    }\n",
       "</style>\n",
       "<table border=\"1\" class=\"dataframe\">\n",
       "  <thead>\n",
       "    <tr style=\"text-align: right;\">\n",
       "      <th></th>\n",
       "      <th>AnimalID</th>\n",
       "      <th>Name</th>\n",
       "      <th>DateTime</th>\n",
       "      <th>OutcomeType</th>\n",
       "      <th>OutcomeSubtype</th>\n",
       "      <th>AnimalType</th>\n",
       "      <th>SexuponOutcome</th>\n",
       "      <th>Breed</th>\n",
       "      <th>Color</th>\n",
       "      <th>AnimalTypeNum</th>\n",
       "      <th>AgeinDays</th>\n",
       "      <th>MixedBreed</th>\n",
       "    </tr>\n",
       "  </thead>\n",
       "  <tbody>\n",
       "    <tr>\n",
       "      <th>0</th>\n",
       "      <td>A671945</td>\n",
       "      <td>Hambone</td>\n",
       "      <td>2014-02-12 18:22:00</td>\n",
       "      <td>Return_to_owner</td>\n",
       "      <td>NaN</td>\n",
       "      <td>Dog</td>\n",
       "      <td>Neutered Male</td>\n",
       "      <td>Shetland Sheepdog Mix</td>\n",
       "      <td>Brown/White</td>\n",
       "      <td>1</td>\n",
       "      <td>365.0</td>\n",
       "      <td>1</td>\n",
       "    </tr>\n",
       "    <tr>\n",
       "      <th>1</th>\n",
       "      <td>A656520</td>\n",
       "      <td>Emily</td>\n",
       "      <td>2013-10-13 12:44:00</td>\n",
       "      <td>Euthanasia</td>\n",
       "      <td>Suffering</td>\n",
       "      <td>Cat</td>\n",
       "      <td>Spayed Female</td>\n",
       "      <td>Domestic Shorthair Mix</td>\n",
       "      <td>Cream Tabby</td>\n",
       "      <td>0</td>\n",
       "      <td>365.0</td>\n",
       "      <td>1</td>\n",
       "    </tr>\n",
       "    <tr>\n",
       "      <th>2</th>\n",
       "      <td>A686464</td>\n",
       "      <td>Pearce</td>\n",
       "      <td>2015-01-31 12:28:00</td>\n",
       "      <td>Adoption</td>\n",
       "      <td>Foster</td>\n",
       "      <td>Dog</td>\n",
       "      <td>Neutered Male</td>\n",
       "      <td>Pit Bull Mix</td>\n",
       "      <td>Blue/White</td>\n",
       "      <td>1</td>\n",
       "      <td>730.0</td>\n",
       "      <td>1</td>\n",
       "    </tr>\n",
       "    <tr>\n",
       "      <th>3</th>\n",
       "      <td>A683430</td>\n",
       "      <td>NaN</td>\n",
       "      <td>2014-07-11 19:09:00</td>\n",
       "      <td>Transfer</td>\n",
       "      <td>Partner</td>\n",
       "      <td>Cat</td>\n",
       "      <td>Intact Male</td>\n",
       "      <td>Domestic Shorthair Mix</td>\n",
       "      <td>Blue Cream</td>\n",
       "      <td>0</td>\n",
       "      <td>21.0</td>\n",
       "      <td>1</td>\n",
       "    </tr>\n",
       "    <tr>\n",
       "      <th>4</th>\n",
       "      <td>A667013</td>\n",
       "      <td>NaN</td>\n",
       "      <td>2013-11-15 12:52:00</td>\n",
       "      <td>Transfer</td>\n",
       "      <td>Partner</td>\n",
       "      <td>Dog</td>\n",
       "      <td>Neutered Male</td>\n",
       "      <td>Lhasa Apso/Miniature Poodle</td>\n",
       "      <td>Tan</td>\n",
       "      <td>1</td>\n",
       "      <td>730.0</td>\n",
       "      <td>0</td>\n",
       "    </tr>\n",
       "  </tbody>\n",
       "</table>\n",
       "</div>"
      ],
      "text/plain": [
       "  AnimalID     Name            DateTime      OutcomeType OutcomeSubtype  \\\n",
       "0  A671945  Hambone 2014-02-12 18:22:00  Return_to_owner            NaN   \n",
       "1  A656520    Emily 2013-10-13 12:44:00       Euthanasia      Suffering   \n",
       "2  A686464   Pearce 2015-01-31 12:28:00         Adoption         Foster   \n",
       "3  A683430      NaN 2014-07-11 19:09:00         Transfer        Partner   \n",
       "4  A667013      NaN 2013-11-15 12:52:00         Transfer        Partner   \n",
       "\n",
       "  AnimalType SexuponOutcome                        Breed        Color  \\\n",
       "0        Dog  Neutered Male        Shetland Sheepdog Mix  Brown/White   \n",
       "1        Cat  Spayed Female       Domestic Shorthair Mix  Cream Tabby   \n",
       "2        Dog  Neutered Male                 Pit Bull Mix   Blue/White   \n",
       "3        Cat    Intact Male       Domestic Shorthair Mix   Blue Cream   \n",
       "4        Dog  Neutered Male  Lhasa Apso/Miniature Poodle          Tan   \n",
       "\n",
       "   AnimalTypeNum  AgeinDays  MixedBreed  \n",
       "0              1      365.0           1  \n",
       "1              0      365.0           1  \n",
       "2              1      730.0           1  \n",
       "3              0       21.0           1  \n",
       "4              1      730.0           0  "
      ]
     },
     "execution_count": 50,
     "metadata": {},
     "output_type": "execute_result"
    }
   ],
   "source": [
    "data['MixedBreed'] = mixMask\n",
    "data.MixedBreed = data.MixedBreed.astype(int)\n",
    "data.head()"
   ]
  },
  {
   "cell_type": "code",
   "execution_count": 87,
   "metadata": {},
   "outputs": [
    {
     "data": {
      "text/plain": [
       "Domestic Shorthair Mix                                 0.329605\n",
       "Pit Bull Mix                                           0.400913\n",
       "Chihuahua Shorthair Mix                                0.466983\n",
       "Labrador Retriever Mix                                 0.517977\n",
       "Domestic Medium Hair Mix                               0.549366\n",
       "German Shepherd Mix                                    0.570878\n",
       "Domestic Longhair Mix                                  0.590333\n",
       "Siamese Mix                                            0.604886\n",
       "Australian Cattle Dog Mix                              0.618616\n",
       "Dachshund Mix                                          0.630514\n",
       "Boxer Mix                                              0.639680\n",
       "Miniature Poodle Mix                                   0.648397\n",
       "Border Collie Mix                                      0.656964\n",
       "Australian Shepherd Mix                                0.663063\n",
       "Catahoula Mix                                          0.668936\n",
       "Rat Terrier Mix                                        0.674810\n",
       "Jack Russell Terrier Mix                               0.680272\n",
       "Yorkshire Terrier Mix                                  0.685622\n",
       "Domestic Shorthair                                     0.690972\n",
       "Chihuahua Longhair Mix                                 0.696285\n",
       "Siberian Husky Mix                                     0.701448\n",
       "Miniature Schnauzer Mix                                0.706536\n",
       "Beagle Mix                                             0.711175\n",
       "Rottweiler Mix                                         0.715403\n",
       "American Bulldog Mix                                   0.719481\n",
       "Cairn Terrier Mix                                      0.723297\n",
       "Shih Tzu Mix                                           0.727038\n",
       "Chihuahua Shorthair/Dachshund                          0.730704\n",
       "Australian Kelpie Mix                                  0.734259\n",
       "Staffordshire Mix                                      0.737775\n",
       "                                                         ...   \n",
       "Jack Russell Terrier/American Staffordshire Terrier    0.998915\n",
       "Catahoula/Bulldog                                      0.998952\n",
       "Welsh Springer Spaniel Mix                             0.998990\n",
       "Dachshund Longhair/Pomeranian                          0.999027\n",
       "Labrador Retriever/English Pointer                     0.999065\n",
       "Siberian Husky/Beagle                                  0.999102\n",
       "Whippet/Miniature Pinscher                             0.999140\n",
       "Chihuahua Shorthair/French Bulldog                     0.999177\n",
       "Chinese Sharpei/Basset Hound                           0.999214\n",
       "Standard Schnauzer/Border Terrier                      0.999252\n",
       "Australian Kelpie/Labrador Retriever                   0.999289\n",
       "Akita/Labrador Retriever                               0.999327\n",
       "English Bulldog/Boxer                                  0.999364\n",
       "Yorkshire Terrier/Dachshund Wirehair                   0.999401\n",
       "Plott Hound/Carolina Dog                               0.999439\n",
       "Carolina Dog/Australian Cattle Dog                     0.999476\n",
       "Domestic Shorthair/Manx                                0.999514\n",
       "Black Mouth Cur/Blue Lacy                              0.999551\n",
       "Rat Terrier/Jack Russell Terrier                       0.999588\n",
       "Labrador Retriever/Beauceron                           0.999626\n",
       "Papillon                                               0.999663\n",
       "Pug/Italian Greyhound                                  0.999701\n",
       "Jack Russell Terrier/Cardigan Welsh Corgi              0.999738\n",
       "Blue Lacy/Collie Smooth                                0.999776\n",
       "Lhasa Apso/Cocker Spaniel                              0.999813\n",
       "Dachshund Longhair/Pembroke Welsh Corgi                0.999850\n",
       "Australian Shepherd/Alaskan Malamute                   0.999888\n",
       "Chinese Crested/Chihuahua Longhair                     0.999925\n",
       "Manx                                                   0.999963\n",
       "Pointer/Rhod Ridgeback                                 1.000000\n",
       "Name: Breed, Length: 1380, dtype: float64"
      ]
     },
     "execution_count": 87,
     "metadata": {},
     "output_type": "execute_result"
    }
   ],
   "source": [
    "(data.Breed.value_counts()/data.shape[0]).cumsum()"
   ]
  },
  {
   "cell_type": "markdown",
   "metadata": {},
   "source": [
    "### d. Sex and Sterilization"
   ]
  },
  {
   "cell_type": "markdown",
   "metadata": {},
   "source": [
    "Sex and Sterilization are two distinct features so it makes more sense to separate it into two columns instead of individual dummy columns. "
   ]
  },
  {
   "cell_type": "code",
   "execution_count": 55,
   "metadata": {},
   "outputs": [
    {
     "data": {
      "text/plain": [
       "Neutered Male    9779\n",
       "Spayed Female    8820\n",
       "Intact Male      3525\n",
       "Intact Female    3511\n",
       "Unknown          1093\n",
       "9779                1\n",
       "Name: SexuponOutcome, dtype: int64"
      ]
     },
     "execution_count": 55,
     "metadata": {},
     "output_type": "execute_result"
    }
   ],
   "source": [
    "data.SexuponOutcome.value_counts()"
   ]
  },
  {
   "cell_type": "code",
   "execution_count": 154,
   "metadata": {},
   "outputs": [],
   "source": [
    "data.SexuponOutcome.replace(to_replace= 9779, value= \"Unknown\", inplace=True)"
   ]
  },
  {
   "cell_type": "code",
   "execution_count": 152,
   "metadata": {},
   "outputs": [
    {
     "data": {
      "text/plain": [
       "Neutered Male    9779\n",
       "Spayed Female    8820\n",
       "Intact Male      3525\n",
       "Intact Female    3511\n",
       "Unknown          1094\n",
       "Name: SexuponOutcome, dtype: int64"
      ]
     },
     "execution_count": 152,
     "metadata": {},
     "output_type": "execute_result"
    }
   ],
   "source": [
    "# Fill missing value\n",
    "most_frequent = data.SexuponOutcome.value_counts()[0]\n",
    "data.SexuponOutcome.fillna(most_frequent, inplace=True)\n",
    "data.SexuponOutcome.value_counts()"
   ]
  },
  {
   "cell_type": "code",
   "execution_count": 68,
   "metadata": {},
   "outputs": [],
   "source": [
    "# Separate SexuponOutcome column into Sex and Neutered/Spayed \n",
    "# Female = 1 and Intact = 1\n",
    "sexMask = ['Female' in sex for sex in data.SexuponOutcome.tolist()]\n",
    "sterileMask = ['Intact' in fix for fix in data.SexuponOutcome.tolist()]"
   ]
  },
  {
   "cell_type": "code",
   "execution_count": 83,
   "metadata": {},
   "outputs": [],
   "source": [
    "data['Sex'] = sexMask\n",
    "data['Sterile'] = sterileMask\n",
    "data.Sex = data.Sex.astype(int)\n",
    "data.Sterile = data.Sterile.astype(int)"
   ]
  },
  {
   "cell_type": "code",
   "execution_count": 85,
   "metadata": {},
   "outputs": [
    {
     "data": {
      "text/plain": [
       "0    14398\n",
       "1    12331\n",
       "Name: Sex, dtype: int64"
      ]
     },
     "execution_count": 85,
     "metadata": {},
     "output_type": "execute_result"
    }
   ],
   "source": [
    "data.Sex.value_counts() "
   ]
  },
  {
   "cell_type": "code",
   "execution_count": 86,
   "metadata": {},
   "outputs": [
    {
     "data": {
      "text/plain": [
       "0    19693\n",
       "1     7036\n",
       "Name: Sterile, dtype: int64"
      ]
     },
     "execution_count": 86,
     "metadata": {},
     "output_type": "execute_result"
    }
   ],
   "source": [
    "data.Sterile.value_counts()"
   ]
  },
  {
   "cell_type": "code",
   "execution_count": null,
   "metadata": {},
   "outputs": [],
   "source": []
  },
  {
   "cell_type": "markdown",
   "metadata": {},
   "source": [
    "### e. Color"
   ]
  },
  {
   "cell_type": "code",
   "execution_count": 88,
   "metadata": {},
   "outputs": [
    {
     "data": {
      "text/plain": [
       "Black/White                    2824\n",
       "Black                          2292\n",
       "Brown Tabby                    1635\n",
       "Brown Tabby/White               940\n",
       "White                           931\n",
       "Brown/White                     884\n",
       "Orange Tabby                    841\n",
       "Tan/White                       773\n",
       "Tricolor                        752\n",
       "Blue/White                      702\n",
       "Black/Tan                       672\n",
       "White/Black                     643\n",
       "Brown                           639\n",
       "Tan                             628\n",
       "White/Brown                     569\n",
       "Tortie                          530\n",
       "Calico                          517\n",
       "Orange Tabby/White              455\n",
       "Blue                            450\n",
       "Brown Brindle/White             450\n",
       "Black/Brown                     436\n",
       "Blue Tabby                      433\n",
       "White/Tan                       389\n",
       "Red                             337\n",
       "Torbie                          335\n",
       "Brown/Black                     333\n",
       "Red/White                       331\n",
       "Blue Tabby/White                241\n",
       "Brown Brindle                   232\n",
       "Chocolate/White                 224\n",
       "                               ... \n",
       "Lynx Point/Brown Tabby            1\n",
       "Red/Silver                        1\n",
       "Blue/Tortie                       1\n",
       "Red Merle/Tan                     1\n",
       "White/Brown Tiger                 1\n",
       "Brown/Brown Merle                 1\n",
       "Red Tick/Black                    1\n",
       "Brown/Blue Smoke                  1\n",
       "Yellow Brindle/Tan                1\n",
       "Chocolate/Gray                    1\n",
       "Gold/Tan                          1\n",
       "Sable/Red                         1\n",
       "Tan/Brown Brindle                 1\n",
       "Black Brindle/Brown Brindle       1\n",
       "Chocolate/Cream                   1\n",
       "Blue Tick/Red                     1\n",
       "Tricolor/Calico                   1\n",
       "Blue Cream/Buff                   1\n",
       "Blue Merle/Blue Merle             1\n",
       "Calico/Blue Cream                 1\n",
       "Brown Tabby/Gray Tabby            1\n",
       "Orange Tabby/Black                1\n",
       "Blue Tiger                        1\n",
       "Pink                              1\n",
       "Brown/Blue                        1\n",
       "Buff/Red                          1\n",
       "Brown Brindle/Brown Merle         1\n",
       "Cream/Seal Point                  1\n",
       "Brown/Black Brindle               1\n",
       "Tan/Apricot                       1\n",
       "Name: Color, Length: 366, dtype: int64"
      ]
     },
     "execution_count": 88,
     "metadata": {},
     "output_type": "execute_result"
    }
   ],
   "source": [
    "data.Color.value_counts()"
   ]
  },
  {
   "cell_type": "code",
   "execution_count": 122,
   "metadata": {},
   "outputs": [
    {
     "name": "stdout",
     "output_type": "stream",
     "text": [
      "57\n"
     ]
    },
    {
     "data": {
      "text/plain": [
       "26729"
      ]
     },
     "execution_count": 122,
     "metadata": {},
     "output_type": "execute_result"
    }
   ],
   "source": [
    "data[['FirstColor','SecondColor']] = data.Color.str.split(\"/\", expand=True)\n",
    "print(data.FirstColor.nunique())\n",
    "data.FirstColor.value_counts().sum()"
   ]
  },
  {
   "cell_type": "code",
   "execution_count": 125,
   "metadata": {},
   "outputs": [
    {
     "data": {
      "text/plain": [
       "13924"
      ]
     },
     "execution_count": 125,
     "metadata": {},
     "output_type": "execute_result"
    }
   ],
   "source": [
    "data.SecondColor.value_counts().sum()"
   ]
  },
  {
   "cell_type": "code",
   "execution_count": 121,
   "metadata": {},
   "outputs": [
    {
     "data": {
      "text/plain": [
       "AnimalType  FirstColor     \n",
       "Cat         Brown Tabby        2592\n",
       "            Black              2548\n",
       "            Orange Tabby       1299\n",
       "            Blue Tabby          678\n",
       "            Blue                677\n",
       "            White               595\n",
       "            Tortie              580\n",
       "            Calico              552\n",
       "            Torbie              398\n",
       "            Cream Tabby         277\n",
       "            Lynx Point          183\n",
       "            Seal Point          158\n",
       "            Flame Point          85\n",
       "            Black Tabby          61\n",
       "            Black Smoke          57\n",
       "            Gray Tabby           51\n",
       "            Silver Tabby         41\n",
       "            Lilac Point          39\n",
       "            Orange               38\n",
       "            Tortie Point         34\n",
       "            Gray                 32\n",
       "            Blue Point           31\n",
       "            Calico Point         27\n",
       "            Chocolate Point      21\n",
       "            Cream                21\n",
       "            Blue Cream           15\n",
       "            Chocolate            15\n",
       "            Brown                 6\n",
       "            Buff                  5\n",
       "            Blue Smoke            4\n",
       "                               ... \n",
       "Dog         Red                 779\n",
       "            Brown Brindle       699\n",
       "            Blue                522\n",
       "            Chocolate           433\n",
       "            Sable               324\n",
       "            Buff                262\n",
       "            Yellow              230\n",
       "            Fawn                209\n",
       "            Cream               200\n",
       "            Gray                195\n",
       "            Blue Merle          165\n",
       "            Black Brindle        99\n",
       "            Gold                 77\n",
       "            Brown Merle          72\n",
       "            Red Merle            52\n",
       "            Silver               51\n",
       "            Blue Tick            44\n",
       "            Red Tick             40\n",
       "            Yellow Brindle       31\n",
       "            Apricot              26\n",
       "            Liver                15\n",
       "            Blue Tiger            8\n",
       "            Black Smoke           5\n",
       "            Orange                5\n",
       "            Blue Cream            4\n",
       "            Liver Tick            4\n",
       "            Brown Tiger           2\n",
       "            Black Tiger           1\n",
       "            Blue Smoke            1\n",
       "            Ruddy                 1\n",
       "Name: FirstColor, Length: 74, dtype: int64"
      ]
     },
     "execution_count": 121,
     "metadata": {},
     "output_type": "execute_result"
    }
   ],
   "source": [
    "AnimalTypeGroup.FirstColor.value_counts()"
   ]
  },
  {
   "cell_type": "code",
   "execution_count": 126,
   "metadata": {},
   "outputs": [
    {
     "data": {
      "text/html": [
       "<div>\n",
       "<style scoped>\n",
       "    .dataframe tbody tr th:only-of-type {\n",
       "        vertical-align: middle;\n",
       "    }\n",
       "\n",
       "    .dataframe tbody tr th {\n",
       "        vertical-align: top;\n",
       "    }\n",
       "\n",
       "    .dataframe thead th {\n",
       "        text-align: right;\n",
       "    }\n",
       "</style>\n",
       "<table border=\"1\" class=\"dataframe\">\n",
       "  <thead>\n",
       "    <tr style=\"text-align: right;\">\n",
       "      <th></th>\n",
       "      <th>AnimalID</th>\n",
       "      <th>Name</th>\n",
       "      <th>DateTime</th>\n",
       "      <th>OutcomeType</th>\n",
       "      <th>OutcomeSubtype</th>\n",
       "      <th>AnimalType</th>\n",
       "      <th>SexuponOutcome</th>\n",
       "      <th>Breed</th>\n",
       "      <th>Color</th>\n",
       "      <th>AnimalTypeNum</th>\n",
       "      <th>AgeinDays</th>\n",
       "      <th>MixedBreed</th>\n",
       "      <th>Sex</th>\n",
       "      <th>Sterile</th>\n",
       "      <th>FirstColor</th>\n",
       "      <th>SecondColor</th>\n",
       "    </tr>\n",
       "  </thead>\n",
       "  <tbody>\n",
       "    <tr>\n",
       "      <th>0</th>\n",
       "      <td>A671945</td>\n",
       "      <td>Hambone</td>\n",
       "      <td>2014-02-12 18:22:00</td>\n",
       "      <td>Return_to_owner</td>\n",
       "      <td>NaN</td>\n",
       "      <td>Dog</td>\n",
       "      <td>Neutered Male</td>\n",
       "      <td>Shetland Sheepdog Mix</td>\n",
       "      <td>Brown/White</td>\n",
       "      <td>1</td>\n",
       "      <td>365.0</td>\n",
       "      <td>1</td>\n",
       "      <td>0</td>\n",
       "      <td>0</td>\n",
       "      <td>Brown</td>\n",
       "      <td>White</td>\n",
       "    </tr>\n",
       "    <tr>\n",
       "      <th>1</th>\n",
       "      <td>A656520</td>\n",
       "      <td>Emily</td>\n",
       "      <td>2013-10-13 12:44:00</td>\n",
       "      <td>Euthanasia</td>\n",
       "      <td>Suffering</td>\n",
       "      <td>Cat</td>\n",
       "      <td>Spayed Female</td>\n",
       "      <td>Domestic Shorthair Mix</td>\n",
       "      <td>Cream Tabby</td>\n",
       "      <td>0</td>\n",
       "      <td>365.0</td>\n",
       "      <td>1</td>\n",
       "      <td>1</td>\n",
       "      <td>0</td>\n",
       "      <td>Cream Tabby</td>\n",
       "      <td>None</td>\n",
       "    </tr>\n",
       "    <tr>\n",
       "      <th>2</th>\n",
       "      <td>A686464</td>\n",
       "      <td>Pearce</td>\n",
       "      <td>2015-01-31 12:28:00</td>\n",
       "      <td>Adoption</td>\n",
       "      <td>Foster</td>\n",
       "      <td>Dog</td>\n",
       "      <td>Neutered Male</td>\n",
       "      <td>Pit Bull Mix</td>\n",
       "      <td>Blue/White</td>\n",
       "      <td>1</td>\n",
       "      <td>730.0</td>\n",
       "      <td>1</td>\n",
       "      <td>0</td>\n",
       "      <td>0</td>\n",
       "      <td>Blue</td>\n",
       "      <td>White</td>\n",
       "    </tr>\n",
       "    <tr>\n",
       "      <th>3</th>\n",
       "      <td>A683430</td>\n",
       "      <td>NaN</td>\n",
       "      <td>2014-07-11 19:09:00</td>\n",
       "      <td>Transfer</td>\n",
       "      <td>Partner</td>\n",
       "      <td>Cat</td>\n",
       "      <td>Intact Male</td>\n",
       "      <td>Domestic Shorthair Mix</td>\n",
       "      <td>Blue Cream</td>\n",
       "      <td>0</td>\n",
       "      <td>21.0</td>\n",
       "      <td>1</td>\n",
       "      <td>0</td>\n",
       "      <td>1</td>\n",
       "      <td>Blue Cream</td>\n",
       "      <td>None</td>\n",
       "    </tr>\n",
       "    <tr>\n",
       "      <th>4</th>\n",
       "      <td>A667013</td>\n",
       "      <td>NaN</td>\n",
       "      <td>2013-11-15 12:52:00</td>\n",
       "      <td>Transfer</td>\n",
       "      <td>Partner</td>\n",
       "      <td>Dog</td>\n",
       "      <td>Neutered Male</td>\n",
       "      <td>Lhasa Apso/Miniature Poodle</td>\n",
       "      <td>Tan</td>\n",
       "      <td>1</td>\n",
       "      <td>730.0</td>\n",
       "      <td>0</td>\n",
       "      <td>0</td>\n",
       "      <td>0</td>\n",
       "      <td>Tan</td>\n",
       "      <td>None</td>\n",
       "    </tr>\n",
       "  </tbody>\n",
       "</table>\n",
       "</div>"
      ],
      "text/plain": [
       "  AnimalID     Name            DateTime      OutcomeType OutcomeSubtype  \\\n",
       "0  A671945  Hambone 2014-02-12 18:22:00  Return_to_owner            NaN   \n",
       "1  A656520    Emily 2013-10-13 12:44:00       Euthanasia      Suffering   \n",
       "2  A686464   Pearce 2015-01-31 12:28:00         Adoption         Foster   \n",
       "3  A683430      NaN 2014-07-11 19:09:00         Transfer        Partner   \n",
       "4  A667013      NaN 2013-11-15 12:52:00         Transfer        Partner   \n",
       "\n",
       "  AnimalType SexuponOutcome                        Breed        Color  \\\n",
       "0        Dog  Neutered Male        Shetland Sheepdog Mix  Brown/White   \n",
       "1        Cat  Spayed Female       Domestic Shorthair Mix  Cream Tabby   \n",
       "2        Dog  Neutered Male                 Pit Bull Mix   Blue/White   \n",
       "3        Cat    Intact Male       Domestic Shorthair Mix   Blue Cream   \n",
       "4        Dog  Neutered Male  Lhasa Apso/Miniature Poodle          Tan   \n",
       "\n",
       "   AnimalTypeNum  AgeinDays  MixedBreed  Sex  Sterile   FirstColor SecondColor  \n",
       "0              1      365.0           1    0        0        Brown       White  \n",
       "1              0      365.0           1    1        0  Cream Tabby        None  \n",
       "2              1      730.0           1    0        0         Blue       White  \n",
       "3              0       21.0           1    0        1   Blue Cream        None  \n",
       "4              1      730.0           0    0        0          Tan        None  "
      ]
     },
     "execution_count": 126,
     "metadata": {},
     "output_type": "execute_result"
    }
   ],
   "source": [
    "data.head()"
   ]
  },
  {
   "cell_type": "code",
   "execution_count": null,
   "metadata": {},
   "outputs": [],
   "source": []
  },
  {
   "cell_type": "code",
   "execution_count": null,
   "metadata": {},
   "outputs": [],
   "source": []
  },
  {
   "cell_type": "code",
   "execution_count": null,
   "metadata": {},
   "outputs": [],
   "source": []
  },
  {
   "cell_type": "code",
   "execution_count": null,
   "metadata": {},
   "outputs": [],
   "source": []
  },
  {
   "cell_type": "code",
   "execution_count": null,
   "metadata": {},
   "outputs": [],
   "source": []
  },
  {
   "cell_type": "code",
   "execution_count": 115,
   "metadata": {},
   "outputs": [],
   "source": [
    "ExpandedData = data\n",
    "ExpandedData."
   ]
  },
  {
   "cell_type": "code",
   "execution_count": 43,
   "metadata": {},
   "outputs": [
    {
     "data": {
      "text/html": [
       "<div>\n",
       "<style scoped>\n",
       "    .dataframe tbody tr th:only-of-type {\n",
       "        vertical-align: middle;\n",
       "    }\n",
       "\n",
       "    .dataframe tbody tr th {\n",
       "        vertical-align: top;\n",
       "    }\n",
       "\n",
       "    .dataframe thead th {\n",
       "        text-align: right;\n",
       "    }\n",
       "</style>\n",
       "<table border=\"1\" class=\"dataframe\">\n",
       "  <thead>\n",
       "    <tr style=\"text-align: right;\">\n",
       "      <th></th>\n",
       "      <th>AgeinDays</th>\n",
       "      <th>AnimalTypeNum</th>\n",
       "      <th>Adoption</th>\n",
       "      <th>Died</th>\n",
       "      <th>Euthanasia</th>\n",
       "      <th>Return_to_owner</th>\n",
       "      <th>Transfer</th>\n",
       "      <th>mixedBreed</th>\n",
       "    </tr>\n",
       "  </thead>\n",
       "  <tbody>\n",
       "    <tr>\n",
       "      <th>AgeinDays</th>\n",
       "      <td>1.000000</td>\n",
       "      <td>0.232715</td>\n",
       "      <td>-0.147416</td>\n",
       "      <td>-0.023708</td>\n",
       "      <td>0.149999</td>\n",
       "      <td>0.307658</td>\n",
       "      <td>-0.164804</td>\n",
       "      <td>-0.079831</td>\n",
       "    </tr>\n",
       "    <tr>\n",
       "      <th>AnimalTypeNum</th>\n",
       "      <td>0.232715</td>\n",
       "      <td>1.000000</td>\n",
       "      <td>0.033087</td>\n",
       "      <td>-0.057618</td>\n",
       "      <td>-0.020186</td>\n",
       "      <td>0.295644</td>\n",
       "      <td>-0.251020</td>\n",
       "      <td>-0.319317</td>\n",
       "    </tr>\n",
       "    <tr>\n",
       "      <th>Adoption</th>\n",
       "      <td>-0.147416</td>\n",
       "      <td>0.033087</td>\n",
       "      <td>1.000000</td>\n",
       "      <td>-0.070781</td>\n",
       "      <td>-0.204155</td>\n",
       "      <td>-0.383627</td>\n",
       "      <td>-0.606083</td>\n",
       "      <td>-0.039334</td>\n",
       "    </tr>\n",
       "    <tr>\n",
       "      <th>Died</th>\n",
       "      <td>-0.023708</td>\n",
       "      <td>-0.057618</td>\n",
       "      <td>-0.070781</td>\n",
       "      <td>1.000000</td>\n",
       "      <td>-0.021416</td>\n",
       "      <td>-0.040243</td>\n",
       "      <td>-0.063578</td>\n",
       "      <td>0.018417</td>\n",
       "    </tr>\n",
       "    <tr>\n",
       "      <th>Euthanasia</th>\n",
       "      <td>0.149999</td>\n",
       "      <td>-0.020186</td>\n",
       "      <td>-0.204155</td>\n",
       "      <td>-0.021416</td>\n",
       "      <td>1.000000</td>\n",
       "      <td>-0.116072</td>\n",
       "      <td>-0.183379</td>\n",
       "      <td>0.028702</td>\n",
       "    </tr>\n",
       "    <tr>\n",
       "      <th>Return_to_owner</th>\n",
       "      <td>0.307658</td>\n",
       "      <td>0.295644</td>\n",
       "      <td>-0.383627</td>\n",
       "      <td>-0.040243</td>\n",
       "      <td>-0.116072</td>\n",
       "      <td>1.000000</td>\n",
       "      <td>-0.344587</td>\n",
       "      <td>-0.074155</td>\n",
       "    </tr>\n",
       "    <tr>\n",
       "      <th>Transfer</th>\n",
       "      <td>-0.164804</td>\n",
       "      <td>-0.251020</td>\n",
       "      <td>-0.606083</td>\n",
       "      <td>-0.063578</td>\n",
       "      <td>-0.183379</td>\n",
       "      <td>-0.344587</td>\n",
       "      <td>1.000000</td>\n",
       "      <td>0.082533</td>\n",
       "    </tr>\n",
       "    <tr>\n",
       "      <th>mixedBreed</th>\n",
       "      <td>-0.079831</td>\n",
       "      <td>-0.319317</td>\n",
       "      <td>-0.039334</td>\n",
       "      <td>0.018417</td>\n",
       "      <td>0.028702</td>\n",
       "      <td>-0.074155</td>\n",
       "      <td>0.082533</td>\n",
       "      <td>1.000000</td>\n",
       "    </tr>\n",
       "  </tbody>\n",
       "</table>\n",
       "</div>"
      ],
      "text/plain": [
       "                 AgeinDays  AnimalTypeNum  Adoption      Died  Euthanasia  \\\n",
       "AgeinDays         1.000000       0.232715 -0.147416 -0.023708    0.149999   \n",
       "AnimalTypeNum     0.232715       1.000000  0.033087 -0.057618   -0.020186   \n",
       "Adoption         -0.147416       0.033087  1.000000 -0.070781   -0.204155   \n",
       "Died             -0.023708      -0.057618 -0.070781  1.000000   -0.021416   \n",
       "Euthanasia        0.149999      -0.020186 -0.204155 -0.021416    1.000000   \n",
       "Return_to_owner   0.307658       0.295644 -0.383627 -0.040243   -0.116072   \n",
       "Transfer         -0.164804      -0.251020 -0.606083 -0.063578   -0.183379   \n",
       "mixedBreed       -0.079831      -0.319317 -0.039334  0.018417    0.028702   \n",
       "\n",
       "                 Return_to_owner  Transfer  mixedBreed  \n",
       "AgeinDays               0.307658 -0.164804   -0.079831  \n",
       "AnimalTypeNum           0.295644 -0.251020   -0.319317  \n",
       "Adoption               -0.383627 -0.606083   -0.039334  \n",
       "Died                   -0.040243 -0.063578    0.018417  \n",
       "Euthanasia             -0.116072 -0.183379    0.028702  \n",
       "Return_to_owner         1.000000 -0.344587   -0.074155  \n",
       "Transfer               -0.344587  1.000000    0.082533  \n",
       "mixedBreed             -0.074155  0.082533    1.000000  "
      ]
     },
     "execution_count": 43,
     "metadata": {},
     "output_type": "execute_result"
    }
   ],
   "source": [
    "ExpandedData.corr()"
   ]
  },
  {
   "cell_type": "code",
   "execution_count": 73,
   "metadata": {},
   "outputs": [],
   "source": [
    "ExpandedData['DateTime'] = pd.to_datetime(ExpandedData['DateTime'],format=\"%Y-%m-%d\")\n",
    "ExpandedData['Date'] = ExpandedData.DateTime.dt.date"
   ]
  },
  {
   "cell_type": "code",
   "execution_count": 92,
   "metadata": {},
   "outputs": [
    {
     "data": {
      "text/plain": [
       "<matplotlib.axes._subplots.AxesSubplot at 0x1a21d7f828>"
      ]
     },
     "execution_count": 92,
     "metadata": {},
     "output_type": "execute_result"
    },
    {
     "data": {
      "image/png": "[encoded data removed]",
      "text/plain": [
       "<matplotlib.figure.Figure at 0x1a21d7fe48>"
      ]
     },
     "metadata": {},
     "output_type": "display_data"
    }
   ],
   "source": [
    "# Adoptions per Day\n",
    "DayData = ExpandedData.groupby('Date')\n",
    "DailyAdoptions = DayData['Adoption'].agg(np.sum)\n",
    "DailyAdoptions.plot(title='Adoptions per Day', figsize =(8,3))\n"
   ]
  },
  {
   "cell_type": "code",
   "execution_count": 91,
   "metadata": {},
   "outputs": [
    {
     "data": {
      "text/plain": [
       "<matplotlib.axes._subplots.AxesSubplot at 0x1a225c4668>"
      ]
     },
     "execution_count": 91,
     "metadata": {},
     "output_type": "execute_result"
    },
    {
     "data": {
      "image/png": "[encoded data removed]",
      "text/plain": [
       "<matplotlib.figure.Figure at 0x1a225c4a58>"
      ]
     },
     "metadata": {},
     "output_type": "display_data"
    }
   ],
   "source": [
    "# Transfers per Day\n",
    "DayData = ExpandedData.groupby('Date')\n",
    "DailyTransfers = DayData['Transfer'].agg(np.sum)\n",
    "DailyTransfers.plot(title='Transfers per Day', figsize =(8,3))"
   ]
  },
  {
   "cell_type": "markdown",
   "metadata": {},
   "source": [
    "## Logistic Regression"
   ]
  },
  {
   "cell_type": "code",
   "execution_count": 140,
   "metadata": {},
   "outputs": [
    {
     "data": {
      "text/plain": [
       "<seaborn.axisgrid.PairGrid at 0x1a1fc49748>"
      ]
     },
     "execution_count": 140,
     "metadata": {},
     "output_type": "execute_result"
    },
    {
     "data": {
      "image/png": "[encoded data removed]",
      "text/plain": [
       "<matplotlib.figure.Figure at 0x1a1fc49438>"
      ]
     },
     "metadata": {},
     "output_type": "display_data"
    }
   ],
   "source": [
    "# plot Age and Adoption \n",
    "sns.pairplot(data)"
   ]
  },
  {
   "cell_type": "code",
   "execution_count": null,
   "metadata": {},
   "outputs": [],
   "source": [
    "# Generate features and target\n",
    "feature_cols = data.columns[9:14]\n",
    "X = data[feature_cols]\n",
    "y = data.OutcomeType"
   ]
  },
  {
   "cell_type": "code",
   "execution_count": 134,
   "metadata": {},
   "outputs": [],
   "source": [
    "# Compute Logistic Regression to Predict Outcome\n",
    "logreg = LogisticRegression()\n",
    "logreg.fit(X,y)\n",
    "OutcomePredLog = logreg.predict(X)"
   ]
  },
  {
   "cell_type": "code",
   "execution_count": 135,
   "metadata": {},
   "outputs": [
    {
     "data": {
      "text/plain": [
       "array(['Adoption', 'Adoption', 'Adoption', ..., 'Adoption', 'Transfer',\n",
       "       'Transfer'], dtype=object)"
      ]
     },
     "execution_count": 135,
     "metadata": {},
     "output_type": "execute_result"
    }
   ],
   "source": [
    "OutcomePredLog"
   ]
  },
  {
   "cell_type": "code",
   "execution_count": 131,
   "metadata": {},
   "outputs": [
    {
     "data": {
      "text/plain": [
       "[('AnimalTypeNum', 0.02144660795697088),\n",
       " ('AgeinDays', -0.0005633159392506033),\n",
       " ('MixedBreed', -0.06905357546328227),\n",
       " ('Sex', 0.47815419561159156),\n",
       " ('Sterile', -3.2176656733937103)]"
      ]
     },
     "execution_count": 131,
     "metadata": {},
     "output_type": "execute_result"
    }
   ],
   "source": [
    "list(zip(feature_cols, logreg.coef_[0]))"
   ]
  },
  {
   "cell_type": "code",
   "execution_count": 137,
   "metadata": {},
   "outputs": [
    {
     "name": "stdout",
     "output_type": "stream",
     "text": [
      "Model accuracy: 0.5900332971678701\n"
     ]
    }
   ],
   "source": [
    "y = data.OutcomeType\n",
    "y_pred = OutcomePredLog\n",
    "print(\"Model accuracy:\",metrics.accuracy_score(y,y_pred))"
   ]
  },
  {
   "cell_type": "code",
   "execution_count": 138,
   "metadata": {},
   "outputs": [
    {
     "data": {
      "text/plain": [
       "array([[0.53801724, 0.00224174, 0.02530107, 0.23467742, 0.19976253],\n",
       "       [0.62970147, 0.00443566, 0.02014898, 0.0369418 , 0.3087721 ],\n",
       "       [0.49767137, 0.00224893, 0.03109504, 0.27596082, 0.19302385],\n",
       "       ...,\n",
       "       [0.40653812, 0.00222994, 0.04611566, 0.36794782, 0.17716846],\n",
       "       [0.05103724, 0.03196112, 0.11227188, 0.02825332, 0.77647644],\n",
       "       [0.04239577, 0.03128408, 0.13022549, 0.0332616 , 0.76283306]])"
      ]
     },
     "execution_count": 138,
     "metadata": {},
     "output_type": "execute_result"
    }
   ],
   "source": [
    "y_pred_probs = logreg.predict_proba(X)\n",
    "y_pred_probs"
   ]
  },
  {
   "cell_type": "code",
   "execution_count": null,
   "metadata": {},
   "outputs": [],
   "source": []
  },
  {
   "cell_type": "code",
   "execution_count": 143,
   "metadata": {},
   "outputs": [
    {
     "name": "stdout",
     "output_type": "stream",
     "text": [
      "Accuracy for split  0 :  0.632996632996633\n",
      "Accuracy for split  1 :  0.6221473999251778\n",
      "Accuracy for split  2 :  0.6213991769547325\n",
      "Accuracy for split  3 :  0.6176580621025065\n",
      "Accuracy for split  4 :  0.6307519640852974\n",
      "Accuracy for split  5 :  0.6258885147774037\n",
      "Accuracy for split  6 :  0.6434717545828657\n",
      "Accuracy for split  7 :  0.6247661803217359\n",
      "Accuracy for split  8 :  0.6195286195286195\n",
      "Accuracy for split  9 :  0.6206509539842873\n",
      "10-fold accuracies:\n",
      " [0.62990654 0.63401869 0.63126402 0.62341062 0.62864622 0.61728395\n",
      " 0.61077844 0.6428304  0.62336204 0.64307116]\n",
      "Mean cv-accuracy: 0.6284572093328071\n",
      "Std of cv-accuracy: 0.009746333269416312\n"
     ]
    }
   ],
   "source": [
    "rf = RandomForestClassifier(n_estimators=50) #random forest with 50 trees\n",
    "\n",
    "#train/test split with 10% of data in each split:\n",
    "for i in range(10):\n",
    "    X_train,X_test,y_train,y_test = train_test_split(X,y,test_size=.1)\n",
    "    rf_fit = rf.fit(X_train,y_train)\n",
    "    print(\"Accuracy for split \",i,\": \",metrics.accuracy_score(y_test,rf_fit.predict(X_test)))\n",
    "\n",
    "#compute cross-validation score accuracy across 10 folds\n",
    "cross_val_scores = cross_val_score(rf,X,y,cv=10)\n",
    "print(\"10-fold accuracies:\\n\",cross_val_scores)\n",
    "print(\"Mean cv-accuracy:\",np.mean(cross_val_scores))\n",
    "print(\"Std of cv-accuracy:\",np.std(cross_val_scores))"
   ]
  },
  {
   "cell_type": "code",
   "execution_count": 144,
   "metadata": {},
   "outputs": [
    {
     "name": "stdout",
     "output_type": "stream",
     "text": [
      "original values:\n",
      " [[1.00e+00 3.65e+02 1.00e+00 0.00e+00 0.00e+00]\n",
      " [0.00e+00 3.65e+02 1.00e+00 1.00e+00 0.00e+00]\n",
      " [1.00e+00 7.30e+02 1.00e+00 0.00e+00 0.00e+00]\n",
      " ...\n",
      " [1.00e+00 1.46e+03 1.00e+00 0.00e+00 0.00e+00]\n",
      " [0.00e+00 2.80e+01 1.00e+00 0.00e+00 1.00e+00]\n",
      " [0.00e+00 3.65e+02 1.00e+00 0.00e+00 1.00e+00]] \n",
      "\n",
      "scaled values:\n",
      " [[ 0.84495371 -0.39615776  0.44577727 -0.92543957 -0.59773264]\n",
      " [-1.18349678 -0.39615776  0.44577727  1.08056759 -0.59773264]\n",
      " [ 0.84495371 -0.0589761   0.44577727 -0.92543957 -0.59773264]\n",
      " ...\n",
      " [ 0.84495371  0.61538721  0.44577727 -0.92543957 -0.59773264]\n",
      " [-1.18349678 -0.70747342  0.44577727 -0.92543957  1.67298877]\n",
      " [-1.18349678 -0.39615776  0.44577727 -0.92543957  1.67298877]] \n",
      "\n",
      "Mean of each column:\n",
      " [5.83448689e-01 7.93841782e+02 8.34224999e-01 4.61334131e-01\n",
      " 2.63234689e-01] \n",
      "\n",
      "standard deviation of each column:\n",
      " [4.92987136e-01 1.08250255e+03 3.71878542e-01 4.98502709e-01\n",
      " 4.40388678e-01] \n",
      "\n",
      "Z-scoring the values by hand to make sure we arent crazy:\n",
      " [[ 0.84495371 -0.39615776  0.44577727 -0.92543957 -0.59773264]\n",
      " [-1.18349678 -0.39615776  0.44577727  1.08056759 -0.59773264]\n",
      " [ 0.84495371 -0.0589761   0.44577727 -0.92543957 -0.59773264]\n",
      " ...\n",
      " [ 0.84495371  0.61538721  0.44577727 -0.92543957 -0.59773264]\n",
      " [-1.18349678 -0.70747342  0.44577727 -0.92543957  1.67298877]\n",
      " [-1.18349678 -0.39615776  0.44577727 -0.92543957  1.67298877]]\n",
      "Final Means of scaled data, per column:\n",
      " [-4.51914644e-17 -2.31273965e-17  6.31351340e-17  7.76229858e-17\n",
      "  2.02032429e-17]\n",
      "Final SD's of scaled data, per column:\n",
      " [1. 1. 1. 1. 1.]\n"
     ]
    }
   ],
   "source": [
    "from sklearn.preprocessing import StandardScaler\n",
    "\n",
    "scaler = StandardScaler() #create a scaler object\n",
    "scaler.fit(X) #fit the scaler\n",
    "X_scaled = scaler.transform(X) #transform the data with it\n",
    "\n",
    "# compare original to standardized\n",
    "print(\"original values:\\n\",X.values,\"\\n\")\n",
    "print(\"scaled values:\\n\",X_scaled,\"\\n\")\n",
    "\n",
    "# figure out how the standardization worked\n",
    "print(\"Mean of each column:\\n\",scaler.mean_,\"\\n\")\n",
    "print(\"standard deviation of each column:\\n\",scaler.scale_,\"\\n\")\n",
    "print(\"Z-scoring the values by hand to make sure we arent crazy:\\n\",(X.values - scaler.mean_) / scaler.scale_)\n",
    "print(\"Final Means of scaled data, per column:\\n\",X_scaled.mean(axis=0))\n",
    "print(\"Final SD's of scaled data, per column:\\n\",X_scaled.std(axis=0))"
   ]
  },
  {
   "cell_type": "code",
   "execution_count": 147,
   "metadata": {},
   "outputs": [
    {
     "name": "stdout",
     "output_type": "stream",
     "text": [
      "unscaled test accuracy: 0.5134680134680135\n",
      "scaled test accuracy: 0.5312383090160868\n"
     ]
    }
   ],
   "source": [
    "from sklearn.neighbors import KNeighborsClassifier\n",
    "knn_unsc = KNeighborsClassifier(n_neighbors=3)\n",
    "knn_sc = KNeighborsClassifier(n_neighbors=3)\n",
    "\n",
    "X_wine_scaled = scaler.fit_transform(X)\n",
    "y = data.OutcomeType\n",
    "X_train,X_test,y_train,y_test = train_test_split(X_wine_scaled,y,\n",
    "                                                 test_size=0.2,\n",
    "                                                 random_state=1234)\n",
    "X_train_unsc,X_test_unsc,y_train_unsc,y_test_unsc = train_test_split(X,\n",
    "                                                                     y,\n",
    "                                                                     test_size=0.2,\n",
    "                                                                    random_state=1234)\n",
    "\n",
    "knn_unsc.fit(X_train_unsc,y_train_unsc)\n",
    "knn_sc.fit(X_train,y_train)\n",
    "print(\"unscaled test accuracy:\",metrics.accuracy_score(y_test_unsc,\n",
    "                                                       knn_unsc.predict(X_test_unsc)))\n",
    "print(\"scaled test accuracy:\",metrics.accuracy_score(y_test,\n",
    "                                                       knn_sc.predict(X_test)))"
   ]
  },
  {
   "cell_type": "code",
   "execution_count": 151,
   "metadata": {},
   "outputs": [
    {
     "ename": "ValueError",
     "evalue": "could not convert string to float: 'Adoption'",
     "output_type": "error",
     "traceback": [
      "\u001b[0;31m---------------------------------------------------------------------------\u001b[0m",
      "\u001b[0;31mValueError\u001b[0m                                Traceback (most recent call last)",
      "\u001b[0;32m<ipython-input-151-6ab16fdc0259>\u001b[0m in \u001b[0;36m<module>\u001b[0;34m()\u001b[0m\n\u001b[1;32m      2\u001b[0m \u001b[0;34m\u001b[0m\u001b[0m\n\u001b[1;32m      3\u001b[0m \u001b[0mX_train\u001b[0m\u001b[0;34m,\u001b[0m\u001b[0mX_test\u001b[0m\u001b[0;34m,\u001b[0m\u001b[0my_train\u001b[0m\u001b[0;34m,\u001b[0m\u001b[0my_test\u001b[0m \u001b[0;34m=\u001b[0m \u001b[0mtrain_test_split\u001b[0m\u001b[0;34m(\u001b[0m\u001b[0mX\u001b[0m\u001b[0;34m,\u001b[0m\u001b[0my\u001b[0m\u001b[0;34m,\u001b[0m\u001b[0mtest_size\u001b[0m\u001b[0;34m=\u001b[0m\u001b[0;36m.1\u001b[0m\u001b[0;34m)\u001b[0m\u001b[0;34m\u001b[0m\u001b[0m\n\u001b[0;32m----> 4\u001b[0;31m \u001b[0mrf\u001b[0m\u001b[0;34m.\u001b[0m\u001b[0mfit\u001b[0m\u001b[0;34m(\u001b[0m\u001b[0mX_train\u001b[0m\u001b[0;34m,\u001b[0m \u001b[0my_train\u001b[0m\u001b[0;34m)\u001b[0m\u001b[0;34m\u001b[0m\u001b[0m\n\u001b[0m\u001b[1;32m      5\u001b[0m \u001b[0my_pred_rf\u001b[0m \u001b[0;34m=\u001b[0m \u001b[0mrf\u001b[0m\u001b[0;34m.\u001b[0m\u001b[0mpredict\u001b[0m\u001b[0;34m(\u001b[0m\u001b[0mX_test\u001b[0m\u001b[0;34m)\u001b[0m\u001b[0;34m\u001b[0m\u001b[0m\n\u001b[1;32m      6\u001b[0m \u001b[0;34m\u001b[0m\u001b[0m\n",
      "\u001b[0;32m~/anaconda3/lib/python3.6/site-packages/sklearn/ensemble/forest.py\u001b[0m in \u001b[0;36mfit\u001b[0;34m(self, X, y, sample_weight)\u001b[0m\n\u001b[1;32m    274\u001b[0m \u001b[0;34m\u001b[0m\u001b[0m\n\u001b[1;32m    275\u001b[0m         \u001b[0;32mif\u001b[0m \u001b[0mgetattr\u001b[0m\u001b[0;34m(\u001b[0m\u001b[0my\u001b[0m\u001b[0;34m,\u001b[0m \u001b[0;34m\"dtype\"\u001b[0m\u001b[0;34m,\u001b[0m \u001b[0;32mNone\u001b[0m\u001b[0;34m)\u001b[0m \u001b[0;34m!=\u001b[0m \u001b[0mDOUBLE\u001b[0m \u001b[0;32mor\u001b[0m \u001b[0;32mnot\u001b[0m \u001b[0my\u001b[0m\u001b[0;34m.\u001b[0m\u001b[0mflags\u001b[0m\u001b[0;34m.\u001b[0m\u001b[0mcontiguous\u001b[0m\u001b[0;34m:\u001b[0m\u001b[0;34m\u001b[0m\u001b[0m\n\u001b[0;32m--> 276\u001b[0;31m             \u001b[0my\u001b[0m \u001b[0;34m=\u001b[0m \u001b[0mnp\u001b[0m\u001b[0;34m.\u001b[0m\u001b[0mascontiguousarray\u001b[0m\u001b[0;34m(\u001b[0m\u001b[0my\u001b[0m\u001b[0;34m,\u001b[0m \u001b[0mdtype\u001b[0m\u001b[0;34m=\u001b[0m\u001b[0mDOUBLE\u001b[0m\u001b[0;34m)\u001b[0m\u001b[0;34m\u001b[0m\u001b[0m\n\u001b[0m\u001b[1;32m    277\u001b[0m \u001b[0;34m\u001b[0m\u001b[0m\n\u001b[1;32m    278\u001b[0m         \u001b[0;32mif\u001b[0m \u001b[0mexpanded_class_weight\u001b[0m \u001b[0;32mis\u001b[0m \u001b[0;32mnot\u001b[0m \u001b[0;32mNone\u001b[0m\u001b[0;34m:\u001b[0m\u001b[0;34m\u001b[0m\u001b[0m\n",
      "\u001b[0;32m~/anaconda3/lib/python3.6/site-packages/numpy/core/numeric.py\u001b[0m in \u001b[0;36mascontiguousarray\u001b[0;34m(a, dtype)\u001b[0m\n\u001b[1;32m    579\u001b[0m \u001b[0;34m\u001b[0m\u001b[0m\n\u001b[1;32m    580\u001b[0m     \"\"\"\n\u001b[0;32m--> 581\u001b[0;31m     \u001b[0;32mreturn\u001b[0m \u001b[0marray\u001b[0m\u001b[0;34m(\u001b[0m\u001b[0ma\u001b[0m\u001b[0;34m,\u001b[0m \u001b[0mdtype\u001b[0m\u001b[0;34m,\u001b[0m \u001b[0mcopy\u001b[0m\u001b[0;34m=\u001b[0m\u001b[0;32mFalse\u001b[0m\u001b[0;34m,\u001b[0m \u001b[0morder\u001b[0m\u001b[0;34m=\u001b[0m\u001b[0;34m'C'\u001b[0m\u001b[0;34m,\u001b[0m \u001b[0mndmin\u001b[0m\u001b[0;34m=\u001b[0m\u001b[0;36m1\u001b[0m\u001b[0;34m)\u001b[0m\u001b[0;34m\u001b[0m\u001b[0m\n\u001b[0m\u001b[1;32m    582\u001b[0m \u001b[0;34m\u001b[0m\u001b[0m\n\u001b[1;32m    583\u001b[0m \u001b[0;34m\u001b[0m\u001b[0m\n",
      "\u001b[0;31mValueError\u001b[0m: could not convert string to float: 'Adoption'"
     ]
    }
   ],
   "source": [
    "rf = RandomForestRegressor(n_estimators=500, bootstrap=True, oob_score=True, random_state=12)\n",
    "\n",
    "X_train,X_test,y_train,y_test = train_test_split(X,y,test_size=.1)\n",
    "rf.fit(X_train, y_train)\n",
    "y_pred_rf = rf.predict(X_test)\n",
    "\n",
    "print(\"Random Forest RMSE:\",np.sqrt(mean_squared_error(y_test,y_pred_rf)))"
   ]
  },
  {
   "cell_type": "code",
   "execution_count": null,
   "metadata": {},
   "outputs": [],
   "source": []
  }
 ],
 "metadata": {
  "kernelspec": {
   "display_name": "Python 3",
   "language": "python",
   "name": "python3"
  },
  "language_info": {
   "codemirror_mode": {
    "name": "ipython",
    "version": 3
   },
   "file_extension": ".py",
   "mimetype": "text/x-python",
   "name": "python",
   "nbconvert_exporter": "python",
   "pygments_lexer": "ipython3",
   "version": "3.6.4"
  }
 },
 "nbformat": 4,
 "nbformat_minor": 2
}
