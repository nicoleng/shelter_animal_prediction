{
 "cells": [
  {
   "cell_type": "markdown",
   "metadata": {},
   "source": [
    "# Predicting Shelter Animal Outcomes\n",
    "\n",
    "The goal of this project is to predict the outcome of shelter animals given a dataset containing outcome information including breed, color, sex and age. This is a [past Kaggle competition](https://www.kaggle.com/c/shelter-animal-outcomes) with data from [Austin Animal Center](http://www.austintexas.gov/department/animal-services) from October 1st, 2013 to March, 2016. "
   ]
  },
  {
   "cell_type": "code",
   "execution_count": 1,
   "metadata": {},
   "outputs": [
    {
     "name": "stderr",
     "output_type": "stream",
     "text": [
      "/Users/Nicole/anaconda3/lib/python3.6/site-packages/sklearn/cross_validation.py:41: DeprecationWarning: This module was deprecated in version 0.18 in favor of the model_selection module into which all the refactored classes and functions are moved. Also note that the interface of the new CV iterators are different from that of this module. This module will be removed in 0.20.\n",
      "  \"This module will be removed in 0.20.\", DeprecationWarning)\n"
     ]
    }
   ],
   "source": [
    "import pandas as pd\n",
    "import numpy as np\n",
    "from sklearn.linear_model import LinearRegression, LogisticRegression\n",
    "from sklearn.model_selection import train_test_split\n",
    "from sklearn.cross_validation import KFold, cross_val_score\n",
    "from sklearn.model_selection import train_test_split\n",
    "from sklearn import metrics\n",
    "from sklearn.tree import DecisionTreeRegressor\n",
    "from sklearn.ensemble import RandomForestClassifier, RandomForestRegressor\n",
    "from sklearn.preprocessing import LabelEncoder\n",
    "import scipy.stats as stats\n",
    "\n",
    "\n",
    "%matplotlib inline\n",
    "import matplotlib.pyplot as plt\n",
    "import seaborn as sns\n",
    "from IPython.display import Image\n",
    "import pydotplus\n",
    "from sklearn.tree import export_graphviz"
   ]
  },
  {
   "cell_type": "code",
   "execution_count": 2,
   "metadata": {
    "scrolled": false
   },
   "outputs": [
    {
     "name": "stdout",
     "output_type": "stream",
     "text": [
      "(26729, 10)\n",
      "AnimalID          object\n",
      "Name              object\n",
      "DateTime          object\n",
      "OutcomeType       object\n",
      "OutcomeSubtype    object\n",
      "AnimalType        object\n",
      "SexuponOutcome    object\n",
      "AgeuponOutcome    object\n",
      "Breed             object\n",
      "Color             object\n",
      "dtype: object\n"
     ]
    }
   ],
   "source": [
    "data = pd.read_csv(\"train.csv\")\n",
    "print(data.shape)\n",
    "print(data.dtypes)"
   ]
  },
  {
   "cell_type": "code",
   "execution_count": 3,
   "metadata": {
    "scrolled": true
   },
   "outputs": [
    {
     "data": {
      "text/html": [
       "<div>\n",
       "<style scoped>\n",
       "    .dataframe tbody tr th:only-of-type {\n",
       "        vertical-align: middle;\n",
       "    }\n",
       "\n",
       "    .dataframe tbody tr th {\n",
       "        vertical-align: top;\n",
       "    }\n",
       "\n",
       "    .dataframe thead th {\n",
       "        text-align: right;\n",
       "    }\n",
       "</style>\n",
       "<table border=\"1\" class=\"dataframe\">\n",
       "  <thead>\n",
       "    <tr style=\"text-align: right;\">\n",
       "      <th></th>\n",
       "      <th>AnimalID</th>\n",
       "      <th>Name</th>\n",
       "      <th>DateTime</th>\n",
       "      <th>OutcomeType</th>\n",
       "      <th>OutcomeSubtype</th>\n",
       "      <th>AnimalType</th>\n",
       "      <th>SexuponOutcome</th>\n",
       "      <th>AgeuponOutcome</th>\n",
       "      <th>Breed</th>\n",
       "      <th>Color</th>\n",
       "    </tr>\n",
       "  </thead>\n",
       "  <tbody>\n",
       "    <tr>\n",
       "      <th>0</th>\n",
       "      <td>A671945</td>\n",
       "      <td>Hambone</td>\n",
       "      <td>2014-02-12 18:22:00</td>\n",
       "      <td>Return_to_owner</td>\n",
       "      <td>NaN</td>\n",
       "      <td>Dog</td>\n",
       "      <td>Neutered Male</td>\n",
       "      <td>1 year</td>\n",
       "      <td>Shetland Sheepdog Mix</td>\n",
       "      <td>Brown/White</td>\n",
       "    </tr>\n",
       "    <tr>\n",
       "      <th>1</th>\n",
       "      <td>A656520</td>\n",
       "      <td>Emily</td>\n",
       "      <td>2013-10-13 12:44:00</td>\n",
       "      <td>Euthanasia</td>\n",
       "      <td>Suffering</td>\n",
       "      <td>Cat</td>\n",
       "      <td>Spayed Female</td>\n",
       "      <td>1 year</td>\n",
       "      <td>Domestic Shorthair Mix</td>\n",
       "      <td>Cream Tabby</td>\n",
       "    </tr>\n",
       "    <tr>\n",
       "      <th>2</th>\n",
       "      <td>A686464</td>\n",
       "      <td>Pearce</td>\n",
       "      <td>2015-01-31 12:28:00</td>\n",
       "      <td>Adoption</td>\n",
       "      <td>Foster</td>\n",
       "      <td>Dog</td>\n",
       "      <td>Neutered Male</td>\n",
       "      <td>2 years</td>\n",
       "      <td>Pit Bull Mix</td>\n",
       "      <td>Blue/White</td>\n",
       "    </tr>\n",
       "    <tr>\n",
       "      <th>3</th>\n",
       "      <td>A683430</td>\n",
       "      <td>NaN</td>\n",
       "      <td>2014-07-11 19:09:00</td>\n",
       "      <td>Transfer</td>\n",
       "      <td>Partner</td>\n",
       "      <td>Cat</td>\n",
       "      <td>Intact Male</td>\n",
       "      <td>3 weeks</td>\n",
       "      <td>Domestic Shorthair Mix</td>\n",
       "      <td>Blue Cream</td>\n",
       "    </tr>\n",
       "    <tr>\n",
       "      <th>4</th>\n",
       "      <td>A667013</td>\n",
       "      <td>NaN</td>\n",
       "      <td>2013-11-15 12:52:00</td>\n",
       "      <td>Transfer</td>\n",
       "      <td>Partner</td>\n",
       "      <td>Dog</td>\n",
       "      <td>Neutered Male</td>\n",
       "      <td>2 years</td>\n",
       "      <td>Lhasa Apso/Miniature Poodle</td>\n",
       "      <td>Tan</td>\n",
       "    </tr>\n",
       "  </tbody>\n",
       "</table>\n",
       "</div>"
      ],
      "text/plain": [
       "  AnimalID     Name             DateTime      OutcomeType OutcomeSubtype  \\\n",
       "0  A671945  Hambone  2014-02-12 18:22:00  Return_to_owner            NaN   \n",
       "1  A656520    Emily  2013-10-13 12:44:00       Euthanasia      Suffering   \n",
       "2  A686464   Pearce  2015-01-31 12:28:00         Adoption         Foster   \n",
       "3  A683430      NaN  2014-07-11 19:09:00         Transfer        Partner   \n",
       "4  A667013      NaN  2013-11-15 12:52:00         Transfer        Partner   \n",
       "\n",
       "  AnimalType SexuponOutcome AgeuponOutcome                        Breed  \\\n",
       "0        Dog  Neutered Male         1 year        Shetland Sheepdog Mix   \n",
       "1        Cat  Spayed Female         1 year       Domestic Shorthair Mix   \n",
       "2        Dog  Neutered Male        2 years                 Pit Bull Mix   \n",
       "3        Cat    Intact Male        3 weeks       Domestic Shorthair Mix   \n",
       "4        Dog  Neutered Male        2 years  Lhasa Apso/Miniature Poodle   \n",
       "\n",
       "         Color  \n",
       "0  Brown/White  \n",
       "1  Cream Tabby  \n",
       "2   Blue/White  \n",
       "3   Blue Cream  \n",
       "4          Tan  "
      ]
     },
     "execution_count": 3,
     "metadata": {},
     "output_type": "execute_result"
    }
   ],
   "source": [
    "data.head()"
   ]
  },
  {
   "cell_type": "code",
   "execution_count": 4,
   "metadata": {},
   "outputs": [
    {
     "data": {
      "text/plain": [
       "Adoption           10769\n",
       "Transfer            9422\n",
       "Return_to_owner     4786\n",
       "Euthanasia          1555\n",
       "Died                 197\n",
       "Name: OutcomeType, dtype: int64"
      ]
     },
     "execution_count": 4,
     "metadata": {},
     "output_type": "execute_result"
    }
   ],
   "source": [
    "data.OutcomeType.value_counts()"
   ]
  },
  {
   "cell_type": "code",
   "execution_count": 5,
   "metadata": {},
   "outputs": [
    {
     "data": {
      "text/plain": [
       "AnimalID              0\n",
       "Name               7691\n",
       "DateTime              0\n",
       "OutcomeType           0\n",
       "OutcomeSubtype    13612\n",
       "AnimalType            0\n",
       "SexuponOutcome        1\n",
       "AgeuponOutcome       18\n",
       "Breed                 0\n",
       "Color                 0\n",
       "dtype: int64"
      ]
     },
     "execution_count": 5,
     "metadata": {},
     "output_type": "execute_result"
    }
   ],
   "source": [
    "data.isnull().sum()"
   ]
  },
  {
   "cell_type": "markdown",
   "metadata": {},
   "source": [
    "## 1. Formatting and Analyzing Individual Features\n",
    "Before I start predicting outcomes, I need to format features to be suitable for analyses and see their individual relationship to the outcomes. "
   ]
  },
  {
   "cell_type": "markdown",
   "metadata": {},
   "source": [
    "### a. Animal Type"
   ]
  },
  {
   "cell_type": "code",
   "execution_count": 6,
   "metadata": {
    "scrolled": true
   },
   "outputs": [
    {
     "name": "stdout",
     "output_type": "stream",
     "text": [
      "AnimalType  AnimalType\n",
      "Cat         Cat           11134\n",
      "Dog         Dog           15595\n",
      "Name: AnimalType, dtype: int64\n"
     ]
    },
    {
     "data": {
      "text/plain": [
       "AnimalType  OutcomeType    \n",
       "Cat         Transfer           5505\n",
       "            Adoption           4272\n",
       "            Euthanasia          710\n",
       "            Return_to_owner     500\n",
       "            Died                147\n",
       "Dog         Adoption           6497\n",
       "            Return_to_owner    4286\n",
       "            Transfer           3917\n",
       "            Euthanasia          845\n",
       "            Died                 50\n",
       "Name: OutcomeType, dtype: int64"
      ]
     },
     "execution_count": 6,
     "metadata": {},
     "output_type": "execute_result"
    }
   ],
   "source": [
    "AnimalTypeGroup = data.groupby('AnimalType')\n",
    "print(AnimalTypeGroup.AnimalType.value_counts())\n",
    "AnimalTypeGroup.OutcomeType.value_counts() "
   ]
  },
  {
   "cell_type": "code",
   "execution_count": 7,
   "metadata": {},
   "outputs": [
    {
     "data": {
      "text/plain": [
       "<matplotlib.axes._subplots.AxesSubplot at 0x116610ef0>"
      ]
     },
     "execution_count": 7,
     "metadata": {},
     "output_type": "execute_result"
    },
    {
     "data": {
      "image/png": "[encoded data removed]",
      "text/plain": [
       "<matplotlib.figure.Figure at 0x1166108d0>"
      ]
     },
     "metadata": {},
     "output_type": "display_data"
    }
   ],
   "source": [
    "AnimalTypeGraph = data[['AnimalType','OutcomeType']].groupby(['OutcomeType','AnimalType']).size().unstack()\n",
    "AnimalTypeGraph.plot(kind='bar',color=['r','c'])"
   ]
  },
  {
   "cell_type": "markdown",
   "metadata": {},
   "source": [
    "### b. DateTime"
   ]
  },
  {
   "cell_type": "code",
   "execution_count": 8,
   "metadata": {},
   "outputs": [],
   "source": [
    "#format Datetime\n",
    "data['DateTime'] = pd.to_datetime(data['DateTime'])"
   ]
  },
  {
   "cell_type": "code",
   "execution_count": 9,
   "metadata": {},
   "outputs": [],
   "source": [
    "data['Hour'] = data.DateTime.dt.hour"
   ]
  },
  {
   "cell_type": "code",
   "execution_count": 10,
   "metadata": {},
   "outputs": [
    {
     "data": {
      "image/png": "[encoded data removed]",
      "text/plain": [
       "<matplotlib.figure.Figure at 0x116610e48>"
      ]
     },
     "metadata": {},
     "output_type": "display_data"
    }
   ],
   "source": [
    "# Outcomes by Hour\n",
    "hourGroup=data.Hour.groupby(data.OutcomeType)\n",
    "plt.subplots(5, 1, figsize=(15, 20), sharex=True)\n",
    "plt.subplots_adjust( hspace=0.5)\n",
    "colors = list('rgbcmyk')\n",
    "for i, (f, g) in enumerate(hourGroup):\n",
    "    plt.subplot(5,1,i+1)\n",
    "    plt.title(f)\n",
    "    g.groupby(data.Hour).count().plot(kind=\"line\", color=colors[i])"
   ]
  },
  {
   "cell_type": "code",
   "execution_count": 11,
   "metadata": {},
   "outputs": [],
   "source": [
    "data['DoW'] = data.DateTime.dt.dayofweek"
   ]
  },
  {
   "cell_type": "code",
   "execution_count": 12,
   "metadata": {},
   "outputs": [
    {
     "data": {
      "image/png": "[encoded data removed]",
      "text/plain": [
       "<matplotlib.figure.Figure at 0x116610470>"
      ]
     },
     "metadata": {},
     "output_type": "display_data"
    }
   ],
   "source": [
    "# Outcomes per Week\n",
    "weekGroup=data.DoW.groupby(data.OutcomeType)\n",
    "plt.subplots(5, 1, figsize=(15, 20), sharex=True)\n",
    "plt.subplots_adjust( hspace=0.5)\n",
    "colors = list('rgbcmyk')\n",
    "for i, (f, g) in enumerate(weekGroup):\n",
    "    plt.subplot(5,1,i+1)\n",
    "    plt.title(f)\n",
    "    g.groupby(data.DoW).count().plot(kind=\"line\", color=colors[i])"
   ]
  },
  {
   "cell_type": "code",
   "execution_count": 13,
   "metadata": {},
   "outputs": [],
   "source": [
    "data['Month'] = data.DateTime.dt.month"
   ]
  },
  {
   "cell_type": "code",
   "execution_count": 14,
   "metadata": {},
   "outputs": [
    {
     "data": {
      "image/png": "[encoded data removed]",
      "text/plain": [
       "<matplotlib.figure.Figure at 0x111885be0>"
      ]
     },
     "metadata": {},
     "output_type": "display_data"
    }
   ],
   "source": [
    "# Outcomes by Month\n",
    "monthGroup=data.Month.groupby(data.OutcomeType)\n",
    "plt.subplots(5, 1, figsize=(15, 20), sharex=True)\n",
    "plt.subplots_adjust(hspace=0.5)\n",
    "colors = list('rgbcmyk')\n",
    "for i, (f, g) in enumerate(monthGroup):\n",
    "    plt.subplot(5,1,i+1)\n",
    "    plt.title(f)\n",
    "    g.groupby(data.Month).count().plot(kind=\"line\", color=colors[i])"
   ]
  },
  {
   "cell_type": "markdown",
   "metadata": {},
   "source": [
    "### c. Age"
   ]
  },
  {
   "cell_type": "code",
   "execution_count": 15,
   "metadata": {},
   "outputs": [],
   "source": [
    "# create list of age in days\n",
    "dataAge = data.AgeuponOutcome.tolist()\n",
    "AgeinDays = []\n",
    "for i in dataAge:\n",
    "    try:\n",
    "        num = (i.split()[0])\n",
    "        letter = (i.split()[1][0])\n",
    "        if(letter == 'y'):\n",
    "            days = int(num)*365\n",
    "        elif(letter == 'm'):\n",
    "            days = int(num)*30\n",
    "        elif(letter == 'w'):\n",
    "            days = int(num)*7\n",
    "        else:\n",
    "            days = int(num)\n",
    "        AgeinDays.append(days)\n",
    "    except:\n",
    "        AgeinDays.append(np.nan)"
   ]
  },
  {
   "cell_type": "code",
   "execution_count": 16,
   "metadata": {},
   "outputs": [],
   "source": [
    "# append numerical age column to data set\n",
    "data['AgeinDays'] = AgeinDays"
   ]
  },
  {
   "cell_type": "code",
   "execution_count": 19,
   "metadata": {},
   "outputs": [
    {
     "name": "stdout",
     "output_type": "stream",
     "text": [
      "0\n"
     ]
    }
   ],
   "source": [
    "age_median =  data.AgeinDays.median()\n",
    "data.AgeinDays.fillna(age_median, inplace=True)\n",
    "print(data.AgeinDays.isnull().sum())"
   ]
  },
  {
   "cell_type": "code",
   "execution_count": 20,
   "metadata": {},
   "outputs": [
    {
     "data": {
      "text/plain": [
       "(365.0, inf]      10852\n",
       "(-1.0, 180.0]     10353\n",
       "(180.0, 365.0]     5524\n",
       "Name: Lifestage, dtype: int64"
      ]
     },
     "execution_count": 20,
     "metadata": {},
     "output_type": "execute_result"
    }
   ],
   "source": [
    "# Break age into baby(0-6 months), puppy(6-18 months), adult (18 - inf)\n",
    "data['Lifestage'] = pd.cut(data.AgeinDays,[-1,180,365,np.inf])\n",
    "data.Lifestage.value_counts()"
   ]
  },
  {
   "cell_type": "code",
   "execution_count": 21,
   "metadata": {},
   "outputs": [
    {
     "data": {
      "text/plain": [
       "<matplotlib.axes._subplots.AxesSubplot at 0x11612a780>"
      ]
     },
     "execution_count": 21,
     "metadata": {},
     "output_type": "execute_result"
    },
    {
     "data": {
      "image/png": "[encoded data removed]",
      "text/plain": [
       "<matplotlib.figure.Figure at 0x115344ba8>"
      ]
     },
     "metadata": {},
     "output_type": "display_data"
    }
   ],
   "source": [
    "sns.countplot(data = data, x='Lifestage', hue='OutcomeType')"
   ]
  },
  {
   "cell_type": "code",
   "execution_count": 22,
   "metadata": {},
   "outputs": [
    {
     "data": {
      "text/html": [
       "<div>\n",
       "<style scoped>\n",
       "    .dataframe tbody tr th:only-of-type {\n",
       "        vertical-align: middle;\n",
       "    }\n",
       "\n",
       "    .dataframe tbody tr th {\n",
       "        vertical-align: top;\n",
       "    }\n",
       "\n",
       "    .dataframe thead th {\n",
       "        text-align: right;\n",
       "    }\n",
       "</style>\n",
       "<table border=\"1\" class=\"dataframe\">\n",
       "  <thead>\n",
       "    <tr style=\"text-align: right;\">\n",
       "      <th></th>\n",
       "      <th>AnimalID</th>\n",
       "      <th>Name</th>\n",
       "      <th>DateTime</th>\n",
       "      <th>OutcomeType</th>\n",
       "      <th>OutcomeSubtype</th>\n",
       "      <th>AnimalType</th>\n",
       "      <th>SexuponOutcome</th>\n",
       "      <th>Breed</th>\n",
       "      <th>Color</th>\n",
       "      <th>Hour</th>\n",
       "      <th>DoW</th>\n",
       "      <th>Month</th>\n",
       "      <th>AgeinDays</th>\n",
       "      <th>Lifestage</th>\n",
       "    </tr>\n",
       "  </thead>\n",
       "  <tbody>\n",
       "    <tr>\n",
       "      <th>0</th>\n",
       "      <td>A671945</td>\n",
       "      <td>Hambone</td>\n",
       "      <td>2014-02-12 18:22:00</td>\n",
       "      <td>Return_to_owner</td>\n",
       "      <td>NaN</td>\n",
       "      <td>Dog</td>\n",
       "      <td>Neutered Male</td>\n",
       "      <td>Shetland Sheepdog Mix</td>\n",
       "      <td>Brown/White</td>\n",
       "      <td>18</td>\n",
       "      <td>2</td>\n",
       "      <td>2</td>\n",
       "      <td>365.0</td>\n",
       "      <td>(180.0, 365.0]</td>\n",
       "    </tr>\n",
       "    <tr>\n",
       "      <th>1</th>\n",
       "      <td>A656520</td>\n",
       "      <td>Emily</td>\n",
       "      <td>2013-10-13 12:44:00</td>\n",
       "      <td>Euthanasia</td>\n",
       "      <td>Suffering</td>\n",
       "      <td>Cat</td>\n",
       "      <td>Spayed Female</td>\n",
       "      <td>Domestic Shorthair Mix</td>\n",
       "      <td>Cream Tabby</td>\n",
       "      <td>12</td>\n",
       "      <td>6</td>\n",
       "      <td>10</td>\n",
       "      <td>365.0</td>\n",
       "      <td>(180.0, 365.0]</td>\n",
       "    </tr>\n",
       "    <tr>\n",
       "      <th>2</th>\n",
       "      <td>A686464</td>\n",
       "      <td>Pearce</td>\n",
       "      <td>2015-01-31 12:28:00</td>\n",
       "      <td>Adoption</td>\n",
       "      <td>Foster</td>\n",
       "      <td>Dog</td>\n",
       "      <td>Neutered Male</td>\n",
       "      <td>Pit Bull Mix</td>\n",
       "      <td>Blue/White</td>\n",
       "      <td>12</td>\n",
       "      <td>5</td>\n",
       "      <td>1</td>\n",
       "      <td>730.0</td>\n",
       "      <td>(365.0, inf]</td>\n",
       "    </tr>\n",
       "    <tr>\n",
       "      <th>3</th>\n",
       "      <td>A683430</td>\n",
       "      <td>NaN</td>\n",
       "      <td>2014-07-11 19:09:00</td>\n",
       "      <td>Transfer</td>\n",
       "      <td>Partner</td>\n",
       "      <td>Cat</td>\n",
       "      <td>Intact Male</td>\n",
       "      <td>Domestic Shorthair Mix</td>\n",
       "      <td>Blue Cream</td>\n",
       "      <td>19</td>\n",
       "      <td>4</td>\n",
       "      <td>7</td>\n",
       "      <td>21.0</td>\n",
       "      <td>(-1.0, 180.0]</td>\n",
       "    </tr>\n",
       "    <tr>\n",
       "      <th>4</th>\n",
       "      <td>A667013</td>\n",
       "      <td>NaN</td>\n",
       "      <td>2013-11-15 12:52:00</td>\n",
       "      <td>Transfer</td>\n",
       "      <td>Partner</td>\n",
       "      <td>Dog</td>\n",
       "      <td>Neutered Male</td>\n",
       "      <td>Lhasa Apso/Miniature Poodle</td>\n",
       "      <td>Tan</td>\n",
       "      <td>12</td>\n",
       "      <td>4</td>\n",
       "      <td>11</td>\n",
       "      <td>730.0</td>\n",
       "      <td>(365.0, inf]</td>\n",
       "    </tr>\n",
       "  </tbody>\n",
       "</table>\n",
       "</div>"
      ],
      "text/plain": [
       "  AnimalID     Name            DateTime      OutcomeType OutcomeSubtype  \\\n",
       "0  A671945  Hambone 2014-02-12 18:22:00  Return_to_owner            NaN   \n",
       "1  A656520    Emily 2013-10-13 12:44:00       Euthanasia      Suffering   \n",
       "2  A686464   Pearce 2015-01-31 12:28:00         Adoption         Foster   \n",
       "3  A683430      NaN 2014-07-11 19:09:00         Transfer        Partner   \n",
       "4  A667013      NaN 2013-11-15 12:52:00         Transfer        Partner   \n",
       "\n",
       "  AnimalType SexuponOutcome                        Breed        Color  Hour  \\\n",
       "0        Dog  Neutered Male        Shetland Sheepdog Mix  Brown/White    18   \n",
       "1        Cat  Spayed Female       Domestic Shorthair Mix  Cream Tabby    12   \n",
       "2        Dog  Neutered Male                 Pit Bull Mix   Blue/White    12   \n",
       "3        Cat    Intact Male       Domestic Shorthair Mix   Blue Cream    19   \n",
       "4        Dog  Neutered Male  Lhasa Apso/Miniature Poodle          Tan    12   \n",
       "\n",
       "   DoW  Month  AgeinDays       Lifestage  \n",
       "0    2      2      365.0  (180.0, 365.0]  \n",
       "1    6     10      365.0  (180.0, 365.0]  \n",
       "2    5      1      730.0    (365.0, inf]  \n",
       "3    4      7       21.0   (-1.0, 180.0]  \n",
       "4    4     11      730.0    (365.0, inf]  "
      ]
     },
     "execution_count": 22,
     "metadata": {},
     "output_type": "execute_result"
    }
   ],
   "source": [
    "del data['AgeuponOutcome']\n",
    "data.head()"
   ]
  },
  {
   "cell_type": "markdown",
   "metadata": {},
   "source": [
    "### d. Breed Data"
   ]
  },
  {
   "cell_type": "code",
   "execution_count": 23,
   "metadata": {
    "scrolled": true
   },
   "outputs": [
    {
     "data": {
      "text/plain": [
       "0                        Shetland Sheepdog Mix\n",
       "1                       Domestic Shorthair Mix\n",
       "2                                 Pit Bull Mix\n",
       "3                       Domestic Shorthair Mix\n",
       "4                  Lhasa Apso/Miniature Poodle\n",
       "5            Cairn Terrier/Chihuahua Shorthair\n",
       "6                       Domestic Shorthair Mix\n",
       "7                       Domestic Shorthair Mix\n",
       "8                American Pit Bull Terrier Mix\n",
       "9                                Cairn Terrier\n",
       "10                      Domestic Shorthair Mix\n",
       "11                     Miniature Schnauzer Mix\n",
       "12                                Pit Bull Mix\n",
       "13                       Yorkshire Terrier Mix\n",
       "14                          Great Pyrenees Mix\n",
       "15                      Domestic Shorthair Mix\n",
       "16                      Domestic Shorthair Mix\n",
       "17                                Pit Bull Mix\n",
       "18                                  Angora Mix\n",
       "19                     Flat Coat Retriever Mix\n",
       "20                       Queensland Heeler Mix\n",
       "21                      Domestic Shorthair Mix\n",
       "22                           Plott Hound/Boxer\n",
       "23                         German Shepherd Mix\n",
       "24                         German Shepherd Mix\n",
       "25                      Domestic Shorthair Mix\n",
       "26          American Staffordshire Terrier Mix\n",
       "27                     Chihuahua Shorthair Mix\n",
       "28                      Domestic Shorthair Mix\n",
       "29                            Russian Blue Mix\n",
       "                         ...                  \n",
       "26699            American Pit Bull Terrier Mix\n",
       "26700           Great Pyrenees/Anatol Shepherd\n",
       "26701                 Jack Russell Terrier Mix\n",
       "26702                              Siamese Mix\n",
       "26703                    Domestic Longhair Mix\n",
       "26704                   Domestic Shorthair Mix\n",
       "26705                   Domestic Shorthair Mix\n",
       "26706                   Domestic Shorthair Mix\n",
       "26707                   Domestic Shorthair Mix\n",
       "26708                  Chihuahua Shorthair Mix\n",
       "26709                  Chihuahua Shorthair Mix\n",
       "26710    Chihuahua Shorthair/Yorkshire Terrier\n",
       "26711                 Cocker Spaniel/Dachshund\n",
       "26712                              Rat Terrier\n",
       "26713                    Domestic Longhair Mix\n",
       "26714                   Domestic Shorthair Mix\n",
       "26715                              Pointer Mix\n",
       "26716                         Newfoundland Mix\n",
       "26717                          Bullmastiff Mix\n",
       "26718           Siberian Husky/German Shepherd\n",
       "26719                   Domestic Shorthair Mix\n",
       "26720                   Domestic Shorthair Mix\n",
       "26721                   Domestic Shorthair Mix\n",
       "26722                   Domestic Shorthair Mix\n",
       "26723                        Staffordshire Mix\n",
       "26724                   Domestic Shorthair Mix\n",
       "26725                   Domestic Shorthair Mix\n",
       "26726                  Old English Bulldog Mix\n",
       "26727                   Domestic Shorthair Mix\n",
       "26728                   Domestic Shorthair Mix\n",
       "Name: Breed, Length: 26729, dtype: object"
      ]
     },
     "execution_count": 23,
     "metadata": {},
     "output_type": "execute_result"
    }
   ],
   "source": [
    "data.Breed"
   ]
  },
  {
   "cell_type": "code",
   "execution_count": 24,
   "metadata": {
    "scrolled": true
   },
   "outputs": [],
   "source": [
    "# create column to identify mixed breeds\n",
    "mixMask = ['Mix' in breed for breed in data.Breed.tolist()]\n",
    "data['MixedBreed'] = mixMask\n",
    "data.MixedBreed = data.MixedBreed.astype(int)"
   ]
  },
  {
   "cell_type": "code",
   "execution_count": 25,
   "metadata": {},
   "outputs": [],
   "source": [
    "# Simplify breed data\n",
    "data[['FirstBreed',\n",
    "      'SecondBreed',\n",
    "      'ThirdBreed']] = data.Breed.str.split(\"/\", expand=True)"
   ]
  },
  {
   "cell_type": "code",
   "execution_count": 26,
   "metadata": {},
   "outputs": [],
   "source": [
    "BreedData = data.FirstBreed.tolist()\n",
    "FirstBreedList = []\n",
    "for breed in BreedData:\n",
    "    if \"Mix\" in breed: \n",
    "        breed = breed[0:-4]\n",
    "    FirstBreedList.append(breed)"
   ]
  },
  {
   "cell_type": "code",
   "execution_count": 27,
   "metadata": {},
   "outputs": [],
   "source": [
    "data['FirstBreed'] = FirstBreedList"
   ]
  },
  {
   "cell_type": "code",
   "execution_count": 28,
   "metadata": {},
   "outputs": [
    {
     "name": "stdout",
     "output_type": "stream",
     "text": [
      "1380\n"
     ]
    },
    {
     "data": {
      "text/plain": [
       "220"
      ]
     },
     "execution_count": 28,
     "metadata": {},
     "output_type": "execute_result"
    }
   ],
   "source": [
    "print(data.Breed.nunique())\n",
    "data.FirstBreed.nunique()"
   ]
  },
  {
   "cell_type": "markdown",
   "metadata": {},
   "source": [
    "### e. Color"
   ]
  },
  {
   "cell_type": "code",
   "execution_count": 29,
   "metadata": {
    "scrolled": true
   },
   "outputs": [
    {
     "data": {
      "text/plain": [
       "0                Brown/White\n",
       "1                Cream Tabby\n",
       "2                 Blue/White\n",
       "3                 Blue Cream\n",
       "4                        Tan\n",
       "5                  Black/Tan\n",
       "6                 Blue Tabby\n",
       "7                Brown Tabby\n",
       "8                  Red/White\n",
       "9                      White\n",
       "10                     Black\n",
       "11                    Silver\n",
       "12                     Brown\n",
       "13                 Black/Red\n",
       "14               White/Cream\n",
       "15        Orange Tabby/White\n",
       "16               Brown Tabby\n",
       "17               Brown/White\n",
       "18                     White\n",
       "19                     Black\n",
       "20               Black/White\n",
       "21                     White\n",
       "22       Brown Brindle/White\n",
       "23               Brown/White\n",
       "24               Black/Brown\n",
       "25              Orange Tabby\n",
       "26           Chocolate/White\n",
       "27                 White/Tan\n",
       "28         Cream Tabby/White\n",
       "29                      Blue\n",
       "                ...         \n",
       "26699            White/Black\n",
       "26700              Tan/Cream\n",
       "26701            White/Black\n",
       "26702             Lynx Point\n",
       "26703             Seal Point\n",
       "26704            White/Black\n",
       "26705                 Tortie\n",
       "26706                  Black\n",
       "26707            Brown Tabby\n",
       "26708            White/Brown\n",
       "26709             Sable/Buff\n",
       "26710            Brown/Black\n",
       "26711                   Buff\n",
       "26712          Chocolate/Tan\n",
       "26713                 Tortie\n",
       "26714           Orange Tabby\n",
       "26715            Black/White\n",
       "26716            White/Black\n",
       "26717                  Black\n",
       "26718         Black/Tricolor\n",
       "26719      Brown Tabby/White\n",
       "26720            Brown Tabby\n",
       "26721                  Black\n",
       "26722           Orange Tabby\n",
       "26723             Blue/White\n",
       "26724      Brown Tabby/White\n",
       "26725            Brown Tabby\n",
       "26726              White/Tan\n",
       "26727                  Black\n",
       "26728      Brown Tabby/White\n",
       "Name: Color, Length: 26729, dtype: object"
      ]
     },
     "execution_count": 29,
     "metadata": {},
     "output_type": "execute_result"
    }
   ],
   "source": [
    "data.Color"
   ]
  },
  {
   "cell_type": "code",
   "execution_count": 30,
   "metadata": {
    "scrolled": true
   },
   "outputs": [
    {
     "name": "stdout",
     "output_type": "stream",
     "text": [
      "57\n"
     ]
    },
    {
     "data": {
      "text/plain": [
       "26729"
      ]
     },
     "execution_count": 30,
     "metadata": {},
     "output_type": "execute_result"
    }
   ],
   "source": [
    "data[['FirstColor','SecondColor']] = data.Color.str.split(\"/\", expand=True)\n",
    "print(data.FirstColor.nunique())\n",
    "data.FirstColor.value_counts().sum()"
   ]
  },
  {
   "cell_type": "markdown",
   "metadata": {},
   "source": [
    "### f. Sex and Sterilization"
   ]
  },
  {
   "cell_type": "markdown",
   "metadata": {},
   "source": [
    "Sex and Sterilization are two distinct features so it makes more sense to separate it into two columns instead of individual dummy columns. "
   ]
  },
  {
   "cell_type": "code",
   "execution_count": 36,
   "metadata": {
    "scrolled": true
   },
   "outputs": [
    {
     "data": {
      "text/plain": [
       "Neutered Male    9779\n",
       "Spayed Female    8820\n",
       "Intact Male      3525\n",
       "Intact Female    3511\n",
       "Unknown          1094\n",
       "Name: SexuponOutcome, dtype: int64"
      ]
     },
     "execution_count": 36,
     "metadata": {},
     "output_type": "execute_result"
    }
   ],
   "source": [
    "# Fill missing value\n",
    "most_frequent = data.SexuponOutcome.value_counts()[0]\n",
    "data.SexuponOutcome.fillna(\"Unknown\", inplace=True)\n",
    "data.SexuponOutcome.value_counts()"
   ]
  },
  {
   "cell_type": "code",
   "execution_count": 37,
   "metadata": {
    "scrolled": true
   },
   "outputs": [],
   "source": [
    "# Separate SexuponOutcome column into Sex and Neutered/Spayed \n",
    "# Female = 1 and Intact = 1\n",
    "sexMask = ['Female' in sex for sex in data.SexuponOutcome.tolist()]\n",
    "sterileMask = ['Intact' in fix for fix in data.SexuponOutcome.tolist()]"
   ]
  },
  {
   "cell_type": "code",
   "execution_count": 38,
   "metadata": {},
   "outputs": [],
   "source": [
    "data['Sex'] = sexMask\n",
    "data['Sterile'] = sterileMask\n",
    "data.Sex = data.Sex.astype(int)\n",
    "data.Sterile = data.Sterile.astype(int)"
   ]
  },
  {
   "cell_type": "code",
   "execution_count": 39,
   "metadata": {},
   "outputs": [
    {
     "data": {
      "text/plain": [
       "0    14398\n",
       "1    12331\n",
       "Name: Sex, dtype: int64"
      ]
     },
     "execution_count": 39,
     "metadata": {},
     "output_type": "execute_result"
    }
   ],
   "source": [
    "data.Sex.value_counts() "
   ]
  },
  {
   "cell_type": "code",
   "execution_count": 40,
   "metadata": {},
   "outputs": [
    {
     "data": {
      "text/plain": [
       "0    19693\n",
       "1     7036\n",
       "Name: Sterile, dtype: int64"
      ]
     },
     "execution_count": 40,
     "metadata": {},
     "output_type": "execute_result"
    }
   ],
   "source": [
    "data.Sterile.value_counts()"
   ]
  },
  {
   "cell_type": "code",
   "execution_count": 41,
   "metadata": {
    "scrolled": false
   },
   "outputs": [
    {
     "data": {
      "text/html": [
       "<div>\n",
       "<style scoped>\n",
       "    .dataframe tbody tr th:only-of-type {\n",
       "        vertical-align: middle;\n",
       "    }\n",
       "\n",
       "    .dataframe tbody tr th {\n",
       "        vertical-align: top;\n",
       "    }\n",
       "\n",
       "    .dataframe thead th {\n",
       "        text-align: right;\n",
       "    }\n",
       "</style>\n",
       "<table border=\"1\" class=\"dataframe\">\n",
       "  <thead>\n",
       "    <tr style=\"text-align: right;\">\n",
       "      <th></th>\n",
       "      <th>AnimalID</th>\n",
       "      <th>Name</th>\n",
       "      <th>DateTime</th>\n",
       "      <th>OutcomeType</th>\n",
       "      <th>OutcomeSubtype</th>\n",
       "      <th>AnimalType</th>\n",
       "      <th>Breed</th>\n",
       "      <th>Color</th>\n",
       "      <th>Hour</th>\n",
       "      <th>DoW</th>\n",
       "      <th>...</th>\n",
       "      <th>AgeinDays</th>\n",
       "      <th>Lifestage</th>\n",
       "      <th>MixedBreed</th>\n",
       "      <th>FirstBreed</th>\n",
       "      <th>SecondBreed</th>\n",
       "      <th>ThirdBreed</th>\n",
       "      <th>FirstColor</th>\n",
       "      <th>SecondColor</th>\n",
       "      <th>Sex</th>\n",
       "      <th>Sterile</th>\n",
       "    </tr>\n",
       "  </thead>\n",
       "  <tbody>\n",
       "    <tr>\n",
       "      <th>0</th>\n",
       "      <td>A671945</td>\n",
       "      <td>Hambone</td>\n",
       "      <td>2014-02-12 18:22:00</td>\n",
       "      <td>Return_to_owner</td>\n",
       "      <td>NaN</td>\n",
       "      <td>Dog</td>\n",
       "      <td>Shetland Sheepdog Mix</td>\n",
       "      <td>Brown/White</td>\n",
       "      <td>18</td>\n",
       "      <td>2</td>\n",
       "      <td>...</td>\n",
       "      <td>365.0</td>\n",
       "      <td>(180.0, 365.0]</td>\n",
       "      <td>1</td>\n",
       "      <td>Shetland Sheepdog</td>\n",
       "      <td>None</td>\n",
       "      <td>None</td>\n",
       "      <td>Brown</td>\n",
       "      <td>White</td>\n",
       "      <td>0</td>\n",
       "      <td>0</td>\n",
       "    </tr>\n",
       "    <tr>\n",
       "      <th>1</th>\n",
       "      <td>A656520</td>\n",
       "      <td>Emily</td>\n",
       "      <td>2013-10-13 12:44:00</td>\n",
       "      <td>Euthanasia</td>\n",
       "      <td>Suffering</td>\n",
       "      <td>Cat</td>\n",
       "      <td>Domestic Shorthair Mix</td>\n",
       "      <td>Cream Tabby</td>\n",
       "      <td>12</td>\n",
       "      <td>6</td>\n",
       "      <td>...</td>\n",
       "      <td>365.0</td>\n",
       "      <td>(180.0, 365.0]</td>\n",
       "      <td>1</td>\n",
       "      <td>Domestic Shorthair</td>\n",
       "      <td>None</td>\n",
       "      <td>None</td>\n",
       "      <td>Cream Tabby</td>\n",
       "      <td>None</td>\n",
       "      <td>1</td>\n",
       "      <td>0</td>\n",
       "    </tr>\n",
       "    <tr>\n",
       "      <th>2</th>\n",
       "      <td>A686464</td>\n",
       "      <td>Pearce</td>\n",
       "      <td>2015-01-31 12:28:00</td>\n",
       "      <td>Adoption</td>\n",
       "      <td>Foster</td>\n",
       "      <td>Dog</td>\n",
       "      <td>Pit Bull Mix</td>\n",
       "      <td>Blue/White</td>\n",
       "      <td>12</td>\n",
       "      <td>5</td>\n",
       "      <td>...</td>\n",
       "      <td>730.0</td>\n",
       "      <td>(365.0, inf]</td>\n",
       "      <td>1</td>\n",
       "      <td>Pit Bull</td>\n",
       "      <td>None</td>\n",
       "      <td>None</td>\n",
       "      <td>Blue</td>\n",
       "      <td>White</td>\n",
       "      <td>0</td>\n",
       "      <td>0</td>\n",
       "    </tr>\n",
       "    <tr>\n",
       "      <th>3</th>\n",
       "      <td>A683430</td>\n",
       "      <td>NaN</td>\n",
       "      <td>2014-07-11 19:09:00</td>\n",
       "      <td>Transfer</td>\n",
       "      <td>Partner</td>\n",
       "      <td>Cat</td>\n",
       "      <td>Domestic Shorthair Mix</td>\n",
       "      <td>Blue Cream</td>\n",
       "      <td>19</td>\n",
       "      <td>4</td>\n",
       "      <td>...</td>\n",
       "      <td>21.0</td>\n",
       "      <td>(-1.0, 180.0]</td>\n",
       "      <td>1</td>\n",
       "      <td>Domestic Shorthair</td>\n",
       "      <td>None</td>\n",
       "      <td>None</td>\n",
       "      <td>Blue Cream</td>\n",
       "      <td>None</td>\n",
       "      <td>0</td>\n",
       "      <td>1</td>\n",
       "    </tr>\n",
       "    <tr>\n",
       "      <th>4</th>\n",
       "      <td>A667013</td>\n",
       "      <td>NaN</td>\n",
       "      <td>2013-11-15 12:52:00</td>\n",
       "      <td>Transfer</td>\n",
       "      <td>Partner</td>\n",
       "      <td>Dog</td>\n",
       "      <td>Lhasa Apso/Miniature Poodle</td>\n",
       "      <td>Tan</td>\n",
       "      <td>12</td>\n",
       "      <td>4</td>\n",
       "      <td>...</td>\n",
       "      <td>730.0</td>\n",
       "      <td>(365.0, inf]</td>\n",
       "      <td>0</td>\n",
       "      <td>Lhasa Apso</td>\n",
       "      <td>Miniature Poodle</td>\n",
       "      <td>None</td>\n",
       "      <td>Tan</td>\n",
       "      <td>None</td>\n",
       "      <td>0</td>\n",
       "      <td>0</td>\n",
       "    </tr>\n",
       "  </tbody>\n",
       "</table>\n",
       "<p>5 rows × 21 columns</p>\n",
       "</div>"
      ],
      "text/plain": [
       "  AnimalID     Name            DateTime      OutcomeType OutcomeSubtype  \\\n",
       "0  A671945  Hambone 2014-02-12 18:22:00  Return_to_owner            NaN   \n",
       "1  A656520    Emily 2013-10-13 12:44:00       Euthanasia      Suffering   \n",
       "2  A686464   Pearce 2015-01-31 12:28:00         Adoption         Foster   \n",
       "3  A683430      NaN 2014-07-11 19:09:00         Transfer        Partner   \n",
       "4  A667013      NaN 2013-11-15 12:52:00         Transfer        Partner   \n",
       "\n",
       "  AnimalType                        Breed        Color  Hour  DoW   ...     \\\n",
       "0        Dog        Shetland Sheepdog Mix  Brown/White    18    2   ...      \n",
       "1        Cat       Domestic Shorthair Mix  Cream Tabby    12    6   ...      \n",
       "2        Dog                 Pit Bull Mix   Blue/White    12    5   ...      \n",
       "3        Cat       Domestic Shorthair Mix   Blue Cream    19    4   ...      \n",
       "4        Dog  Lhasa Apso/Miniature Poodle          Tan    12    4   ...      \n",
       "\n",
       "   AgeinDays       Lifestage MixedBreed          FirstBreed       SecondBreed  \\\n",
       "0      365.0  (180.0, 365.0]          1   Shetland Sheepdog              None   \n",
       "1      365.0  (180.0, 365.0]          1  Domestic Shorthair              None   \n",
       "2      730.0    (365.0, inf]          1            Pit Bull              None   \n",
       "3       21.0   (-1.0, 180.0]          1  Domestic Shorthair              None   \n",
       "4      730.0    (365.0, inf]          0          Lhasa Apso  Miniature Poodle   \n",
       "\n",
       "  ThirdBreed   FirstColor SecondColor Sex  Sterile  \n",
       "0       None        Brown       White   0        0  \n",
       "1       None  Cream Tabby        None   1        0  \n",
       "2       None         Blue       White   0        0  \n",
       "3       None   Blue Cream        None   0        1  \n",
       "4       None          Tan        None   0        0  \n",
       "\n",
       "[5 rows x 21 columns]"
      ]
     },
     "execution_count": 41,
     "metadata": {},
     "output_type": "execute_result"
    }
   ],
   "source": [
    "del data['SexuponOutcome']\n",
    "data.head()"
   ]
  },
  {
   "cell_type": "code",
   "execution_count": 42,
   "metadata": {},
   "outputs": [
    {
     "data": {
      "text/plain": [
       "<matplotlib.axes._subplots.AxesSubplot at 0x116148c88>"
      ]
     },
     "execution_count": 42,
     "metadata": {},
     "output_type": "execute_result"
    },
    {
     "data": {
      "image/png": "[encoded data removed]",
      "text/plain": [
       "<matplotlib.figure.Figure at 0x116148ac8>"
      ]
     },
     "metadata": {},
     "output_type": "display_data"
    }
   ],
   "source": [
    "sns.countplot(data = data, x='Sterile', hue='OutcomeType')"
   ]
  },
  {
   "cell_type": "code",
   "execution_count": 43,
   "metadata": {},
   "outputs": [
    {
     "data": {
      "text/plain": [
       "<matplotlib.axes._subplots.AxesSubplot at 0x11614c4a8>"
      ]
     },
     "execution_count": 43,
     "metadata": {},
     "output_type": "execute_result"
    },
    {
     "data": {
      "image/png": "[encoded data removed]",
      "text/plain": [
       "<matplotlib.figure.Figure at 0x119bbf9e8>"
      ]
     },
     "metadata": {},
     "output_type": "display_data"
    }
   ],
   "source": [
    "sns.countplot(data = data, x='Sex', hue='OutcomeType')"
   ]
  },
  {
   "cell_type": "markdown",
   "metadata": {},
   "source": [
    "## Logistic Regression"
   ]
  },
  {
   "cell_type": "code",
   "execution_count": 44,
   "metadata": {
    "scrolled": true
   },
   "outputs": [
    {
     "data": {
      "text/plain": [
       "['AnimalID',\n",
       " 'Name',\n",
       " 'DateTime',\n",
       " 'OutcomeType',\n",
       " 'OutcomeSubtype',\n",
       " 'AnimalType',\n",
       " 'Breed',\n",
       " 'Color',\n",
       " 'Hour',\n",
       " 'DoW',\n",
       " 'Month',\n",
       " 'AgeinDays',\n",
       " 'Lifestage',\n",
       " 'MixedBreed',\n",
       " 'FirstBreed',\n",
       " 'SecondBreed',\n",
       " 'ThirdBreed',\n",
       " 'FirstColor',\n",
       " 'SecondColor',\n",
       " 'Sex',\n",
       " 'Sterile']"
      ]
     },
     "execution_count": 44,
     "metadata": {},
     "output_type": "execute_result"
    }
   ],
   "source": [
    "data.columns.tolist()"
   ]
  },
  {
   "cell_type": "code",
   "execution_count": 45,
   "metadata": {},
   "outputs": [],
   "source": [
    "# Generate features and target\n",
    "feature_cols = [\n",
    " 'AnimalType',\n",
    " 'Hour',\n",
    " 'DoW',\n",
    " 'Month',\n",
    " 'AgeinDays',\n",
    " 'Lifestage',\n",
    " 'MixedBreed',\n",
    " 'FirstBreed',\n",
    " 'FirstColor',\n",
    " 'Sex',\n",
    " 'Sterile'\n",
    " ]\n",
    "le = LabelEncoder()\n",
    "encoded_X = data[feature_cols].apply(le.fit_transform)\n",
    "X = encoded_X\n",
    "y = le.fit_transform(data.OutcomeType)"
   ]
  },
  {
   "cell_type": "code",
   "execution_count": 46,
   "metadata": {},
   "outputs": [
    {
     "name": "stdout",
     "output_type": "stream",
     "text": [
      "Model Accuracy: 0.6205262501558798\n"
     ]
    }
   ],
   "source": [
    "# Compute Logistic Regression to Predict Outcome\n",
    "logreg = LogisticRegression(random_state=1)\n",
    "X_train,X_test,y_train,y_test = train_test_split(X,y,test_size=.3)\n",
    "logreg.fit(X_train,y_train)\n",
    "OutcomePredLog = logreg.predict(X_test)\n",
    "print('Model Accuracy:',metrics.accuracy_score(y_test, OutcomePredLog))"
   ]
  },
  {
   "cell_type": "code",
   "execution_count": 47,
   "metadata": {
    "scrolled": true
   },
   "outputs": [
    {
     "name": "stdout",
     "output_type": "stream",
     "text": [
      "Mean cross validation accuracy: 0.6165590861831024\n",
      "Std of cross validation accuracy: 0.0049293011852523435\n"
     ]
    }
   ],
   "source": [
    "cross_val_scores_log = cross_val_score(logreg,X,y,cv=10,scoring='accuracy')\n",
    "print(\"Mean cross validation accuracy:\",np.mean(cross_val_scores_log))\n",
    "print(\"Std of cross validation accuracy:\",np.std(cross_val_scores_log))"
   ]
  },
  {
   "cell_type": "code",
   "execution_count": 48,
   "metadata": {
    "scrolled": false
   },
   "outputs": [
    {
     "data": {
      "text/plain": [
       "[('AnimalType', 0.10030362978100363),\n",
       " ('Hour', 0.14155062807091529),\n",
       " ('DoW', 0.12161052649094321),\n",
       " ('Month', 0.011380322343410989),\n",
       " ('AgeinDays', 0.027388159253436004),\n",
       " ('Lifestage', -0.9728639737140731),\n",
       " ('MixedBreed', -0.0911845218040243),\n",
       " ('FirstBreed', -0.0009940695193188995),\n",
       " ('FirstColor', 0.0004564641965245386),\n",
       " ('Sex', 0.45158857792461315),\n",
       " ('Sterile', -3.3966985697719507)]"
      ]
     },
     "execution_count": 48,
     "metadata": {},
     "output_type": "execute_result"
    }
   ],
   "source": [
    "list(zip(feature_cols, logreg.coef_[0]))"
   ]
  },
  {
   "cell_type": "markdown",
   "metadata": {},
   "source": [
    "## Random Forest"
   ]
  },
  {
   "cell_type": "code",
   "execution_count": 49,
   "metadata": {},
   "outputs": [
    {
     "name": "stdout",
     "output_type": "stream",
     "text": [
      "Random Forest Train-Test accuracy: 0.6526998378850231\n"
     ]
    }
   ],
   "source": [
    "# Generate Random Forest with 100 trees using train_test_split method\n",
    "rf100 = RandomForestClassifier(n_estimators=100,random_state=1)\n",
    "\n",
    "X_train,X_test,y_train,y_test = train_test_split(X,y,test_size=.3)\n",
    "rf100.fit(X_train, y_train)\n",
    "y_pred_rf_100 = rf100.predict(X_test)\n",
    "\n",
    "print(\"Random Forest Train-Test accuracy:\",metrics.accuracy_score(y_test,y_pred_rf_100))"
   ]
  },
  {
   "cell_type": "code",
   "execution_count": 50,
   "metadata": {},
   "outputs": [
    {
     "name": "stdout",
     "output_type": "stream",
     "text": [
      "Mean cv-accuracy: 0.6538223121660227\n",
      "Std of cv-accuracy: 0.005172076452690497\n"
     ]
    }
   ],
   "source": [
    "# random forest with cross validation method\n",
    "cross_val_scores_100 = cross_val_score(rf100,X,y,cv=10,scoring='accuracy')\n",
    "print(\"Mean cv-accuracy:\",np.mean(cross_val_scores_100))\n",
    "print(\"Std of cv-accuracy:\",np.std(cross_val_scores_100))"
   ]
  },
  {
   "cell_type": "code",
   "execution_count": 51,
   "metadata": {},
   "outputs": [
    {
     "data": {
      "text/html": [
       "<div>\n",
       "<style scoped>\n",
       "    .dataframe tbody tr th:only-of-type {\n",
       "        vertical-align: middle;\n",
       "    }\n",
       "\n",
       "    .dataframe tbody tr th {\n",
       "        vertical-align: top;\n",
       "    }\n",
       "\n",
       "    .dataframe thead th {\n",
       "        text-align: right;\n",
       "    }\n",
       "</style>\n",
       "<table border=\"1\" class=\"dataframe\">\n",
       "  <thead>\n",
       "    <tr style=\"text-align: right;\">\n",
       "      <th></th>\n",
       "      <th>feature</th>\n",
       "      <th>importance</th>\n",
       "    </tr>\n",
       "  </thead>\n",
       "  <tbody>\n",
       "    <tr>\n",
       "      <th>4</th>\n",
       "      <td>AgeinDays</td>\n",
       "      <td>0.175588</td>\n",
       "    </tr>\n",
       "    <tr>\n",
       "      <th>1</th>\n",
       "      <td>Hour</td>\n",
       "      <td>0.151887</td>\n",
       "    </tr>\n",
       "    <tr>\n",
       "      <th>3</th>\n",
       "      <td>Month</td>\n",
       "      <td>0.130063</td>\n",
       "    </tr>\n",
       "    <tr>\n",
       "      <th>7</th>\n",
       "      <td>FirstBreed</td>\n",
       "      <td>0.121944</td>\n",
       "    </tr>\n",
       "    <tr>\n",
       "      <th>8</th>\n",
       "      <td>FirstColor</td>\n",
       "      <td>0.110934</td>\n",
       "    </tr>\n",
       "    <tr>\n",
       "      <th>10</th>\n",
       "      <td>Sterile</td>\n",
       "      <td>0.107259</td>\n",
       "    </tr>\n",
       "    <tr>\n",
       "      <th>2</th>\n",
       "      <td>DoW</td>\n",
       "      <td>0.096158</td>\n",
       "    </tr>\n",
       "    <tr>\n",
       "      <th>5</th>\n",
       "      <td>Lifestage</td>\n",
       "      <td>0.035348</td>\n",
       "    </tr>\n",
       "    <tr>\n",
       "      <th>9</th>\n",
       "      <td>Sex</td>\n",
       "      <td>0.028433</td>\n",
       "    </tr>\n",
       "    <tr>\n",
       "      <th>0</th>\n",
       "      <td>AnimalType</td>\n",
       "      <td>0.023078</td>\n",
       "    </tr>\n",
       "    <tr>\n",
       "      <th>6</th>\n",
       "      <td>MixedBreed</td>\n",
       "      <td>0.019308</td>\n",
       "    </tr>\n",
       "  </tbody>\n",
       "</table>\n",
       "</div>"
      ],
      "text/plain": [
       "       feature  importance\n",
       "4    AgeinDays    0.175588\n",
       "1         Hour    0.151887\n",
       "3        Month    0.130063\n",
       "7   FirstBreed    0.121944\n",
       "8   FirstColor    0.110934\n",
       "10     Sterile    0.107259\n",
       "2          DoW    0.096158\n",
       "5    Lifestage    0.035348\n",
       "9          Sex    0.028433\n",
       "0   AnimalType    0.023078\n",
       "6   MixedBreed    0.019308"
      ]
     },
     "execution_count": 51,
     "metadata": {},
     "output_type": "execute_result"
    }
   ],
   "source": [
    "pd.DataFrame({'feature':feature_cols, \n",
    "              'importance':rf100.feature_importances_}).sort_values(by='importance', ascending=False)"
   ]
  },
  {
   "cell_type": "markdown",
   "metadata": {},
   "source": [
    "### Grid Search on Logistic Regression and Random Forest"
   ]
  },
  {
   "cell_type": "code",
   "execution_count": 52,
   "metadata": {},
   "outputs": [],
   "source": [
    "from sklearn.model_selection import GridSearchCV"
   ]
  },
  {
   "cell_type": "code",
   "execution_count": null,
   "metadata": {},
   "outputs": [],
   "source": [
    "rf_for_grid = RandomForestClassifier(random_state=1, n_jobs=-1)\n",
    "estimator_range = range(10,101,10)\n",
    "feature_range = range(1,len(feature_cols)+1)\n",
    "param_grid = dict(n_estimators = estimator_range, \n",
    "                  max_features = feature_range)\n",
    "RFgrid = GridSearchCV(rf_for_grid, param_grid, cv=10, scoring='accuracy')\n",
    "RFgrid.fit(X, y)\n"
   ]
  },
  {
   "cell_type": "code",
   "execution_count": 65,
   "metadata": {},
   "outputs": [
    {
     "data": {
      "text/plain": [
       "{'bootstrap': True,\n",
       " 'class_weight': None,\n",
       " 'criterion': 'gini',\n",
       " 'max_depth': None,\n",
       " 'max_features': 'auto',\n",
       " 'max_leaf_nodes': None,\n",
       " 'min_impurity_decrease': 0.0,\n",
       " 'min_impurity_split': None,\n",
       " 'min_samples_leaf': 1,\n",
       " 'min_samples_split': 2,\n",
       " 'min_weight_fraction_leaf': 0.0,\n",
       " 'n_estimators': 100,\n",
       " 'n_jobs': -1,\n",
       " 'oob_score': False,\n",
       " 'random_state': 1,\n",
       " 'verbose': 0,\n",
       " 'warm_start': False}"
      ]
     },
     "execution_count": 65,
     "metadata": {},
     "output_type": "execute_result"
    }
   ],
   "source": [
    "rf_for_grid.get_params()"
   ]
  },
  {
   "cell_type": "code",
   "execution_count": 105,
   "metadata": {},
   "outputs": [
    {
     "data": {
      "text/plain": [
       "RandomForestClassifier(bootstrap=True, class_weight=None, criterion='gini',\n",
       "            max_depth=None, max_features=5, max_leaf_nodes=None,\n",
       "            min_impurity_decrease=0.0, min_impurity_split=None,\n",
       "            min_samples_leaf=1, min_samples_split=2,\n",
       "            min_weight_fraction_leaf=0.0, n_estimators=70, n_jobs=-1,\n",
       "            oob_score=False, random_state=1, verbose=0, warm_start=False)"
      ]
     },
     "execution_count": 105,
     "metadata": {},
     "output_type": "execute_result"
    }
   ],
   "source": [
    "RFgrid.best_estimator_"
   ]
  },
  {
   "cell_type": "code",
   "execution_count": 107,
   "metadata": {
    "scrolled": true
   },
   "outputs": [
    {
     "data": {
      "text/plain": [
       "0.6543454674697894"
      ]
     },
     "execution_count": 107,
     "metadata": {},
     "output_type": "execute_result"
    }
   ],
   "source": [
    "RFgrid.best_score_"
   ]
  },
  {
   "cell_type": "code",
   "execution_count": 108,
   "metadata": {},
   "outputs": [
    {
     "data": {
      "text/plain": [
       "{'max_features': 5, 'n_estimators': 70}"
      ]
     },
     "execution_count": 108,
     "metadata": {},
     "output_type": "execute_result"
    }
   ],
   "source": [
    "RFgrid.best_params_"
   ]
  },
  {
   "cell_type": "code",
   "execution_count": 109,
   "metadata": {},
   "outputs": [
    {
     "name": "stderr",
     "output_type": "stream",
     "text": [
      "/Users/Nicole/anaconda3/lib/python3.6/site-packages/sklearn/model_selection/_search.py:761: DeprecationWarning: The grid_scores_ attribute was deprecated in version 0.18 in favor of the more elaborate cv_results_ attribute. The grid_scores_ attribute will not be available from 0.20\n",
      "  DeprecationWarning)\n"
     ]
    },
    {
     "data": {
      "text/plain": [
       "[mean: 0.62711, std: 0.00663, params: {'max_features': 1, 'n_estimators': 10},\n",
       " mean: 0.63908, std: 0.00675, params: {'max_features': 1, 'n_estimators': 20},\n",
       " mean: 0.64286, std: 0.00555, params: {'max_features': 1, 'n_estimators': 30},\n",
       " mean: 0.64499, std: 0.00599, params: {'max_features': 1, 'n_estimators': 40},\n",
       " mean: 0.64481, std: 0.00592, params: {'max_features': 1, 'n_estimators': 50},\n",
       " mean: 0.64623, std: 0.00525, params: {'max_features': 1, 'n_estimators': 60},\n",
       " mean: 0.64757, std: 0.00513, params: {'max_features': 1, 'n_estimators': 70},\n",
       " mean: 0.64828, std: 0.00484, params: {'max_features': 1, 'n_estimators': 80},\n",
       " mean: 0.64772, std: 0.00579, params: {'max_features': 1, 'n_estimators': 90},\n",
       " mean: 0.64813, std: 0.00535, params: {'max_features': 1, 'n_estimators': 100},\n",
       " mean: 0.63167, std: 0.00681, params: {'max_features': 2, 'n_estimators': 10},\n",
       " mean: 0.64073, std: 0.00632, params: {'max_features': 2, 'n_estimators': 20},\n",
       " mean: 0.64365, std: 0.00563, params: {'max_features': 2, 'n_estimators': 30},\n",
       " mean: 0.64712, std: 0.00676, params: {'max_features': 2, 'n_estimators': 40},\n",
       " mean: 0.64933, std: 0.00711, params: {'max_features': 2, 'n_estimators': 50},\n",
       " mean: 0.65083, std: 0.00592, params: {'max_features': 2, 'n_estimators': 60},\n",
       " mean: 0.65296, std: 0.00622, params: {'max_features': 2, 'n_estimators': 70},\n",
       " mean: 0.65218, std: 0.00661, params: {'max_features': 2, 'n_estimators': 80},\n",
       " mean: 0.65292, std: 0.00733, params: {'max_features': 2, 'n_estimators': 90},\n",
       " mean: 0.65382, std: 0.00692, params: {'max_features': 2, 'n_estimators': 100},\n",
       " mean: 0.63631, std: 0.00592, params: {'max_features': 3, 'n_estimators': 10},\n",
       " mean: 0.64368, std: 0.00778, params: {'max_features': 3, 'n_estimators': 20},\n",
       " mean: 0.64634, std: 0.00670, params: {'max_features': 3, 'n_estimators': 30},\n",
       " mean: 0.64866, std: 0.00528, params: {'max_features': 3, 'n_estimators': 40},\n",
       " mean: 0.65120, std: 0.00585, params: {'max_features': 3, 'n_estimators': 50},\n",
       " mean: 0.65075, std: 0.00535, params: {'max_features': 3, 'n_estimators': 60},\n",
       " mean: 0.65105, std: 0.00634, params: {'max_features': 3, 'n_estimators': 70},\n",
       " mean: 0.65218, std: 0.00591, params: {'max_features': 3, 'n_estimators': 80},\n",
       " mean: 0.65352, std: 0.00549, params: {'max_features': 3, 'n_estimators': 90},\n",
       " mean: 0.65382, std: 0.00517, params: {'max_features': 3, 'n_estimators': 100},\n",
       " mean: 0.63295, std: 0.00562, params: {'max_features': 4, 'n_estimators': 10},\n",
       " mean: 0.64402, std: 0.00561, params: {'max_features': 4, 'n_estimators': 20},\n",
       " mean: 0.64933, std: 0.00338, params: {'max_features': 4, 'n_estimators': 30},\n",
       " mean: 0.65090, std: 0.00421, params: {'max_features': 4, 'n_estimators': 40},\n",
       " mean: 0.65079, std: 0.00510, params: {'max_features': 4, 'n_estimators': 50},\n",
       " mean: 0.65233, std: 0.00567, params: {'max_features': 4, 'n_estimators': 60},\n",
       " mean: 0.65143, std: 0.00510, params: {'max_features': 4, 'n_estimators': 70},\n",
       " mean: 0.65277, std: 0.00702, params: {'max_features': 4, 'n_estimators': 80},\n",
       " mean: 0.65244, std: 0.00498, params: {'max_features': 4, 'n_estimators': 90},\n",
       " mean: 0.65390, std: 0.00556, params: {'max_features': 4, 'n_estimators': 100},\n",
       " mean: 0.63639, std: 0.00660, params: {'max_features': 5, 'n_estimators': 10},\n",
       " mean: 0.64510, std: 0.00549, params: {'max_features': 5, 'n_estimators': 20},\n",
       " mean: 0.64922, std: 0.00730, params: {'max_features': 5, 'n_estimators': 30},\n",
       " mean: 0.65143, std: 0.00557, params: {'max_features': 5, 'n_estimators': 40},\n",
       " mean: 0.65180, std: 0.00681, params: {'max_features': 5, 'n_estimators': 50},\n",
       " mean: 0.65240, std: 0.00522, params: {'max_features': 5, 'n_estimators': 60},\n",
       " mean: 0.65435, std: 0.00732, params: {'max_features': 5, 'n_estimators': 70},\n",
       " mean: 0.65240, std: 0.00766, params: {'max_features': 5, 'n_estimators': 80},\n",
       " mean: 0.65311, std: 0.00694, params: {'max_features': 5, 'n_estimators': 90},\n",
       " mean: 0.65393, std: 0.00596, params: {'max_features': 5, 'n_estimators': 100},\n",
       " mean: 0.63396, std: 0.00441, params: {'max_features': 6, 'n_estimators': 10},\n",
       " mean: 0.64320, std: 0.00465, params: {'max_features': 6, 'n_estimators': 20},\n",
       " mean: 0.64926, std: 0.00607, params: {'max_features': 6, 'n_estimators': 30},\n",
       " mean: 0.64971, std: 0.00518, params: {'max_features': 6, 'n_estimators': 40},\n",
       " mean: 0.65146, std: 0.00504, params: {'max_features': 6, 'n_estimators': 50},\n",
       " mean: 0.65304, std: 0.00671, params: {'max_features': 6, 'n_estimators': 60},\n",
       " mean: 0.65247, std: 0.00691, params: {'max_features': 6, 'n_estimators': 70},\n",
       " mean: 0.65266, std: 0.00725, params: {'max_features': 6, 'n_estimators': 80},\n",
       " mean: 0.65337, std: 0.00658, params: {'max_features': 6, 'n_estimators': 90},\n",
       " mean: 0.65233, std: 0.00688, params: {'max_features': 6, 'n_estimators': 100},\n",
       " mean: 0.63467, std: 0.00685, params: {'max_features': 7, 'n_estimators': 10},\n",
       " mean: 0.64327, std: 0.00562, params: {'max_features': 7, 'n_estimators': 20},\n",
       " mean: 0.64675, std: 0.00567, params: {'max_features': 7, 'n_estimators': 30},\n",
       " mean: 0.65102, std: 0.00702, params: {'max_features': 7, 'n_estimators': 40},\n",
       " mean: 0.65075, std: 0.00574, params: {'max_features': 7, 'n_estimators': 50},\n",
       " mean: 0.65049, std: 0.00613, params: {'max_features': 7, 'n_estimators': 60},\n",
       " mean: 0.65034, std: 0.00568, params: {'max_features': 7, 'n_estimators': 70},\n",
       " mean: 0.65102, std: 0.00590, params: {'max_features': 7, 'n_estimators': 80},\n",
       " mean: 0.65102, std: 0.00545, params: {'max_features': 7, 'n_estimators': 90},\n",
       " mean: 0.65098, std: 0.00540, params: {'max_features': 7, 'n_estimators': 100},\n",
       " mean: 0.62920, std: 0.00538, params: {'max_features': 8, 'n_estimators': 10},\n",
       " mean: 0.64256, std: 0.00409, params: {'max_features': 8, 'n_estimators': 20},\n",
       " mean: 0.64679, std: 0.00654, params: {'max_features': 8, 'n_estimators': 30},\n",
       " mean: 0.64791, std: 0.00630, params: {'max_features': 8, 'n_estimators': 40},\n",
       " mean: 0.64956, std: 0.00655, params: {'max_features': 8, 'n_estimators': 50},\n",
       " mean: 0.65083, std: 0.00561, params: {'max_features': 8, 'n_estimators': 60},\n",
       " mean: 0.65038, std: 0.00516, params: {'max_features': 8, 'n_estimators': 70},\n",
       " mean: 0.65064, std: 0.00415, params: {'max_features': 8, 'n_estimators': 80},\n",
       " mean: 0.65206, std: 0.00491, params: {'max_features': 8, 'n_estimators': 90},\n",
       " mean: 0.65240, std: 0.00547, params: {'max_features': 8, 'n_estimators': 100},\n",
       " mean: 0.63500, std: 0.00551, params: {'max_features': 9, 'n_estimators': 10},\n",
       " mean: 0.64458, std: 0.00538, params: {'max_features': 9, 'n_estimators': 20},\n",
       " mean: 0.64780, std: 0.00614, params: {'max_features': 9, 'n_estimators': 30},\n",
       " mean: 0.64862, std: 0.00634, params: {'max_features': 9, 'n_estimators': 40},\n",
       " mean: 0.65173, std: 0.00608, params: {'max_features': 9, 'n_estimators': 50},\n",
       " mean: 0.65045, std: 0.00669, params: {'max_features': 9, 'n_estimators': 60},\n",
       " mean: 0.65173, std: 0.00599, params: {'max_features': 9, 'n_estimators': 70},\n",
       " mean: 0.65244, std: 0.00505, params: {'max_features': 9, 'n_estimators': 80},\n",
       " mean: 0.65191, std: 0.00594, params: {'max_features': 9, 'n_estimators': 90},\n",
       " mean: 0.65255, std: 0.00506, params: {'max_features': 9, 'n_estimators': 100},\n",
       " mean: 0.62958, std: 0.00410, params: {'max_features': 10, 'n_estimators': 10},\n",
       " mean: 0.63983, std: 0.00678, params: {'max_features': 10, 'n_estimators': 20},\n",
       " mean: 0.64495, std: 0.00649, params: {'max_features': 10, 'n_estimators': 30},\n",
       " mean: 0.64555, std: 0.00638, params: {'max_features': 10, 'n_estimators': 40},\n",
       " mean: 0.64832, std: 0.00796, params: {'max_features': 10, 'n_estimators': 50},\n",
       " mean: 0.64806, std: 0.00538, params: {'max_features': 10, 'n_estimators': 60},\n",
       " mean: 0.64959, std: 0.00530, params: {'max_features': 10, 'n_estimators': 70},\n",
       " mean: 0.64926, std: 0.00458, params: {'max_features': 10, 'n_estimators': 80},\n",
       " mean: 0.64933, std: 0.00563, params: {'max_features': 10, 'n_estimators': 90},\n",
       " mean: 0.64877, std: 0.00466, params: {'max_features': 10, 'n_estimators': 100},\n",
       " mean: 0.62808, std: 0.00559, params: {'max_features': 11, 'n_estimators': 10},\n",
       " mean: 0.63796, std: 0.00779, params: {'max_features': 11, 'n_estimators': 20},\n",
       " mean: 0.64114, std: 0.00572, params: {'max_features': 11, 'n_estimators': 30},\n",
       " mean: 0.64544, std: 0.00586, params: {'max_features': 11, 'n_estimators': 40},\n",
       " mean: 0.64619, std: 0.00436, params: {'max_features': 11, 'n_estimators': 50},\n",
       " mean: 0.64735, std: 0.00465, params: {'max_features': 11, 'n_estimators': 60},\n",
       " mean: 0.64847, std: 0.00561, params: {'max_features': 11, 'n_estimators': 70},\n",
       " mean: 0.64959, std: 0.00494, params: {'max_features': 11, 'n_estimators': 80},\n",
       " mean: 0.64933, std: 0.00461, params: {'max_features': 11, 'n_estimators': 90},\n",
       " mean: 0.64825, std: 0.00554, params: {'max_features': 11, 'n_estimators': 100}]"
      ]
     },
     "execution_count": 109,
     "metadata": {},
     "output_type": "execute_result"
    }
   ],
   "source": [
    "RFgrid.grid_scores_"
   ]
  },
  {
   "cell_type": "code",
   "execution_count": 55,
   "metadata": {
    "scrolled": true
   },
   "outputs": [
    {
     "name": "stdout",
     "output_type": "stream",
     "text": [
      "Mean Accuracy for depth 12: 0.6648212879403809\n"
     ]
    }
   ],
   "source": [
    "rf_best = RandomForestClassifier(n_estimators=70, max_features=5, max_depth = 12, random_state=1)\n",
    "\n",
    "X_train,X_test,y_train,y_test = train_test_split(X,y,test_size=.3)\n",
    "rf_best.fit(X_train, y_train)\n",
    "y_pred_prob_rf_best = rf_best.predict_proba(X_test)\n",
    "\n",
    "print(\"Mean Accuracy for depth 12:\", cross_val_score(rf_best, X, y, scoring='accuracy').mean())"
   ]
  },
  {
   "cell_type": "code",
   "execution_count": 56,
   "metadata": {
    "scrolled": true
   },
   "outputs": [
    {
     "data": {
      "text/html": [
       "<div>\n",
       "<style scoped>\n",
       "    .dataframe tbody tr th:only-of-type {\n",
       "        vertical-align: middle;\n",
       "    }\n",
       "\n",
       "    .dataframe tbody tr th {\n",
       "        vertical-align: top;\n",
       "    }\n",
       "\n",
       "    .dataframe thead th {\n",
       "        text-align: right;\n",
       "    }\n",
       "</style>\n",
       "<table border=\"1\" class=\"dataframe\">\n",
       "  <thead>\n",
       "    <tr style=\"text-align: right;\">\n",
       "      <th></th>\n",
       "      <th>feature</th>\n",
       "      <th>importance</th>\n",
       "    </tr>\n",
       "  </thead>\n",
       "  <tbody>\n",
       "    <tr>\n",
       "      <th>4</th>\n",
       "      <td>AgeinDays</td>\n",
       "      <td>0.239404</td>\n",
       "    </tr>\n",
       "    <tr>\n",
       "      <th>10</th>\n",
       "      <td>Sterile</td>\n",
       "      <td>0.203978</td>\n",
       "    </tr>\n",
       "    <tr>\n",
       "      <th>1</th>\n",
       "      <td>Hour</td>\n",
       "      <td>0.153908</td>\n",
       "    </tr>\n",
       "    <tr>\n",
       "      <th>7</th>\n",
       "      <td>FirstBreed</td>\n",
       "      <td>0.075654</td>\n",
       "    </tr>\n",
       "    <tr>\n",
       "      <th>2</th>\n",
       "      <td>DoW</td>\n",
       "      <td>0.068169</td>\n",
       "    </tr>\n",
       "    <tr>\n",
       "      <th>3</th>\n",
       "      <td>Month</td>\n",
       "      <td>0.066887</td>\n",
       "    </tr>\n",
       "    <tr>\n",
       "      <th>5</th>\n",
       "      <td>Lifestage</td>\n",
       "      <td>0.060429</td>\n",
       "    </tr>\n",
       "    <tr>\n",
       "      <th>8</th>\n",
       "      <td>FirstColor</td>\n",
       "      <td>0.059507</td>\n",
       "    </tr>\n",
       "    <tr>\n",
       "      <th>0</th>\n",
       "      <td>AnimalType</td>\n",
       "      <td>0.041508</td>\n",
       "    </tr>\n",
       "    <tr>\n",
       "      <th>9</th>\n",
       "      <td>Sex</td>\n",
       "      <td>0.019904</td>\n",
       "    </tr>\n",
       "    <tr>\n",
       "      <th>6</th>\n",
       "      <td>MixedBreed</td>\n",
       "      <td>0.010653</td>\n",
       "    </tr>\n",
       "  </tbody>\n",
       "</table>\n",
       "</div>"
      ],
      "text/plain": [
       "       feature  importance\n",
       "4    AgeinDays    0.239404\n",
       "10     Sterile    0.203978\n",
       "1         Hour    0.153908\n",
       "7   FirstBreed    0.075654\n",
       "2          DoW    0.068169\n",
       "3        Month    0.066887\n",
       "5    Lifestage    0.060429\n",
       "8   FirstColor    0.059507\n",
       "0   AnimalType    0.041508\n",
       "9          Sex    0.019904\n",
       "6   MixedBreed    0.010653"
      ]
     },
     "execution_count": 56,
     "metadata": {},
     "output_type": "execute_result"
    }
   ],
   "source": [
    "# compute feature importances\n",
    "pd.DataFrame({'feature':feature_cols, \n",
    "              'importance':rf_best.feature_importances_}).sort_values(by='importance', ascending=False)"
   ]
  },
  {
   "cell_type": "code",
   "execution_count": 67,
   "metadata": {},
   "outputs": [
    {
     "data": {
      "text/plain": [
       "GridSearchCV(cv=10, error_score='raise',\n",
       "       estimator=LogisticRegression(C=1.0, class_weight=None, dual=False, fit_intercept=True,\n",
       "          intercept_scaling=1, max_iter=100, multi_class='ovr', n_jobs=1,\n",
       "          penalty='l2', random_state=None, solver='liblinear', tol=0.0001,\n",
       "          verbose=0, warm_start=False),\n",
       "       fit_params=None, iid=True, n_jobs=1,\n",
       "       param_grid={'penalty': ['l1', 'l2'], 'C': [0.1, 1, 10, 100]},\n",
       "       pre_dispatch='2*n_jobs', refit=True, return_train_score='warn',\n",
       "       scoring='accuracy', verbose=0)"
      ]
     },
     "execution_count": 67,
     "metadata": {},
     "output_type": "execute_result"
    }
   ],
   "source": [
    "log_for_grid = LogisticRegression()\n",
    "param_grid2 = {\"penalty\":['l1','l2'], 'C':[0.1,1,10,100]}\n",
    "LogGrid = GridSearchCV(log_for_grid, param_grid2, cv=10, scoring='accuracy')\n",
    "LogGrid.fit(X, y)"
   ]
  },
  {
   "cell_type": "code",
   "execution_count": 66,
   "metadata": {
    "scrolled": true
   },
   "outputs": [
    {
     "data": {
      "text/plain": [
       "{'C': 1.0,\n",
       " 'class_weight': None,\n",
       " 'dual': False,\n",
       " 'fit_intercept': True,\n",
       " 'intercept_scaling': 1,\n",
       " 'max_iter': 100,\n",
       " 'multi_class': 'ovr',\n",
       " 'n_jobs': 1,\n",
       " 'penalty': 'l2',\n",
       " 'random_state': None,\n",
       " 'solver': 'liblinear',\n",
       " 'tol': 0.0001,\n",
       " 'verbose': 0,\n",
       " 'warm_start': False}"
      ]
     },
     "execution_count": 66,
     "metadata": {},
     "output_type": "execute_result"
    }
   ],
   "source": [
    "log_for_grid.get_params()"
   ]
  },
  {
   "cell_type": "code",
   "execution_count": 69,
   "metadata": {
    "scrolled": true
   },
   "outputs": [
    {
     "name": "stderr",
     "output_type": "stream",
     "text": [
      "/Users/Nicole/anaconda3/lib/python3.6/site-packages/sklearn/model_selection/_search.py:761: DeprecationWarning: The grid_scores_ attribute was deprecated in version 0.18 in favor of the more elaborate cv_results_ attribute. The grid_scores_ attribute will not be available from 0.20\n",
      "  DeprecationWarning)\n"
     ]
    },
    {
     "data": {
      "text/plain": [
       "[mean: 0.61716, std: 0.00464, params: {'C': 0.1, 'penalty': 'l1'},\n",
       " mean: 0.61551, std: 0.00546, params: {'C': 0.1, 'penalty': 'l2'},\n",
       " mean: 0.61705, std: 0.00520, params: {'C': 1, 'penalty': 'l1'},\n",
       " mean: 0.61693, std: 0.00524, params: {'C': 1, 'penalty': 'l2'},\n",
       " mean: 0.61686, std: 0.00516, params: {'C': 10, 'penalty': 'l1'},\n",
       " mean: 0.61708, std: 0.00527, params: {'C': 10, 'penalty': 'l2'},\n",
       " mean: 0.61682, std: 0.00533, params: {'C': 100, 'penalty': 'l1'},\n",
       " mean: 0.61708, std: 0.00516, params: {'C': 100, 'penalty': 'l2'}]"
      ]
     },
     "execution_count": 69,
     "metadata": {},
     "output_type": "execute_result"
    }
   ],
   "source": [
    "LogGrid.grid_scores_"
   ]
  },
  {
   "cell_type": "code",
   "execution_count": 70,
   "metadata": {},
   "outputs": [
    {
     "data": {
      "text/plain": [
       "0.6171573945901455"
      ]
     },
     "execution_count": 70,
     "metadata": {},
     "output_type": "execute_result"
    }
   ],
   "source": [
    "LogGrid.best_score_"
   ]
  },
  {
   "cell_type": "code",
   "execution_count": 71,
   "metadata": {},
   "outputs": [
    {
     "data": {
      "text/plain": [
       "{'C': 0.1, 'penalty': 'l1'}"
      ]
     },
     "execution_count": 71,
     "metadata": {},
     "output_type": "execute_result"
    }
   ],
   "source": [
    "LogGrid.best_params_"
   ]
  },
  {
   "cell_type": "code",
   "execution_count": 57,
   "metadata": {},
   "outputs": [],
   "source": [
    "best_log = LogisticRegression(C=0.1, penalty='l1')\n",
    "X_train,X_test,y_train,y_test = train_test_split(X,y,test_size=.3)\n",
    "best_log.fit(X_train, y_train)\n",
    "y_pred_prob_log_best = best_log.predict_proba(X_test)"
   ]
  },
  {
   "cell_type": "code",
   "execution_count": 58,
   "metadata": {},
   "outputs": [
    {
     "data": {
      "text/html": [
       "<div>\n",
       "<style scoped>\n",
       "    .dataframe tbody tr th:only-of-type {\n",
       "        vertical-align: middle;\n",
       "    }\n",
       "\n",
       "    .dataframe tbody tr th {\n",
       "        vertical-align: top;\n",
       "    }\n",
       "\n",
       "    .dataframe thead th {\n",
       "        text-align: right;\n",
       "    }\n",
       "</style>\n",
       "<table border=\"1\" class=\"dataframe\">\n",
       "  <thead>\n",
       "    <tr style=\"text-align: right;\">\n",
       "      <th></th>\n",
       "      <th>features</th>\n",
       "      <th>betas</th>\n",
       "    </tr>\n",
       "  </thead>\n",
       "  <tbody>\n",
       "    <tr>\n",
       "      <th>9</th>\n",
       "      <td>Sex</td>\n",
       "      <td>0.472854</td>\n",
       "    </tr>\n",
       "    <tr>\n",
       "      <th>1</th>\n",
       "      <td>Hour</td>\n",
       "      <td>0.139531</td>\n",
       "    </tr>\n",
       "    <tr>\n",
       "      <th>2</th>\n",
       "      <td>DoW</td>\n",
       "      <td>0.126136</td>\n",
       "    </tr>\n",
       "    <tr>\n",
       "      <th>0</th>\n",
       "      <td>AnimalType</td>\n",
       "      <td>0.099546</td>\n",
       "    </tr>\n",
       "    <tr>\n",
       "      <th>4</th>\n",
       "      <td>AgeinDays</td>\n",
       "      <td>0.026325</td>\n",
       "    </tr>\n",
       "    <tr>\n",
       "      <th>3</th>\n",
       "      <td>Month</td>\n",
       "      <td>0.006462</td>\n",
       "    </tr>\n",
       "    <tr>\n",
       "      <th>8</th>\n",
       "      <td>FirstColor</td>\n",
       "      <td>-0.000310</td>\n",
       "    </tr>\n",
       "    <tr>\n",
       "      <th>7</th>\n",
       "      <td>FirstBreed</td>\n",
       "      <td>-0.000966</td>\n",
       "    </tr>\n",
       "    <tr>\n",
       "      <th>6</th>\n",
       "      <td>MixedBreed</td>\n",
       "      <td>-0.124133</td>\n",
       "    </tr>\n",
       "    <tr>\n",
       "      <th>5</th>\n",
       "      <td>Lifestage</td>\n",
       "      <td>-0.963748</td>\n",
       "    </tr>\n",
       "    <tr>\n",
       "      <th>10</th>\n",
       "      <td>Sterile</td>\n",
       "      <td>-3.425058</td>\n",
       "    </tr>\n",
       "  </tbody>\n",
       "</table>\n",
       "</div>"
      ],
      "text/plain": [
       "      features     betas\n",
       "9          Sex  0.472854\n",
       "1         Hour  0.139531\n",
       "2          DoW  0.126136\n",
       "0   AnimalType  0.099546\n",
       "4    AgeinDays  0.026325\n",
       "3        Month  0.006462\n",
       "8   FirstColor -0.000310\n",
       "7   FirstBreed -0.000966\n",
       "6   MixedBreed -0.124133\n",
       "5    Lifestage -0.963748\n",
       "10     Sterile -3.425058"
      ]
     },
     "execution_count": 58,
     "metadata": {},
     "output_type": "execute_result"
    }
   ],
   "source": [
    "# beta values of best Logistic Regression Model\n",
    "betas = best_log.fit(X,y).coef_[0]\n",
    "best_betas = pd.DataFrame(list(zip(feature_cols,betas)),columns=[\"features\",\"betas\"])\n",
    "best_betas.sort_values(\"betas\",ascending=False,inplace=True)\n",
    "best_betas"
   ]
  },
  {
   "cell_type": "markdown",
   "metadata": {},
   "source": [
    "##  Model Evaluation"
   ]
  },
  {
   "cell_type": "code",
   "execution_count": 59,
   "metadata": {},
   "outputs": [
    {
     "data": {
      "text/plain": [
       "0.40289585361911984"
      ]
     },
     "execution_count": 59,
     "metadata": {},
     "output_type": "execute_result"
    }
   ],
   "source": [
    "# test against null accuracy\n",
    "from sklearn.dummy import DummyClassifier\n",
    "dumb_model = DummyClassifier(strategy='most_frequent')\n",
    "cross_val_score(dumb_model,X,y,cv=10).mean()\n"
   ]
  },
  {
   "cell_type": "code",
   "execution_count": 60,
   "metadata": {},
   "outputs": [
    {
     "data": {
      "text/plain": [
       "0.005452074601104163"
      ]
     },
     "execution_count": 60,
     "metadata": {},
     "output_type": "execute_result"
    }
   ],
   "source": [
    "cross_val_score(rf_best,X,y,cv=10).std()"
   ]
  },
  {
   "cell_type": "code",
   "execution_count": 61,
   "metadata": {},
   "outputs": [
    {
     "data": {
      "text/plain": [
       "0.004593421164816204"
      ]
     },
     "execution_count": 61,
     "metadata": {},
     "output_type": "execute_result"
    }
   ],
   "source": [
    "cross_val_score(best_log,X,y,cv=10).std()"
   ]
  },
  {
   "cell_type": "code",
   "execution_count": null,
   "metadata": {},
   "outputs": [],
   "source": []
  },
  {
   "cell_type": "code",
   "execution_count": 62,
   "metadata": {},
   "outputs": [
    {
     "data": {
      "text/plain": [
       "array([[1484,    5,   48,  520, 1131],\n",
       "       [  31,    0,    0,   11,   20],\n",
       "       [ 212,    1,    9,   70,  174],\n",
       "       [ 683,    1,   25,  233,  541],\n",
       "       [1308,    2,   56,  474,  980]])"
      ]
     },
     "execution_count": 62,
     "metadata": {},
     "output_type": "execute_result"
    }
   ],
   "source": [
    "# Confusion Matrix for Outcomes\n",
    "cm_rf = metrics.confusion_matrix(y_test, y_pred_rf_100)\n",
    "cm_rf"
   ]
  },
  {
   "cell_type": "code",
   "execution_count": null,
   "metadata": {},
   "outputs": [],
   "source": [
    "# calculate AUC for logreg and random forest\n",
    "print(\"LogReg model AUC: \",metrics.roc_auc_score(y_test, y_pred_prob_log_best[:,1]))\n",
    "print(\"RF model AUC: \",metrics.roc_auc_score(y_test, y_pred_prob_rf_best[:,1]))"
   ]
  },
  {
   "attachments": {
    "thanksdawg.png": {
     "image/png": "[encoded data removed]"
    }
   },
   "cell_type": "markdown",
   "metadata": {},
   "source": [
    "## For the future....\n",
    "\n",
    "- Perform Multiple Correspondence Analysis (MCA), PCA for categorical data\n",
    "- Look into the confusion matrix and ROC curve/AUC score\n",
    "\n",
    "![thanksdawg.png](attachment:thanksdawg.png)"
   ]
  },
  {
   "cell_type": "code",
   "execution_count": null,
   "metadata": {},
   "outputs": [],
   "source": []
  }
 ],
 "metadata": {
  "kernelspec": {
   "display_name": "Python 3",
   "language": "python",
   "name": "python3"
  },
  "language_info": {
   "codemirror_mode": {
    "name": "ipython",
    "version": 3
   },
   "file_extension": ".py",
   "mimetype": "text/x-python",
   "name": "python",
   "nbconvert_exporter": "python",
   "pygments_lexer": "ipython3",
   "version": "3.6.4"
  }
 },
 "nbformat": 4,
 "nbformat_minor": 2
}
