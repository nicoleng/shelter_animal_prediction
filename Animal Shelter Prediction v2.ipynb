{
 "cells": [
  {
   "cell_type": "markdown",
   "metadata": {},
   "source": [
    "# Predicting Shelter Animal Outcomes"
   ]
  },
  {
   "cell_type": "code",
   "execution_count": 185,
   "metadata": {},
   "outputs": [],
   "source": [
    "import pandas as pd\n",
    "import numpy as np\n",
    "from sklearn.linear_model import LinearRegression, LogisticRegression\n",
    "from sklearn.model_selection import train_test_split\n",
    "from sklearn.cross_validation import KFold, cross_val_score\n",
    "from sklearn.model_selection import train_test_split\n",
    "from sklearn import metrics\n",
    "from sklearn.tree import DecisionTreeRegressor\n",
    "from sklearn.ensemble import RandomForestClassifier, RandomForestRegressor\n",
    "from sklearn.preprocessing import LabelEncoder\n",
    "import scipy.stats as stats\n",
    "\n",
    "\n",
    "%matplotlib inline\n",
    "import matplotlib.pyplot as plt\n",
    "import seaborn as sns\n",
    "from IPython.display import Image\n",
    "import pydotplus\n",
    "from sklearn.tree import export_graphviz"
   ]
  },
  {
   "cell_type": "code",
   "execution_count": 2,
   "metadata": {
    "scrolled": false
   },
   "outputs": [
    {
     "name": "stdout",
     "output_type": "stream",
     "text": [
      "(26729, 10)\n",
      "AnimalID          object\n",
      "Name              object\n",
      "DateTime          object\n",
      "OutcomeType       object\n",
      "OutcomeSubtype    object\n",
      "AnimalType        object\n",
      "SexuponOutcome    object\n",
      "AgeuponOutcome    object\n",
      "Breed             object\n",
      "Color             object\n",
      "dtype: object\n"
     ]
    }
   ],
   "source": [
    "data = pd.read_csv(\"train.csv\")\n",
    "print(data.shape)\n",
    "print(data.dtypes)"
   ]
  },
  {
   "cell_type": "code",
   "execution_count": 3,
   "metadata": {},
   "outputs": [
    {
     "data": {
      "text/html": [
       "<div>\n",
       "<style scoped>\n",
       "    .dataframe tbody tr th:only-of-type {\n",
       "        vertical-align: middle;\n",
       "    }\n",
       "\n",
       "    .dataframe tbody tr th {\n",
       "        vertical-align: top;\n",
       "    }\n",
       "\n",
       "    .dataframe thead th {\n",
       "        text-align: right;\n",
       "    }\n",
       "</style>\n",
       "<table border=\"1\" class=\"dataframe\">\n",
       "  <thead>\n",
       "    <tr style=\"text-align: right;\">\n",
       "      <th></th>\n",
       "      <th>AnimalID</th>\n",
       "      <th>Name</th>\n",
       "      <th>DateTime</th>\n",
       "      <th>OutcomeType</th>\n",
       "      <th>OutcomeSubtype</th>\n",
       "      <th>AnimalType</th>\n",
       "      <th>SexuponOutcome</th>\n",
       "      <th>AgeuponOutcome</th>\n",
       "      <th>Breed</th>\n",
       "      <th>Color</th>\n",
       "    </tr>\n",
       "  </thead>\n",
       "  <tbody>\n",
       "    <tr>\n",
       "      <th>0</th>\n",
       "      <td>A671945</td>\n",
       "      <td>Hambone</td>\n",
       "      <td>2014-02-12 18:22:00</td>\n",
       "      <td>Return_to_owner</td>\n",
       "      <td>NaN</td>\n",
       "      <td>Dog</td>\n",
       "      <td>Neutered Male</td>\n",
       "      <td>1 year</td>\n",
       "      <td>Shetland Sheepdog Mix</td>\n",
       "      <td>Brown/White</td>\n",
       "    </tr>\n",
       "    <tr>\n",
       "      <th>1</th>\n",
       "      <td>A656520</td>\n",
       "      <td>Emily</td>\n",
       "      <td>2013-10-13 12:44:00</td>\n",
       "      <td>Euthanasia</td>\n",
       "      <td>Suffering</td>\n",
       "      <td>Cat</td>\n",
       "      <td>Spayed Female</td>\n",
       "      <td>1 year</td>\n",
       "      <td>Domestic Shorthair Mix</td>\n",
       "      <td>Cream Tabby</td>\n",
       "    </tr>\n",
       "    <tr>\n",
       "      <th>2</th>\n",
       "      <td>A686464</td>\n",
       "      <td>Pearce</td>\n",
       "      <td>2015-01-31 12:28:00</td>\n",
       "      <td>Adoption</td>\n",
       "      <td>Foster</td>\n",
       "      <td>Dog</td>\n",
       "      <td>Neutered Male</td>\n",
       "      <td>2 years</td>\n",
       "      <td>Pit Bull Mix</td>\n",
       "      <td>Blue/White</td>\n",
       "    </tr>\n",
       "    <tr>\n",
       "      <th>3</th>\n",
       "      <td>A683430</td>\n",
       "      <td>NaN</td>\n",
       "      <td>2014-07-11 19:09:00</td>\n",
       "      <td>Transfer</td>\n",
       "      <td>Partner</td>\n",
       "      <td>Cat</td>\n",
       "      <td>Intact Male</td>\n",
       "      <td>3 weeks</td>\n",
       "      <td>Domestic Shorthair Mix</td>\n",
       "      <td>Blue Cream</td>\n",
       "    </tr>\n",
       "    <tr>\n",
       "      <th>4</th>\n",
       "      <td>A667013</td>\n",
       "      <td>NaN</td>\n",
       "      <td>2013-11-15 12:52:00</td>\n",
       "      <td>Transfer</td>\n",
       "      <td>Partner</td>\n",
       "      <td>Dog</td>\n",
       "      <td>Neutered Male</td>\n",
       "      <td>2 years</td>\n",
       "      <td>Lhasa Apso/Miniature Poodle</td>\n",
       "      <td>Tan</td>\n",
       "    </tr>\n",
       "  </tbody>\n",
       "</table>\n",
       "</div>"
      ],
      "text/plain": [
       "  AnimalID     Name             DateTime      OutcomeType OutcomeSubtype  \\\n",
       "0  A671945  Hambone  2014-02-12 18:22:00  Return_to_owner            NaN   \n",
       "1  A656520    Emily  2013-10-13 12:44:00       Euthanasia      Suffering   \n",
       "2  A686464   Pearce  2015-01-31 12:28:00         Adoption         Foster   \n",
       "3  A683430      NaN  2014-07-11 19:09:00         Transfer        Partner   \n",
       "4  A667013      NaN  2013-11-15 12:52:00         Transfer        Partner   \n",
       "\n",
       "  AnimalType SexuponOutcome AgeuponOutcome                        Breed  \\\n",
       "0        Dog  Neutered Male         1 year        Shetland Sheepdog Mix   \n",
       "1        Cat  Spayed Female         1 year       Domestic Shorthair Mix   \n",
       "2        Dog  Neutered Male        2 years                 Pit Bull Mix   \n",
       "3        Cat    Intact Male        3 weeks       Domestic Shorthair Mix   \n",
       "4        Dog  Neutered Male        2 years  Lhasa Apso/Miniature Poodle   \n",
       "\n",
       "         Color  \n",
       "0  Brown/White  \n",
       "1  Cream Tabby  \n",
       "2   Blue/White  \n",
       "3   Blue Cream  \n",
       "4          Tan  "
      ]
     },
     "execution_count": 3,
     "metadata": {},
     "output_type": "execute_result"
    }
   ],
   "source": [
    "data.head()"
   ]
  },
  {
   "cell_type": "code",
   "execution_count": 4,
   "metadata": {},
   "outputs": [
    {
     "data": {
      "text/plain": [
       "AnimalID              0\n",
       "Name               7691\n",
       "DateTime              0\n",
       "OutcomeType           0\n",
       "OutcomeSubtype    13612\n",
       "AnimalType            0\n",
       "SexuponOutcome        1\n",
       "AgeuponOutcome       18\n",
       "Breed                 0\n",
       "Color                 0\n",
       "dtype: int64"
      ]
     },
     "execution_count": 4,
     "metadata": {},
     "output_type": "execute_result"
    }
   ],
   "source": [
    "data.isnull().sum()"
   ]
  },
  {
   "cell_type": "code",
   "execution_count": 5,
   "metadata": {},
   "outputs": [
    {
     "data": {
      "text/plain": [
       "Adoption           10769\n",
       "Transfer            9422\n",
       "Return_to_owner     4786\n",
       "Euthanasia          1555\n",
       "Died                 197\n",
       "Name: OutcomeType, dtype: int64"
      ]
     },
     "execution_count": 5,
     "metadata": {},
     "output_type": "execute_result"
    }
   ],
   "source": [
    "data.OutcomeType.value_counts()"
   ]
  },
  {
   "cell_type": "markdown",
   "metadata": {},
   "source": [
    "## 1. Formatting and Analyzing Individual Features\n",
    "Before I start predicting outcomes, I need to format features to be suitable for analyses and see their individual relationship to the outcomes. "
   ]
  },
  {
   "cell_type": "markdown",
   "metadata": {},
   "source": [
    "### a. Animal Type"
   ]
  },
  {
   "cell_type": "code",
   "execution_count": 6,
   "metadata": {
    "scrolled": true
   },
   "outputs": [
    {
     "data": {
      "text/plain": [
       "AnimalType  OutcomeType    \n",
       "Cat         Transfer           5505\n",
       "            Adoption           4272\n",
       "            Euthanasia          710\n",
       "            Return_to_owner     500\n",
       "            Died                147\n",
       "Dog         Adoption           6497\n",
       "            Return_to_owner    4286\n",
       "            Transfer           3917\n",
       "            Euthanasia          845\n",
       "            Died                 50\n",
       "Name: OutcomeType, dtype: int64"
      ]
     },
     "execution_count": 6,
     "metadata": {},
     "output_type": "execute_result"
    }
   ],
   "source": [
    "AnimalTypeGroup = data.groupby('AnimalType')\n",
    "AnimalTypeGroup.OutcomeType.value_counts() "
   ]
  },
  {
   "cell_type": "code",
   "execution_count": 178,
   "metadata": {},
   "outputs": [
    {
     "data": {
      "text/plain": [
       "<matplotlib.axes._subplots.AxesSubplot at 0x1a3e7db550>"
      ]
     },
     "execution_count": 178,
     "metadata": {},
     "output_type": "execute_result"
    },
    {
     "data": {
      "image/png": "[encoded data removed]",
      "text/plain": [
       "<matplotlib.figure.Figure at 0x1a3e7cd0f0>"
      ]
     },
     "metadata": {},
     "output_type": "display_data"
    }
   ],
   "source": [
    "AnimalTypeGraph = data[['AnimalType','OutcomeType']].groupby(['OutcomeType','AnimalType']).size().unstack()\n",
    "AnimalTypeGraph.plot(kind='bar',color=['r','c'])"
   ]
  },
  {
   "cell_type": "markdown",
   "metadata": {},
   "source": [
    "### b. DateTime"
   ]
  },
  {
   "cell_type": "code",
   "execution_count": 7,
   "metadata": {},
   "outputs": [],
   "source": [
    "#format Datetime\n",
    "data['DateTime'] = pd.to_datetime(data['DateTime'])"
   ]
  },
  {
   "cell_type": "code",
   "execution_count": 197,
   "metadata": {},
   "outputs": [
    {
     "data": {
      "text/plain": [
       "<matplotlib.axes._subplots.AxesSubplot at 0x1a3d611cc0>"
      ]
     },
     "execution_count": 197,
     "metadata": {},
     "output_type": "execute_result"
    },
    {
     "data": {
      "image/png": "[encoded data removed]",
      "text/plain": [
       "<matplotlib.figure.Figure at 0x1a429eeac8>"
      ]
     },
     "metadata": {},
     "output_type": "display_data"
    }
   ],
   "source": [
    "data['Hour'] = data.DateTime.dt.hour"
   ]
  },
  {
   "cell_type": "code",
   "execution_count": 202,
   "metadata": {},
   "outputs": [
    {
     "data": {
      "image/png": "[encoded data removed]",
      "text/plain": [
       "<matplotlib.figure.Figure at 0x1a42b786a0>"
      ]
     },
     "metadata": {},
     "output_type": "display_data"
    }
   ],
   "source": [
    "#For each outcome\n",
    "hourGroup=data.Hour.groupby(data.OutcomeType)\n",
    "plt.subplots(5, 1, figsize=(15, 20), sharex=True)\n",
    "plt.subplots_adjust( hspace=1)\n",
    "colors = list('rgbcmyk')\n",
    "for i, (f, g) in enumerate(hourGroup):\n",
    "    plt.subplot(5,1,i+1)\n",
    "    plt.title(f)\n",
    "    g.groupby(data.Hour).count().plot(kind=\"line\", color=colors[i])"
   ]
  },
  {
   "cell_type": "code",
   "execution_count": 9,
   "metadata": {},
   "outputs": [],
   "source": [
    "data['DoW'] = data.DateTime.dt.dayofweek"
   ]
  },
  {
   "cell_type": "code",
   "execution_count": 10,
   "metadata": {},
   "outputs": [],
   "source": [
    "data['Month'] = data.DateTime.dt.month"
   ]
  },
  {
   "cell_type": "code",
   "execution_count": 190,
   "metadata": {},
   "outputs": [
    {
     "data": {
      "image/png": "[encoded data removed]",
      "text/plain": [
       "<matplotlib.figure.Figure at 0x1a29ff3320>"
      ]
     },
     "metadata": {},
     "output_type": "display_data"
    }
   ],
   "source": [
    "df_ym=data.DateTime.map(lambda x: x.strftime('%d'))\n",
    "df_ym_outcomeGroup = df_ym.groupby(data[\"OutcomeType\"])\n",
    "\n",
    "plt.subplots(5, 1, figsize=(15, 20), sharex=True)\n",
    "plt.subplots_adjust( hspace=0.7)\n",
    "# colors = list('rgbcmyk')\n",
    "# for i, (_, g) in enumerate(df_ym_outcomeGroup):\n",
    "#     plt.subplot(5,1,i+1)\n",
    "#     plt.title(_)\n",
    "#     g.groupby(df_ym).count().plot(kind=\"line\", color=colors[i])"
   ]
  },
  {
   "cell_type": "code",
   "execution_count": 11,
   "metadata": {},
   "outputs": [
    {
     "data": {
      "text/html": [
       "<div>\n",
       "<style scoped>\n",
       "    .dataframe tbody tr th:only-of-type {\n",
       "        vertical-align: middle;\n",
       "    }\n",
       "\n",
       "    .dataframe tbody tr th {\n",
       "        vertical-align: top;\n",
       "    }\n",
       "\n",
       "    .dataframe thead th {\n",
       "        text-align: right;\n",
       "    }\n",
       "</style>\n",
       "<table border=\"1\" class=\"dataframe\">\n",
       "  <thead>\n",
       "    <tr style=\"text-align: right;\">\n",
       "      <th></th>\n",
       "      <th>AnimalID</th>\n",
       "      <th>Name</th>\n",
       "      <th>DateTime</th>\n",
       "      <th>OutcomeType</th>\n",
       "      <th>OutcomeSubtype</th>\n",
       "      <th>AnimalType</th>\n",
       "      <th>SexuponOutcome</th>\n",
       "      <th>AgeuponOutcome</th>\n",
       "      <th>Breed</th>\n",
       "      <th>Color</th>\n",
       "      <th>Hour</th>\n",
       "      <th>DoW</th>\n",
       "      <th>Month</th>\n",
       "    </tr>\n",
       "  </thead>\n",
       "  <tbody>\n",
       "    <tr>\n",
       "      <th>0</th>\n",
       "      <td>A671945</td>\n",
       "      <td>Hambone</td>\n",
       "      <td>2014-02-12 18:22:00</td>\n",
       "      <td>Return_to_owner</td>\n",
       "      <td>NaN</td>\n",
       "      <td>Dog</td>\n",
       "      <td>Neutered Male</td>\n",
       "      <td>1 year</td>\n",
       "      <td>Shetland Sheepdog Mix</td>\n",
       "      <td>Brown/White</td>\n",
       "      <td>18</td>\n",
       "      <td>2</td>\n",
       "      <td>2</td>\n",
       "    </tr>\n",
       "    <tr>\n",
       "      <th>1</th>\n",
       "      <td>A656520</td>\n",
       "      <td>Emily</td>\n",
       "      <td>2013-10-13 12:44:00</td>\n",
       "      <td>Euthanasia</td>\n",
       "      <td>Suffering</td>\n",
       "      <td>Cat</td>\n",
       "      <td>Spayed Female</td>\n",
       "      <td>1 year</td>\n",
       "      <td>Domestic Shorthair Mix</td>\n",
       "      <td>Cream Tabby</td>\n",
       "      <td>12</td>\n",
       "      <td>6</td>\n",
       "      <td>10</td>\n",
       "    </tr>\n",
       "    <tr>\n",
       "      <th>2</th>\n",
       "      <td>A686464</td>\n",
       "      <td>Pearce</td>\n",
       "      <td>2015-01-31 12:28:00</td>\n",
       "      <td>Adoption</td>\n",
       "      <td>Foster</td>\n",
       "      <td>Dog</td>\n",
       "      <td>Neutered Male</td>\n",
       "      <td>2 years</td>\n",
       "      <td>Pit Bull Mix</td>\n",
       "      <td>Blue/White</td>\n",
       "      <td>12</td>\n",
       "      <td>5</td>\n",
       "      <td>1</td>\n",
       "    </tr>\n",
       "    <tr>\n",
       "      <th>3</th>\n",
       "      <td>A683430</td>\n",
       "      <td>NaN</td>\n",
       "      <td>2014-07-11 19:09:00</td>\n",
       "      <td>Transfer</td>\n",
       "      <td>Partner</td>\n",
       "      <td>Cat</td>\n",
       "      <td>Intact Male</td>\n",
       "      <td>3 weeks</td>\n",
       "      <td>Domestic Shorthair Mix</td>\n",
       "      <td>Blue Cream</td>\n",
       "      <td>19</td>\n",
       "      <td>4</td>\n",
       "      <td>7</td>\n",
       "    </tr>\n",
       "    <tr>\n",
       "      <th>4</th>\n",
       "      <td>A667013</td>\n",
       "      <td>NaN</td>\n",
       "      <td>2013-11-15 12:52:00</td>\n",
       "      <td>Transfer</td>\n",
       "      <td>Partner</td>\n",
       "      <td>Dog</td>\n",
       "      <td>Neutered Male</td>\n",
       "      <td>2 years</td>\n",
       "      <td>Lhasa Apso/Miniature Poodle</td>\n",
       "      <td>Tan</td>\n",
       "      <td>12</td>\n",
       "      <td>4</td>\n",
       "      <td>11</td>\n",
       "    </tr>\n",
       "  </tbody>\n",
       "</table>\n",
       "</div>"
      ],
      "text/plain": [
       "  AnimalID     Name            DateTime      OutcomeType OutcomeSubtype  \\\n",
       "0  A671945  Hambone 2014-02-12 18:22:00  Return_to_owner            NaN   \n",
       "1  A656520    Emily 2013-10-13 12:44:00       Euthanasia      Suffering   \n",
       "2  A686464   Pearce 2015-01-31 12:28:00         Adoption         Foster   \n",
       "3  A683430      NaN 2014-07-11 19:09:00         Transfer        Partner   \n",
       "4  A667013      NaN 2013-11-15 12:52:00         Transfer        Partner   \n",
       "\n",
       "  AnimalType SexuponOutcome AgeuponOutcome                        Breed  \\\n",
       "0        Dog  Neutered Male         1 year        Shetland Sheepdog Mix   \n",
       "1        Cat  Spayed Female         1 year       Domestic Shorthair Mix   \n",
       "2        Dog  Neutered Male        2 years                 Pit Bull Mix   \n",
       "3        Cat    Intact Male        3 weeks       Domestic Shorthair Mix   \n",
       "4        Dog  Neutered Male        2 years  Lhasa Apso/Miniature Poodle   \n",
       "\n",
       "         Color  Hour  DoW  Month  \n",
       "0  Brown/White    18    2      2  \n",
       "1  Cream Tabby    12    6     10  \n",
       "2   Blue/White    12    5      1  \n",
       "3   Blue Cream    19    4      7  \n",
       "4          Tan    12    4     11  "
      ]
     },
     "execution_count": 11,
     "metadata": {},
     "output_type": "execute_result"
    }
   ],
   "source": [
    "data.head()"
   ]
  },
  {
   "cell_type": "markdown",
   "metadata": {},
   "source": [
    "### c. Age"
   ]
  },
  {
   "cell_type": "code",
   "execution_count": 12,
   "metadata": {},
   "outputs": [],
   "source": [
    "# create list of age in days\n",
    "dataAge = data.AgeuponOutcome.tolist()\n",
    "AgeinDays = []\n",
    "for i in dataAge:\n",
    "    try:\n",
    "        num = (i.split()[0])\n",
    "        letter = (i.split()[1][0])\n",
    "        if(letter == 'y'):\n",
    "            days = int(num)*365\n",
    "        elif(letter == 'm'):\n",
    "            days = int(num)*30\n",
    "        elif(letter == 'w'):\n",
    "            days = int(num)*7\n",
    "        else:\n",
    "            days = int(num)\n",
    "        AgeinDays.append(days)\n",
    "    except:\n",
    "        AgeinDays.append(np.nan)"
   ]
  },
  {
   "cell_type": "code",
   "execution_count": 13,
   "metadata": {
    "scrolled": true
   },
   "outputs": [
    {
     "data": {
      "text/plain": [
       "[365,\n",
       " 365,\n",
       " 730,\n",
       " 21,\n",
       " 730,\n",
       " 30,\n",
       " 21,\n",
       " 21,\n",
       " 150,\n",
       " 365,\n",
       " 730,\n",
       " 730,\n",
       " 1460,\n",
       " 730,\n",
       " 365,\n",
       " 90,\n",
       " 21,\n",
       " 14,\n",
       " 730,\n",
       " 365,\n",
       " 60,\n",
       " 365,\n",
       " 730,\n",
       " 300,\n",
       " 60,\n",
       " 30,\n",
       " 180,\n",
       " 1825,\n",
       " 60,\n",
       " 2555,\n",
       " 1095,\n",
       " 120,\n",
       " 60,\n",
       " 1825,\n",
       " 1095,\n",
       " 1095,\n",
       " 1095,\n",
       " 60,\n",
       " 120,\n",
       " 21,\n",
       " 2555,\n",
       " 60,\n",
       " 60,\n",
       " 1460,\n",
       " 730,\n",
       " 4380,\n",
       " 3285,\n",
       " 21,\n",
       " 150,\n",
       " 2190,\n",
       " 365,\n",
       " 90,\n",
       " 21,\n",
       " 730,\n",
       " 60,\n",
       " 7,\n",
       " 60,\n",
       " 365,\n",
       " 1460,\n",
       " 730,\n",
       " 365,\n",
       " 4015,\n",
       " 30,\n",
       " 730,\n",
       " 14,\n",
       " 2190,\n",
       " 180,\n",
       " 60,\n",
       " 60,\n",
       " 365,\n",
       " 60,\n",
       " 730,\n",
       " 1095,\n",
       " 365,\n",
       " 1460,\n",
       " 730,\n",
       " 90,\n",
       " 365,\n",
       " 60,\n",
       " 730,\n",
       " 365,\n",
       " 14,\n",
       " 28,\n",
       " 730,\n",
       " 4380,\n",
       " 365,\n",
       " 60,\n",
       " 14,\n",
       " 90,\n",
       " 90,\n",
       " 150,\n",
       " 1095,\n",
       " 2555,\n",
       " 730,\n",
       " 120,\n",
       " 3285,\n",
       " 210,\n",
       " 60,\n",
       " 1095,\n",
       " 1095,\n",
       " 1825,\n",
       " 1825,\n",
       " 14,\n",
       " 14,\n",
       " 1460,\n",
       " 1460,\n",
       " 60,\n",
       " 730,\n",
       " 730,\n",
       " 3285,\n",
       " 1825,\n",
       " 365,\n",
       " 730,\n",
       " 21,\n",
       " 150,\n",
       " 2190,\n",
       " 365,\n",
       " 90,\n",
       " 30,\n",
       " 1095,\n",
       " 1825,\n",
       " 2920,\n",
       " 60,\n",
       " 2555,\n",
       " 60,\n",
       " 1825,\n",
       " 365,\n",
       " 90,\n",
       " 730,\n",
       " 3285,\n",
       " 1095,\n",
       " 1095,\n",
       " 365,\n",
       " 730,\n",
       " 365,\n",
       " 730,\n",
       " 730,\n",
       " 730,\n",
       " 90,\n",
       " 30,\n",
       " 60,\n",
       " 300,\n",
       " 730,\n",
       " 60,\n",
       " 180,\n",
       " 60,\n",
       " 365,\n",
       " 180,\n",
       " 365,\n",
       " 21,\n",
       " 730,\n",
       " 330,\n",
       " 90,\n",
       " 730,\n",
       " 730,\n",
       " 730,\n",
       " 120,\n",
       " 120,\n",
       " 150,\n",
       " 60,\n",
       " 2555,\n",
       " 1460,\n",
       " 21,\n",
       " 180,\n",
       " 150,\n",
       " 2920,\n",
       " 60,\n",
       " 30,\n",
       " 150,\n",
       " 30,\n",
       " 120,\n",
       " 365,\n",
       " 730,\n",
       " 4015,\n",
       " 60,\n",
       " 60,\n",
       " 60,\n",
       " 30,\n",
       " 2555,\n",
       " 4,\n",
       " 1460,\n",
       " 730,\n",
       " 365,\n",
       " 730,\n",
       " 28,\n",
       " 365,\n",
       " 730,\n",
       " 300,\n",
       " 1460,\n",
       " 120,\n",
       " 2190,\n",
       " 270,\n",
       " 1095,\n",
       " 240,\n",
       " 300,\n",
       " 365,\n",
       " 365,\n",
       " 365,\n",
       " 90,\n",
       " 2190,\n",
       " 365,\n",
       " 730,\n",
       " 1825,\n",
       " 4380,\n",
       " 730,\n",
       " 2190,\n",
       " 90,\n",
       " 240,\n",
       " 365,\n",
       " 5475,\n",
       " 21,\n",
       " 150,\n",
       " 730,\n",
       " 730,\n",
       " 730,\n",
       " 730,\n",
       " 21,\n",
       " 365,\n",
       " 730,\n",
       " 28,\n",
       " 1460,\n",
       " 21,\n",
       " 60,\n",
       " 365,\n",
       " 60,\n",
       " 365,\n",
       " 1095,\n",
       " 3285,\n",
       " 730,\n",
       " 1825,\n",
       " 730,\n",
       " 730,\n",
       " 2555,\n",
       " 365,\n",
       " 2190,\n",
       " 60,\n",
       " 365,\n",
       " 60,\n",
       " 2190,\n",
       " 60,\n",
       " 730,\n",
       " 2555,\n",
       " 90,\n",
       " 1095,\n",
       " 730,\n",
       " 2555,\n",
       " 30,\n",
       " 730,\n",
       " 150,\n",
       " 1460,\n",
       " 730,\n",
       " 2555,\n",
       " 365,\n",
       " 30,\n",
       " 30,\n",
       " 60,\n",
       " 1095,\n",
       " 1460,\n",
       " 365,\n",
       " 730,\n",
       " 3650,\n",
       " 60,\n",
       " 3650,\n",
       " 730,\n",
       " 2555,\n",
       " 365,\n",
       " 1825,\n",
       " 2190,\n",
       " 7,\n",
       " 2555,\n",
       " 365,\n",
       " 365,\n",
       " 14,\n",
       " 365,\n",
       " 1825,\n",
       " 730,\n",
       " 300,\n",
       " 90,\n",
       " 270,\n",
       " 30,\n",
       " 0,\n",
       " 1825,\n",
       " 240,\n",
       " 365,\n",
       " 60,\n",
       " 90,\n",
       " 5110,\n",
       " 2555,\n",
       " 730,\n",
       " 180,\n",
       " 330,\n",
       " 1095,\n",
       " 60,\n",
       " 365,\n",
       " 28,\n",
       " 1460,\n",
       " 2920,\n",
       " 90,\n",
       " 60,\n",
       " 120,\n",
       " 730,\n",
       " 2190,\n",
       " 330,\n",
       " 365,\n",
       " 1460,\n",
       " 60,\n",
       " 730,\n",
       " 60,\n",
       " 180,\n",
       " 2920,\n",
       " 1095,\n",
       " 730,\n",
       " 60,\n",
       " 21,\n",
       " 60,\n",
       " 1460,\n",
       " 1825,\n",
       " 730,\n",
       " 180,\n",
       " 730,\n",
       " 3650,\n",
       " 180,\n",
       " 60,\n",
       " 180,\n",
       " 2920,\n",
       " 180,\n",
       " 90,\n",
       " 365,\n",
       " 365,\n",
       " 60,\n",
       " 14,\n",
       " 730,\n",
       " 60,\n",
       " 270,\n",
       " 1460,\n",
       " 120,\n",
       " 3,\n",
       " 2190,\n",
       " 60,\n",
       " 240,\n",
       " 30,\n",
       " 120,\n",
       " 60,\n",
       " 730,\n",
       " 120,\n",
       " 365,\n",
       " 90,\n",
       " 60,\n",
       " 120,\n",
       " 1825,\n",
       " 730,\n",
       " 14,\n",
       " 60,\n",
       " 300,\n",
       " 730,\n",
       " 300,\n",
       " 28,\n",
       " 365,\n",
       " 210,\n",
       " 730,\n",
       " 2555,\n",
       " 60,\n",
       " 4380,\n",
       " 1095,\n",
       " 90,\n",
       " 730,\n",
       " 4380,\n",
       " 365,\n",
       " 1095,\n",
       " 30,\n",
       " 6,\n",
       " 270,\n",
       " 60,\n",
       " 730,\n",
       " 2555,\n",
       " 120,\n",
       " 3650,\n",
       " 1825,\n",
       " 730,\n",
       " 1825,\n",
       " 150,\n",
       " 365,\n",
       " 365,\n",
       " 120,\n",
       " 730,\n",
       " 1095,\n",
       " 28,\n",
       " 21,\n",
       " 21,\n",
       " 730,\n",
       " 365,\n",
       " 14,\n",
       " 730,\n",
       " 270,\n",
       " 1095,\n",
       " 30,\n",
       " 730,\n",
       " 730,\n",
       " 120,\n",
       " 1095,\n",
       " 365,\n",
       " 30,\n",
       " 365,\n",
       " 60,\n",
       " 3285,\n",
       " 730,\n",
       " 180,\n",
       " 90,\n",
       " 30,\n",
       " 365,\n",
       " 730,\n",
       " 1095,\n",
       " 60,\n",
       " 730,\n",
       " 730,\n",
       " 60,\n",
       " 4380,\n",
       " 730,\n",
       " 240,\n",
       " 3650,\n",
       " 60,\n",
       " 90,\n",
       " 365,\n",
       " 730,\n",
       " 60,\n",
       " 90,\n",
       " 2555,\n",
       " 730,\n",
       " 120,\n",
       " 60,\n",
       " 90,\n",
       " 730,\n",
       " 180,\n",
       " 4,\n",
       " 90,\n",
       " 150,\n",
       " 60,\n",
       " 30,\n",
       " 365,\n",
       " 30,\n",
       " 1095,\n",
       " 1095,\n",
       " 2190,\n",
       " 240,\n",
       " 120,\n",
       " 1095,\n",
       " 28,\n",
       " 60,\n",
       " 60,\n",
       " 365,\n",
       " 1825,\n",
       " 2555,\n",
       " 60,\n",
       " 1095,\n",
       " 30,\n",
       " 2190,\n",
       " 60,\n",
       " 730,\n",
       " 14,\n",
       " 365,\n",
       " 730,\n",
       " 60,\n",
       " 60,\n",
       " 2920,\n",
       " 7,\n",
       " 4380,\n",
       " 365,\n",
       " 4015,\n",
       " 14,\n",
       " 730,\n",
       " 730,\n",
       " 730,\n",
       " 1095,\n",
       " 5,\n",
       " 21,\n",
       " 300,\n",
       " 2555,\n",
       " 2555,\n",
       " 1095,\n",
       " 730,\n",
       " 730,\n",
       " 365,\n",
       " 150,\n",
       " 240,\n",
       " 90,\n",
       " 365,\n",
       " 120,\n",
       " 365,\n",
       " 365,\n",
       " 60,\n",
       " 240,\n",
       " 365,\n",
       " 1825,\n",
       " 28,\n",
       " 1095,\n",
       " 1095,\n",
       " 60,\n",
       " 90,\n",
       " 3650,\n",
       " 1825,\n",
       " 28,\n",
       " 2555,\n",
       " 365,\n",
       " 90,\n",
       " 1460,\n",
       " 1095,\n",
       " 30,\n",
       " 14,\n",
       " 14,\n",
       " 6,\n",
       " 365,\n",
       " 28,\n",
       " 2920,\n",
       " 30,\n",
       " 3650,\n",
       " 120,\n",
       " 1095,\n",
       " 730,\n",
       " 2920,\n",
       " 1095,\n",
       " 270,\n",
       " 90,\n",
       " 3285,\n",
       " 365,\n",
       " 120,\n",
       " 1460,\n",
       " 730,\n",
       " 14,\n",
       " 60,\n",
       " 3650,\n",
       " 60,\n",
       " 1095,\n",
       " 2190,\n",
       " 2555,\n",
       " 60,\n",
       " 120,\n",
       " 1825,\n",
       " 2190,\n",
       " 2920,\n",
       " 730,\n",
       " 60,\n",
       " 120,\n",
       " 365,\n",
       " 60,\n",
       " 1825,\n",
       " 60,\n",
       " 1095,\n",
       " 1095,\n",
       " 1095,\n",
       " 30,\n",
       " 60,\n",
       " 730,\n",
       " 1460,\n",
       " 21,\n",
       " 2555,\n",
       " 60,\n",
       " 1460,\n",
       " 60,\n",
       " 730,\n",
       " 30,\n",
       " 1095,\n",
       " 90,\n",
       " 28,\n",
       " 30,\n",
       " 150,\n",
       " 60,\n",
       " 30,\n",
       " 730,\n",
       " 4380,\n",
       " 730,\n",
       " 270,\n",
       " 3285,\n",
       " 730,\n",
       " 60,\n",
       " 150,\n",
       " 120,\n",
       " 14,\n",
       " 60,\n",
       " 14,\n",
       " 60,\n",
       " 60,\n",
       " 21,\n",
       " 120,\n",
       " 730,\n",
       " 4380,\n",
       " 730,\n",
       " 730,\n",
       " 1095,\n",
       " 60,\n",
       " 1095,\n",
       " 1825,\n",
       " 240,\n",
       " 3650,\n",
       " 30,\n",
       " 365,\n",
       " 2190,\n",
       " 1095,\n",
       " 60,\n",
       " 180,\n",
       " 365,\n",
       " 14,\n",
       " 730,\n",
       " 21,\n",
       " 150,\n",
       " 365,\n",
       " 365,\n",
       " 365,\n",
       " 60,\n",
       " 60,\n",
       " 3650,\n",
       " 730,\n",
       " 90,\n",
       " 14,\n",
       " 14,\n",
       " 365,\n",
       " 2555,\n",
       " 60,\n",
       " 730,\n",
       " 4380,\n",
       " 28,\n",
       " 60,\n",
       " 365,\n",
       " 60,\n",
       " 30,\n",
       " 60,\n",
       " 30,\n",
       " 365,\n",
       " 365,\n",
       " 365,\n",
       " 30,\n",
       " 30,\n",
       " 60,\n",
       " 365,\n",
       " 730,\n",
       " 60,\n",
       " 730,\n",
       " 120,\n",
       " 365,\n",
       " 730,\n",
       " 210,\n",
       " 365,\n",
       " 1095,\n",
       " 180,\n",
       " 1095,\n",
       " 365,\n",
       " 730,\n",
       " 300,\n",
       " 60,\n",
       " 1825,\n",
       " 60,\n",
       " 3650,\n",
       " 730,\n",
       " 120,\n",
       " 365,\n",
       " 365,\n",
       " 180,\n",
       " 1095,\n",
       " 60,\n",
       " 365,\n",
       " 60,\n",
       " 120,\n",
       " 365,\n",
       " 365,\n",
       " 730,\n",
       " 180,\n",
       " 30,\n",
       " 30,\n",
       " 120,\n",
       " 60,\n",
       " 240,\n",
       " 4380,\n",
       " 4380,\n",
       " 21,\n",
       " 365,\n",
       " 30,\n",
       " 1825,\n",
       " 2920,\n",
       " 2920,\n",
       " 365,\n",
       " 730,\n",
       " 365,\n",
       " 60,\n",
       " 30,\n",
       " 730,\n",
       " 60,\n",
       " 1460,\n",
       " 60,\n",
       " 60,\n",
       " 1825,\n",
       " 150,\n",
       " 60,\n",
       " 60,\n",
       " 1095,\n",
       " 1095,\n",
       " 30,\n",
       " 365,\n",
       " 730,\n",
       " 60,\n",
       " 730,\n",
       " 2190,\n",
       " 150,\n",
       " 1825,\n",
       " 60,\n",
       " 90,\n",
       " 60,\n",
       " 5475,\n",
       " 2920,\n",
       " 365,\n",
       " 90,\n",
       " 365,\n",
       " 730,\n",
       " 30,\n",
       " 60,\n",
       " 21,\n",
       " 90,\n",
       " 3285,\n",
       " 2555,\n",
       " 2190,\n",
       " 3650,\n",
       " 60,\n",
       " 2920,\n",
       " 270,\n",
       " 1095,\n",
       " 240,\n",
       " 21,\n",
       " 270,\n",
       " 14,\n",
       " 300,\n",
       " 4015,\n",
       " 365,\n",
       " 1825,\n",
       " 730,\n",
       " 1825,\n",
       " 365,\n",
       " 1095,\n",
       " 365,\n",
       " 30,\n",
       " 730,\n",
       " 6,\n",
       " 365,\n",
       " 4380,\n",
       " 35,\n",
       " 730,\n",
       " 365,\n",
       " 365,\n",
       " 730,\n",
       " 365,\n",
       " 180,\n",
       " 60,\n",
       " 90,\n",
       " 730,\n",
       " 150,\n",
       " 730,\n",
       " 365,\n",
       " 730,\n",
       " 365,\n",
       " 60,\n",
       " 730,\n",
       " 1095,\n",
       " 180,\n",
       " 30,\n",
       " 14,\n",
       " 60,\n",
       " 1095,\n",
       " 30,\n",
       " 120,\n",
       " 730,\n",
       " 60,\n",
       " 21,\n",
       " 90,\n",
       " 730,\n",
       " 4015,\n",
       " 90,\n",
       " 300,\n",
       " 730,\n",
       " 60,\n",
       " 730,\n",
       " 2555,\n",
       " 60,\n",
       " 365,\n",
       " 2190,\n",
       " 14,\n",
       " 120,\n",
       " 2190,\n",
       " 1460,\n",
       " 365,\n",
       " 365,\n",
       " 365,\n",
       " 60,\n",
       " 60,\n",
       " 1825,\n",
       " 730,\n",
       " 730,\n",
       " 730,\n",
       " 1095,\n",
       " 365,\n",
       " 1460,\n",
       " 730,\n",
       " 21,\n",
       " 365,\n",
       " 730,\n",
       " 365,\n",
       " 14,\n",
       " 365,\n",
       " 150,\n",
       " 730,\n",
       " 60,\n",
       " 730,\n",
       " 730,\n",
       " 1460,\n",
       " 4015,\n",
       " 120,\n",
       " 730,\n",
       " 14,\n",
       " 2190,\n",
       " 120,\n",
       " 1460,\n",
       " 1460,\n",
       " 60,\n",
       " 60,\n",
       " 730,\n",
       " 1095,\n",
       " 30,\n",
       " 730,\n",
       " 730,\n",
       " 60,\n",
       " 1095,\n",
       " 4015,\n",
       " 730,\n",
       " 2555,\n",
       " 365,\n",
       " 2555,\n",
       " 14,\n",
       " 1460,\n",
       " 7,\n",
       " 60,\n",
       " 365,\n",
       " 730,\n",
       " 1460,\n",
       " 3650,\n",
       " 730,\n",
       " 730,\n",
       " 60,\n",
       " 365,\n",
       " 150,\n",
       " 1095,\n",
       " 1460,\n",
       " 60,\n",
       " 30,\n",
       " 90,\n",
       " 730,\n",
       " 365,\n",
       " 1095,\n",
       " 365,\n",
       " 240,\n",
       " 150,\n",
       " 730,\n",
       " 730,\n",
       " 1825,\n",
       " 1825,\n",
       " 365,\n",
       " 60,\n",
       " 1095,\n",
       " 14,\n",
       " 30,\n",
       " 1460,\n",
       " 300,\n",
       " 180,\n",
       " 730,\n",
       " 1825,\n",
       " 6,\n",
       " 2920,\n",
       " 30,\n",
       " 365,\n",
       " 30,\n",
       " 730,\n",
       " 2920,\n",
       " 30,\n",
       " 60,\n",
       " 270,\n",
       " 120,\n",
       " 4380,\n",
       " 365,\n",
       " 2920,\n",
       " 60,\n",
       " 30,\n",
       " 14,\n",
       " 2,\n",
       " 120,\n",
       " 60,\n",
       " 365,\n",
       " 365,\n",
       " 1095,\n",
       " 28,\n",
       " 1460,\n",
       " 365,\n",
       " 150,\n",
       " 180,\n",
       " 300,\n",
       " 1095,\n",
       " 730,\n",
       " 730,\n",
       " 330,\n",
       " 28,\n",
       " 60,\n",
       " 60,\n",
       " 1825,\n",
       " 2920,\n",
       " 365,\n",
       " 1825,\n",
       " 365,\n",
       " 365,\n",
       " 60,\n",
       " 1460,\n",
       " 730,\n",
       " 730,\n",
       " 90,\n",
       " 120,\n",
       " 60,\n",
       " 365,\n",
       " 30,\n",
       " 1460,\n",
       " 730,\n",
       " 300,\n",
       " 3650,\n",
       " 3650,\n",
       " 1825,\n",
       " 1095,\n",
       " 90,\n",
       " 21,\n",
       " 1095,\n",
       " 21,\n",
       " 120,\n",
       " 1825,\n",
       " 60,\n",
       " 180,\n",
       " 60,\n",
       " 730,\n",
       " 1825,\n",
       " 365,\n",
       " 730,\n",
       " 1825,\n",
       " 7,\n",
       " 2555,\n",
       " 60,\n",
       " 60,\n",
       " 90,\n",
       " 1460,\n",
       " 60,\n",
       " 365,\n",
       " 7,\n",
       " 730,\n",
       " 365,\n",
       " 60,\n",
       " 30,\n",
       " 60,\n",
       " 90,\n",
       " 60,\n",
       " 365,\n",
       " 270,\n",
       " 1825,\n",
       " 300,\n",
       " 1825,\n",
       " 365,\n",
       " 730,\n",
       " 1825,\n",
       " 730,\n",
       " 1095,\n",
       " 60,\n",
       " 150,\n",
       " 730,\n",
       " 7,\n",
       " 210,\n",
       " 90,\n",
       " 2190,\n",
       " 1460,\n",
       " 1095,\n",
       " 365,\n",
       " 120,\n",
       " 1825,\n",
       " 30,\n",
       " 730,\n",
       " 365,\n",
       " 120,\n",
       " 300,\n",
       " 4380,\n",
       " 14,\n",
       " 2190,\n",
       " 1460,\n",
       " 2190,\n",
       " 1825,\n",
       " 120,\n",
       " 1095,\n",
       " 730,\n",
       " 5475,\n",
       " 365,\n",
       " 730,\n",
       " 120,\n",
       " 7,\n",
       " 150,\n",
       " ...]"
      ]
     },
     "execution_count": 13,
     "metadata": {},
     "output_type": "execute_result"
    }
   ],
   "source": [
    "# check list\n",
    "AgeinDays"
   ]
  },
  {
   "cell_type": "code",
   "execution_count": 14,
   "metadata": {},
   "outputs": [],
   "source": [
    "# append numerical age column to data set\n",
    "data['AgeinDays'] = AgeinDays"
   ]
  },
  {
   "cell_type": "code",
   "execution_count": 15,
   "metadata": {},
   "outputs": [
    {
     "name": "stdout",
     "output_type": "stream",
     "text": [
      "18\n"
     ]
    },
    {
     "data": {
      "text/plain": [
       "43"
      ]
     },
     "execution_count": 15,
     "metadata": {},
     "output_type": "execute_result"
    }
   ],
   "source": [
    "print(data.AgeinDays.isnull().sum())\n",
    "data.AgeinDays.nunique()"
   ]
  },
  {
   "cell_type": "code",
   "execution_count": 16,
   "metadata": {},
   "outputs": [
    {
     "data": {
      "text/plain": [
       "365.0"
      ]
     },
     "execution_count": 16,
     "metadata": {},
     "output_type": "execute_result"
    }
   ],
   "source": [
    "age_median =  data.AgeinDays.median()\n",
    "age_median"
   ]
  },
  {
   "cell_type": "code",
   "execution_count": 17,
   "metadata": {},
   "outputs": [
    {
     "name": "stdout",
     "output_type": "stream",
     "text": [
      "0\n"
     ]
    }
   ],
   "source": [
    "data.AgeinDays.fillna(age_median, inplace=True)\n",
    "print(data.AgeinDays.isnull().sum())"
   ]
  },
  {
   "cell_type": "code",
   "execution_count": 18,
   "metadata": {},
   "outputs": [
    {
     "data": {
      "text/plain": [
       "(365.0, inf]      10852\n",
       "(-1.0, 180.0]     10353\n",
       "(180.0, 365.0]     5524\n",
       "Name: Lifestage, dtype: int64"
      ]
     },
     "execution_count": 18,
     "metadata": {},
     "output_type": "execute_result"
    }
   ],
   "source": [
    "# Break age into baby(0-6 months), puppy(6-18 months), adult (18 - inf)\n",
    "data['Lifestage'] = pd.cut(data.AgeinDays,[-1,180,365,np.inf])\n",
    "data.Lifestage.value_counts()"
   ]
  },
  {
   "cell_type": "code",
   "execution_count": 19,
   "metadata": {},
   "outputs": [
    {
     "data": {
      "text/html": [
       "<div>\n",
       "<style scoped>\n",
       "    .dataframe tbody tr th:only-of-type {\n",
       "        vertical-align: middle;\n",
       "    }\n",
       "\n",
       "    .dataframe tbody tr th {\n",
       "        vertical-align: top;\n",
       "    }\n",
       "\n",
       "    .dataframe thead th {\n",
       "        text-align: right;\n",
       "    }\n",
       "</style>\n",
       "<table border=\"1\" class=\"dataframe\">\n",
       "  <thead>\n",
       "    <tr style=\"text-align: right;\">\n",
       "      <th></th>\n",
       "      <th>AnimalID</th>\n",
       "      <th>Name</th>\n",
       "      <th>DateTime</th>\n",
       "      <th>OutcomeType</th>\n",
       "      <th>OutcomeSubtype</th>\n",
       "      <th>AnimalType</th>\n",
       "      <th>SexuponOutcome</th>\n",
       "      <th>Breed</th>\n",
       "      <th>Color</th>\n",
       "      <th>Hour</th>\n",
       "      <th>DoW</th>\n",
       "      <th>Month</th>\n",
       "      <th>AgeinDays</th>\n",
       "      <th>Lifestage</th>\n",
       "    </tr>\n",
       "  </thead>\n",
       "  <tbody>\n",
       "    <tr>\n",
       "      <th>0</th>\n",
       "      <td>A671945</td>\n",
       "      <td>Hambone</td>\n",
       "      <td>2014-02-12 18:22:00</td>\n",
       "      <td>Return_to_owner</td>\n",
       "      <td>NaN</td>\n",
       "      <td>Dog</td>\n",
       "      <td>Neutered Male</td>\n",
       "      <td>Shetland Sheepdog Mix</td>\n",
       "      <td>Brown/White</td>\n",
       "      <td>18</td>\n",
       "      <td>2</td>\n",
       "      <td>2</td>\n",
       "      <td>365.0</td>\n",
       "      <td>(180.0, 365.0]</td>\n",
       "    </tr>\n",
       "    <tr>\n",
       "      <th>1</th>\n",
       "      <td>A656520</td>\n",
       "      <td>Emily</td>\n",
       "      <td>2013-10-13 12:44:00</td>\n",
       "      <td>Euthanasia</td>\n",
       "      <td>Suffering</td>\n",
       "      <td>Cat</td>\n",
       "      <td>Spayed Female</td>\n",
       "      <td>Domestic Shorthair Mix</td>\n",
       "      <td>Cream Tabby</td>\n",
       "      <td>12</td>\n",
       "      <td>6</td>\n",
       "      <td>10</td>\n",
       "      <td>365.0</td>\n",
       "      <td>(180.0, 365.0]</td>\n",
       "    </tr>\n",
       "    <tr>\n",
       "      <th>2</th>\n",
       "      <td>A686464</td>\n",
       "      <td>Pearce</td>\n",
       "      <td>2015-01-31 12:28:00</td>\n",
       "      <td>Adoption</td>\n",
       "      <td>Foster</td>\n",
       "      <td>Dog</td>\n",
       "      <td>Neutered Male</td>\n",
       "      <td>Pit Bull Mix</td>\n",
       "      <td>Blue/White</td>\n",
       "      <td>12</td>\n",
       "      <td>5</td>\n",
       "      <td>1</td>\n",
       "      <td>730.0</td>\n",
       "      <td>(365.0, inf]</td>\n",
       "    </tr>\n",
       "    <tr>\n",
       "      <th>3</th>\n",
       "      <td>A683430</td>\n",
       "      <td>NaN</td>\n",
       "      <td>2014-07-11 19:09:00</td>\n",
       "      <td>Transfer</td>\n",
       "      <td>Partner</td>\n",
       "      <td>Cat</td>\n",
       "      <td>Intact Male</td>\n",
       "      <td>Domestic Shorthair Mix</td>\n",
       "      <td>Blue Cream</td>\n",
       "      <td>19</td>\n",
       "      <td>4</td>\n",
       "      <td>7</td>\n",
       "      <td>21.0</td>\n",
       "      <td>(-1.0, 180.0]</td>\n",
       "    </tr>\n",
       "    <tr>\n",
       "      <th>4</th>\n",
       "      <td>A667013</td>\n",
       "      <td>NaN</td>\n",
       "      <td>2013-11-15 12:52:00</td>\n",
       "      <td>Transfer</td>\n",
       "      <td>Partner</td>\n",
       "      <td>Dog</td>\n",
       "      <td>Neutered Male</td>\n",
       "      <td>Lhasa Apso/Miniature Poodle</td>\n",
       "      <td>Tan</td>\n",
       "      <td>12</td>\n",
       "      <td>4</td>\n",
       "      <td>11</td>\n",
       "      <td>730.0</td>\n",
       "      <td>(365.0, inf]</td>\n",
       "    </tr>\n",
       "  </tbody>\n",
       "</table>\n",
       "</div>"
      ],
      "text/plain": [
       "  AnimalID     Name            DateTime      OutcomeType OutcomeSubtype  \\\n",
       "0  A671945  Hambone 2014-02-12 18:22:00  Return_to_owner            NaN   \n",
       "1  A656520    Emily 2013-10-13 12:44:00       Euthanasia      Suffering   \n",
       "2  A686464   Pearce 2015-01-31 12:28:00         Adoption         Foster   \n",
       "3  A683430      NaN 2014-07-11 19:09:00         Transfer        Partner   \n",
       "4  A667013      NaN 2013-11-15 12:52:00         Transfer        Partner   \n",
       "\n",
       "  AnimalType SexuponOutcome                        Breed        Color  Hour  \\\n",
       "0        Dog  Neutered Male        Shetland Sheepdog Mix  Brown/White    18   \n",
       "1        Cat  Spayed Female       Domestic Shorthair Mix  Cream Tabby    12   \n",
       "2        Dog  Neutered Male                 Pit Bull Mix   Blue/White    12   \n",
       "3        Cat    Intact Male       Domestic Shorthair Mix   Blue Cream    19   \n",
       "4        Dog  Neutered Male  Lhasa Apso/Miniature Poodle          Tan    12   \n",
       "\n",
       "   DoW  Month  AgeinDays       Lifestage  \n",
       "0    2      2      365.0  (180.0, 365.0]  \n",
       "1    6     10      365.0  (180.0, 365.0]  \n",
       "2    5      1      730.0    (365.0, inf]  \n",
       "3    4      7       21.0   (-1.0, 180.0]  \n",
       "4    4     11      730.0    (365.0, inf]  "
      ]
     },
     "execution_count": 19,
     "metadata": {},
     "output_type": "execute_result"
    }
   ],
   "source": [
    "del data['AgeuponOutcome']\n",
    "data.head()"
   ]
  },
  {
   "cell_type": "markdown",
   "metadata": {},
   "source": [
    "### d. Breed Data"
   ]
  },
  {
   "cell_type": "code",
   "execution_count": 20,
   "metadata": {
    "scrolled": true
   },
   "outputs": [
    {
     "data": {
      "text/plain": [
       "[True, True, True, True, False, False, True, True, True, False]"
      ]
     },
     "execution_count": 20,
     "metadata": {},
     "output_type": "execute_result"
    }
   ],
   "source": [
    "# create column to identify mixed breeds\n",
    "mixMask = ['Mix' in breed for breed in data.Breed.tolist()]\n",
    "mixMask[:10]"
   ]
  },
  {
   "cell_type": "code",
   "execution_count": 22,
   "metadata": {},
   "outputs": [],
   "source": [
    "data['MixedBreed'] = mixMask\n",
    "data.MixedBreed = data.MixedBreed.astype(int)\n"
   ]
  },
  {
   "cell_type": "code",
   "execution_count": 23,
   "metadata": {},
   "outputs": [],
   "source": [
    "# Simplify breed data\n",
    "data[['FirstBreed','SecondBreed','ThirdBreed']] = data.Breed.str.split(\"/\", expand=True)\n"
   ]
  },
  {
   "cell_type": "code",
   "execution_count": 24,
   "metadata": {},
   "outputs": [],
   "source": [
    "BreedData = data.FirstBreed.tolist()\n",
    "FirstBreedList = []\n",
    "for breed in BreedData:\n",
    "    if \"Mix\" in breed: \n",
    "        breed = breed[0:-4]\n",
    "    FirstBreedList.append(breed)"
   ]
  },
  {
   "cell_type": "code",
   "execution_count": 25,
   "metadata": {},
   "outputs": [],
   "source": [
    "data['FirstBreed'] = FirstBreedList"
   ]
  },
  {
   "cell_type": "code",
   "execution_count": 26,
   "metadata": {
    "scrolled": true
   },
   "outputs": [
    {
     "data": {
      "text/plain": [
       "0.8001795802312095"
      ]
     },
     "execution_count": 26,
     "metadata": {},
     "output_type": "execute_result"
    }
   ],
   "source": [
    "# 80% of data is within first 20 breeds\n",
    "(data.FirstBreed.value_counts()/data.FirstBreed.shape[0]).cumsum()[19]"
   ]
  },
  {
   "cell_type": "code",
   "execution_count": 27,
   "metadata": {},
   "outputs": [],
   "source": [
    "# keep first 20 breeds and categorize the rest as other\n",
    "top20breeds = []\n",
    "top20value = data.FirstBreed.value_counts()[19]\n",
    "for breed in FirstBreedList:\n",
    "    if FirstBreedList.count(breed) < top20value:\n",
    "        breed = 'Other'\n",
    "    top20breeds.append(breed)\n",
    "    \n"
   ]
  },
  {
   "cell_type": "code",
   "execution_count": 28,
   "metadata": {},
   "outputs": [],
   "source": [
    "data['Top20Breeds'] = top20breeds"
   ]
  },
  {
   "cell_type": "code",
   "execution_count": 29,
   "metadata": {},
   "outputs": [
    {
     "data": {
      "text/plain": [
       "Domestic Shorthair       8958\n",
       "Other                    5341\n",
       "Chihuahua Shorthair      2145\n",
       "Pit Bull                 2113\n",
       "Labrador Retriever       1915\n",
       "Domestic Medium Hair      883\n",
       "German Shepherd           826\n",
       "Domestic Longhair         547\n",
       "Australian Cattle Dog     511\n",
       "Dachshund                 510\n",
       "Siamese                   426\n",
       "Boxer                     360\n",
       "Border Collie             334\n",
       "Miniature Poodle          310\n",
       "Australian Shepherd       229\n",
       "Yorkshire Terrier         226\n",
       "Jack Russell Terrier      222\n",
       "Miniature Schnauzer       220\n",
       "Beagle                    220\n",
       "Catahoula                 218\n",
       "Rat Terrier               215\n",
       "Name: Top20Breeds, dtype: int64"
      ]
     },
     "execution_count": 29,
     "metadata": {},
     "output_type": "execute_result"
    }
   ],
   "source": [
    "data.Top20Breeds.value_counts()"
   ]
  },
  {
   "cell_type": "markdown",
   "metadata": {},
   "source": [
    "### e. Color"
   ]
  },
  {
   "cell_type": "code",
   "execution_count": 30,
   "metadata": {
    "scrolled": true
   },
   "outputs": [
    {
     "name": "stdout",
     "output_type": "stream",
     "text": [
      "57\n"
     ]
    },
    {
     "data": {
      "text/plain": [
       "26729"
      ]
     },
     "execution_count": 30,
     "metadata": {},
     "output_type": "execute_result"
    }
   ],
   "source": [
    "data[['FirstColor','SecondColor']] = data.Color.str.split(\"/\", expand=True)\n",
    "print(data.FirstColor.nunique())\n",
    "data.FirstColor.value_counts().sum()"
   ]
  },
  {
   "cell_type": "code",
   "execution_count": 32,
   "metadata": {},
   "outputs": [
    {
     "data": {
      "text/plain": [
       "0.9255864416925439"
      ]
     },
     "execution_count": 32,
     "metadata": {},
     "output_type": "execute_result"
    }
   ],
   "source": [
    "# 93% of data in top 20 colors \n",
    "(data.FirstColor.value_counts()/data.FirstColor.shape[0]).cumsum()[19]"
   ]
  },
  {
   "cell_type": "code",
   "execution_count": 33,
   "metadata": {},
   "outputs": [],
   "source": [
    "firstColorList = data.FirstColor.tolist()\n",
    "top20colors = []\n",
    "top20color = data.FirstColor.value_counts()[19]\n",
    "for color in firstColorList:\n",
    "    if firstColorList.count(color) < top20color:\n",
    "        color = 'Other'\n",
    "    top20colors.append(color)\n",
    "    "
   ]
  },
  {
   "cell_type": "code",
   "execution_count": 34,
   "metadata": {},
   "outputs": [],
   "source": [
    "data['Top20Colors'] = top20colors"
   ]
  },
  {
   "cell_type": "code",
   "execution_count": 35,
   "metadata": {
    "scrolled": true
   },
   "outputs": [
    {
     "data": {
      "text/plain": [
       "Black            6422\n",
       "White            3344\n",
       "Brown Tabby      2592\n",
       "Other            1989\n",
       "Brown            1951\n",
       "Tan              1674\n",
       "Orange Tabby     1299\n",
       "Blue             1199\n",
       "Tricolor          800\n",
       "Red               779\n",
       "Brown Brindle     699\n",
       "Blue Tabby        678\n",
       "Tortie            580\n",
       "Calico            552\n",
       "Chocolate         448\n",
       "Torbie            398\n",
       "Sable             324\n",
       "Cream Tabby       277\n",
       "Buff              267\n",
       "Yellow            230\n",
       "Gray              227\n",
       "Name: Top20Colors, dtype: int64"
      ]
     },
     "execution_count": 35,
     "metadata": {},
     "output_type": "execute_result"
    }
   ],
   "source": [
    "data.Top20Colors.value_counts()"
   ]
  },
  {
   "cell_type": "markdown",
   "metadata": {},
   "source": [
    "### f. Sex and Sterilization"
   ]
  },
  {
   "cell_type": "markdown",
   "metadata": {},
   "source": [
    "Sex and Sterilization are two distinct features so it makes more sense to separate it into two columns instead of individual dummy columns. "
   ]
  },
  {
   "cell_type": "code",
   "execution_count": 40,
   "metadata": {
    "scrolled": false
   },
   "outputs": [
    {
     "data": {
      "text/plain": [
       "Neutered Male    9779\n",
       "Spayed Female    8820\n",
       "Intact Male      3525\n",
       "Intact Female    3511\n",
       "Unknown          1093\n",
       "9779                1\n",
       "Name: SexuponOutcome, dtype: int64"
      ]
     },
     "execution_count": 40,
     "metadata": {},
     "output_type": "execute_result"
    }
   ],
   "source": [
    "data.SexuponOutcome.value_counts()"
   ]
  },
  {
   "cell_type": "code",
   "execution_count": 41,
   "metadata": {},
   "outputs": [],
   "source": [
    "data.SexuponOutcome.replace(to_replace= 9779, value= \"Unknown\", inplace=True)"
   ]
  },
  {
   "cell_type": "code",
   "execution_count": 42,
   "metadata": {},
   "outputs": [
    {
     "data": {
      "text/plain": [
       "Neutered Male    9779\n",
       "Spayed Female    8820\n",
       "Intact Male      3525\n",
       "Intact Female    3511\n",
       "Unknown          1094\n",
       "Name: SexuponOutcome, dtype: int64"
      ]
     },
     "execution_count": 42,
     "metadata": {},
     "output_type": "execute_result"
    }
   ],
   "source": [
    "# Fill missing value\n",
    "most_frequent = data.SexuponOutcome.value_counts()[0]\n",
    "data.SexuponOutcome.fillna(most_frequent, inplace=True)\n",
    "data.SexuponOutcome.value_counts()"
   ]
  },
  {
   "cell_type": "code",
   "execution_count": 43,
   "metadata": {
    "scrolled": true
   },
   "outputs": [],
   "source": [
    "# Separate SexuponOutcome column into Sex and Neutered/Spayed \n",
    "# Female = 1 and Intact = 1\n",
    "sexMask = ['Female' in sex for sex in data.SexuponOutcome.tolist()]\n",
    "sterileMask = ['Intact' in fix for fix in data.SexuponOutcome.tolist()]"
   ]
  },
  {
   "cell_type": "code",
   "execution_count": 44,
   "metadata": {},
   "outputs": [],
   "source": [
    "data['Sex'] = sexMask\n",
    "data['Sterile'] = sterileMask\n",
    "data.Sex = data.Sex.astype(int)\n",
    "data.Sterile = data.Sterile.astype(int)"
   ]
  },
  {
   "cell_type": "code",
   "execution_count": 45,
   "metadata": {},
   "outputs": [
    {
     "data": {
      "text/plain": [
       "0    14398\n",
       "1    12331\n",
       "Name: Sex, dtype: int64"
      ]
     },
     "execution_count": 45,
     "metadata": {},
     "output_type": "execute_result"
    }
   ],
   "source": [
    "data.Sex.value_counts() "
   ]
  },
  {
   "cell_type": "code",
   "execution_count": 46,
   "metadata": {},
   "outputs": [
    {
     "data": {
      "text/plain": [
       "0    19693\n",
       "1     7036\n",
       "Name: Sterile, dtype: int64"
      ]
     },
     "execution_count": 46,
     "metadata": {},
     "output_type": "execute_result"
    }
   ],
   "source": [
    "data.Sterile.value_counts()"
   ]
  },
  {
   "cell_type": "code",
   "execution_count": 47,
   "metadata": {
    "scrolled": false
   },
   "outputs": [
    {
     "data": {
      "text/html": [
       "<div>\n",
       "<style scoped>\n",
       "    .dataframe tbody tr th:only-of-type {\n",
       "        vertical-align: middle;\n",
       "    }\n",
       "\n",
       "    .dataframe tbody tr th {\n",
       "        vertical-align: top;\n",
       "    }\n",
       "\n",
       "    .dataframe thead th {\n",
       "        text-align: right;\n",
       "    }\n",
       "</style>\n",
       "<table border=\"1\" class=\"dataframe\">\n",
       "  <thead>\n",
       "    <tr style=\"text-align: right;\">\n",
       "      <th></th>\n",
       "      <th>AnimalID</th>\n",
       "      <th>Name</th>\n",
       "      <th>DateTime</th>\n",
       "      <th>OutcomeType</th>\n",
       "      <th>OutcomeSubtype</th>\n",
       "      <th>AnimalType</th>\n",
       "      <th>Breed</th>\n",
       "      <th>Color</th>\n",
       "      <th>Hour</th>\n",
       "      <th>DoW</th>\n",
       "      <th>...</th>\n",
       "      <th>MixedBreed</th>\n",
       "      <th>FirstBreed</th>\n",
       "      <th>SecondBreed</th>\n",
       "      <th>ThirdBreed</th>\n",
       "      <th>Top20Breeds</th>\n",
       "      <th>FirstColor</th>\n",
       "      <th>SecondColor</th>\n",
       "      <th>Top20Colors</th>\n",
       "      <th>Sex</th>\n",
       "      <th>Sterile</th>\n",
       "    </tr>\n",
       "  </thead>\n",
       "  <tbody>\n",
       "    <tr>\n",
       "      <th>0</th>\n",
       "      <td>A671945</td>\n",
       "      <td>Hambone</td>\n",
       "      <td>2014-02-12 18:22:00</td>\n",
       "      <td>Return_to_owner</td>\n",
       "      <td>NaN</td>\n",
       "      <td>Dog</td>\n",
       "      <td>Shetland Sheepdog Mix</td>\n",
       "      <td>Brown/White</td>\n",
       "      <td>18</td>\n",
       "      <td>2</td>\n",
       "      <td>...</td>\n",
       "      <td>1</td>\n",
       "      <td>Shetland Sheepdog</td>\n",
       "      <td>None</td>\n",
       "      <td>None</td>\n",
       "      <td>Other</td>\n",
       "      <td>Brown</td>\n",
       "      <td>White</td>\n",
       "      <td>Brown</td>\n",
       "      <td>0</td>\n",
       "      <td>0</td>\n",
       "    </tr>\n",
       "    <tr>\n",
       "      <th>1</th>\n",
       "      <td>A656520</td>\n",
       "      <td>Emily</td>\n",
       "      <td>2013-10-13 12:44:00</td>\n",
       "      <td>Euthanasia</td>\n",
       "      <td>Suffering</td>\n",
       "      <td>Cat</td>\n",
       "      <td>Domestic Shorthair Mix</td>\n",
       "      <td>Cream Tabby</td>\n",
       "      <td>12</td>\n",
       "      <td>6</td>\n",
       "      <td>...</td>\n",
       "      <td>1</td>\n",
       "      <td>Domestic Shorthair</td>\n",
       "      <td>None</td>\n",
       "      <td>None</td>\n",
       "      <td>Domestic Shorthair</td>\n",
       "      <td>Cream Tabby</td>\n",
       "      <td>None</td>\n",
       "      <td>Cream Tabby</td>\n",
       "      <td>1</td>\n",
       "      <td>0</td>\n",
       "    </tr>\n",
       "    <tr>\n",
       "      <th>2</th>\n",
       "      <td>A686464</td>\n",
       "      <td>Pearce</td>\n",
       "      <td>2015-01-31 12:28:00</td>\n",
       "      <td>Adoption</td>\n",
       "      <td>Foster</td>\n",
       "      <td>Dog</td>\n",
       "      <td>Pit Bull Mix</td>\n",
       "      <td>Blue/White</td>\n",
       "      <td>12</td>\n",
       "      <td>5</td>\n",
       "      <td>...</td>\n",
       "      <td>1</td>\n",
       "      <td>Pit Bull</td>\n",
       "      <td>None</td>\n",
       "      <td>None</td>\n",
       "      <td>Pit Bull</td>\n",
       "      <td>Blue</td>\n",
       "      <td>White</td>\n",
       "      <td>Blue</td>\n",
       "      <td>0</td>\n",
       "      <td>0</td>\n",
       "    </tr>\n",
       "    <tr>\n",
       "      <th>3</th>\n",
       "      <td>A683430</td>\n",
       "      <td>NaN</td>\n",
       "      <td>2014-07-11 19:09:00</td>\n",
       "      <td>Transfer</td>\n",
       "      <td>Partner</td>\n",
       "      <td>Cat</td>\n",
       "      <td>Domestic Shorthair Mix</td>\n",
       "      <td>Blue Cream</td>\n",
       "      <td>19</td>\n",
       "      <td>4</td>\n",
       "      <td>...</td>\n",
       "      <td>1</td>\n",
       "      <td>Domestic Shorthair</td>\n",
       "      <td>None</td>\n",
       "      <td>None</td>\n",
       "      <td>Domestic Shorthair</td>\n",
       "      <td>Blue Cream</td>\n",
       "      <td>None</td>\n",
       "      <td>Other</td>\n",
       "      <td>0</td>\n",
       "      <td>1</td>\n",
       "    </tr>\n",
       "    <tr>\n",
       "      <th>4</th>\n",
       "      <td>A667013</td>\n",
       "      <td>NaN</td>\n",
       "      <td>2013-11-15 12:52:00</td>\n",
       "      <td>Transfer</td>\n",
       "      <td>Partner</td>\n",
       "      <td>Dog</td>\n",
       "      <td>Lhasa Apso/Miniature Poodle</td>\n",
       "      <td>Tan</td>\n",
       "      <td>12</td>\n",
       "      <td>4</td>\n",
       "      <td>...</td>\n",
       "      <td>0</td>\n",
       "      <td>Lhasa Apso</td>\n",
       "      <td>Miniature Poodle</td>\n",
       "      <td>None</td>\n",
       "      <td>Other</td>\n",
       "      <td>Tan</td>\n",
       "      <td>None</td>\n",
       "      <td>Tan</td>\n",
       "      <td>0</td>\n",
       "      <td>0</td>\n",
       "    </tr>\n",
       "  </tbody>\n",
       "</table>\n",
       "<p>5 rows × 23 columns</p>\n",
       "</div>"
      ],
      "text/plain": [
       "  AnimalID     Name            DateTime      OutcomeType OutcomeSubtype  \\\n",
       "0  A671945  Hambone 2014-02-12 18:22:00  Return_to_owner            NaN   \n",
       "1  A656520    Emily 2013-10-13 12:44:00       Euthanasia      Suffering   \n",
       "2  A686464   Pearce 2015-01-31 12:28:00         Adoption         Foster   \n",
       "3  A683430      NaN 2014-07-11 19:09:00         Transfer        Partner   \n",
       "4  A667013      NaN 2013-11-15 12:52:00         Transfer        Partner   \n",
       "\n",
       "  AnimalType                        Breed        Color  Hour  DoW   ...    \\\n",
       "0        Dog        Shetland Sheepdog Mix  Brown/White    18    2   ...     \n",
       "1        Cat       Domestic Shorthair Mix  Cream Tabby    12    6   ...     \n",
       "2        Dog                 Pit Bull Mix   Blue/White    12    5   ...     \n",
       "3        Cat       Domestic Shorthair Mix   Blue Cream    19    4   ...     \n",
       "4        Dog  Lhasa Apso/Miniature Poodle          Tan    12    4   ...     \n",
       "\n",
       "   MixedBreed          FirstBreed       SecondBreed  ThirdBreed  \\\n",
       "0           1   Shetland Sheepdog              None        None   \n",
       "1           1  Domestic Shorthair              None        None   \n",
       "2           1            Pit Bull              None        None   \n",
       "3           1  Domestic Shorthair              None        None   \n",
       "4           0          Lhasa Apso  Miniature Poodle        None   \n",
       "\n",
       "          Top20Breeds   FirstColor SecondColor  Top20Colors Sex Sterile  \n",
       "0               Other        Brown       White        Brown   0       0  \n",
       "1  Domestic Shorthair  Cream Tabby        None  Cream Tabby   1       0  \n",
       "2            Pit Bull         Blue       White         Blue   0       0  \n",
       "3  Domestic Shorthair   Blue Cream        None        Other   0       1  \n",
       "4               Other          Tan        None          Tan   0       0  \n",
       "\n",
       "[5 rows x 23 columns]"
      ]
     },
     "execution_count": 47,
     "metadata": {},
     "output_type": "execute_result"
    }
   ],
   "source": [
    "del data['SexuponOutcome']\n",
    "data.head()"
   ]
  },
  {
   "cell_type": "code",
   "execution_count": null,
   "metadata": {},
   "outputs": [],
   "source": []
  },
  {
   "cell_type": "code",
   "execution_count": null,
   "metadata": {},
   "outputs": [],
   "source": []
  },
  {
   "cell_type": "code",
   "execution_count": null,
   "metadata": {},
   "outputs": [],
   "source": []
  },
  {
   "cell_type": "markdown",
   "metadata": {},
   "source": [
    "## Logistic Regression"
   ]
  },
  {
   "cell_type": "code",
   "execution_count": 50,
   "metadata": {
    "scrolled": true
   },
   "outputs": [
    {
     "data": {
      "text/plain": [
       "['AnimalID',\n",
       " 'Name',\n",
       " 'DateTime',\n",
       " 'OutcomeType',\n",
       " 'OutcomeSubtype',\n",
       " 'AnimalType',\n",
       " 'Breed',\n",
       " 'Color',\n",
       " 'Hour',\n",
       " 'DoW',\n",
       " 'Month',\n",
       " 'AgeinDays',\n",
       " 'Lifestage',\n",
       " 'MixedBreed',\n",
       " 'FirstBreed',\n",
       " 'SecondBreed',\n",
       " 'ThirdBreed',\n",
       " 'Top20Breeds',\n",
       " 'FirstColor',\n",
       " 'SecondColor',\n",
       " 'Top20Colors',\n",
       " 'Sex',\n",
       " 'Sterile']"
      ]
     },
     "execution_count": 50,
     "metadata": {},
     "output_type": "execute_result"
    }
   ],
   "source": [
    "data.columns.tolist()"
   ]
  },
  {
   "cell_type": "code",
   "execution_count": 131,
   "metadata": {},
   "outputs": [],
   "source": [
    "# Generate features and target\n",
    "feature_cols = ['AnimalType',\n",
    " 'Hour',\n",
    " 'DoW',\n",
    " 'Month',\n",
    " 'AgeinDays',\n",
    " 'Lifestage',\n",
    " 'MixedBreed',\n",
    " 'FirstBreed',\n",
    " 'FirstColor',\n",
    " 'Sex',\n",
    " 'Sterile'\n",
    " ]\n",
    "le = LabelEncoder()\n",
    "encoded_X = data[feature_cols].apply(le.fit_transform)\n",
    "X = encoded_X\n",
    "y = le.fit_transform(data.OutcomeType)"
   ]
  },
  {
   "cell_type": "code",
   "execution_count": 151,
   "metadata": {},
   "outputs": [
    {
     "name": "stdout",
     "output_type": "stream",
     "text": [
      "Model Accuracy: 0.6091782017707944\n"
     ]
    }
   ],
   "source": [
    "# Compute Logistic Regression to Predict Outcome\n",
    "logreg = LogisticRegression()\n",
    "X_train,X_test,y_train,y_test = train_test_split(X,y,test_size=.3)\n",
    "logreg.fit(X_train,y_train)\n",
    "OutcomePredLog = logreg.predict(X_test)\n",
    "print('Model Accuracy:',metrics.accuracy_score(y_test, OutcomePredLog))"
   ]
  },
  {
   "cell_type": "code",
   "execution_count": 152,
   "metadata": {
    "scrolled": true
   },
   "outputs": [
    {
     "name": "stdout",
     "output_type": "stream",
     "text": [
      "Mean cross validation accuracy: 0.6167836371232884\n",
      "Std of cross validation accuracy: 0.005204415389481044\n"
     ]
    }
   ],
   "source": [
    "cross_val_scores_log = cross_val_score(logreg,X,y,cv=10,scoring='accuracy')\n",
    "print(\"Mean cross validation accuracy:\",np.mean(cross_val_scores_log))\n",
    "print(\"Std of cross validation accuracy:\",np.std(cross_val_scores_log))"
   ]
  },
  {
   "cell_type": "code",
   "execution_count": 144,
   "metadata": {
    "scrolled": false
   },
   "outputs": [
    {
     "data": {
      "text/plain": [
       "[('AnimalType', 0.10034897634548264),\n",
       " ('Hour', 0.1417539527555945),\n",
       " ('DoW', 0.12803734586097285),\n",
       " ('Month', 0.004093450676008533),\n",
       " ('AgeinDays', 0.033569055117932615),\n",
       " ('Lifestage', -1.0250236731522988),\n",
       " ('MixedBreed', -0.13298809555767413),\n",
       " ('FirstBreed', -0.0007992556396516648),\n",
       " ('FirstColor', 0.00018392583513027595),\n",
       " ('Sex', 0.4610498781197694),\n",
       " ('Sterile', -3.3857188678475767)]"
      ]
     },
     "execution_count": 144,
     "metadata": {},
     "output_type": "execute_result"
    }
   ],
   "source": [
    "list(zip(feature_cols, logreg.coef_[0]))"
   ]
  },
  {
   "cell_type": "code",
   "execution_count": null,
   "metadata": {},
   "outputs": [],
   "source": [
    "\n"
   ]
  },
  {
   "cell_type": "code",
   "execution_count": 135,
   "metadata": {},
   "outputs": [
    {
     "name": "stdout",
     "output_type": "stream",
     "text": [
      "Random Forest Train-Test accuracy: 0.6569397680508792\n"
     ]
    }
   ],
   "source": [
    "# Generate Random Forest with 500 trees using train_test_split method\n",
    "rf100 = RandomForestClassifier(n_estimators=100)\n",
    "\n",
    "X_train,X_test,y_train,y_test = train_test_split(X,y,test_size=.3)\n",
    "rf100.fit(X_train, y_train)\n",
    "y_pred_rf_100 = rf100.predict(X_test)\n",
    "\n",
    "print(\"Random Forest Train-Test accuracy:\",metrics.accuracy_score(y_test,y_pred_rf_100))"
   ]
  },
  {
   "cell_type": "code",
   "execution_count": 136,
   "metadata": {},
   "outputs": [
    {
     "name": "stdout",
     "output_type": "stream",
     "text": [
      "Mean cv-accuracy: 0.6547187244769931\n",
      "Std of cv-accuracy: 0.006864103597616911\n"
     ]
    }
   ],
   "source": [
    "# random forest with cross validation method\n",
    "cross_val_scores_100 = cross_val_score(rf100,X,y,cv=10,scoring='accuracy')\n",
    "print(\"Mean cv-accuracy:\",np.mean(cross_val_scores_100))\n",
    "print(\"Std of cv-accuracy:\",np.std(cross_val_scores_100))"
   ]
  },
  {
   "cell_type": "code",
   "execution_count": 138,
   "metadata": {},
   "outputs": [
    {
     "data": {
      "text/html": [
       "<div>\n",
       "<style scoped>\n",
       "    .dataframe tbody tr th:only-of-type {\n",
       "        vertical-align: middle;\n",
       "    }\n",
       "\n",
       "    .dataframe tbody tr th {\n",
       "        vertical-align: top;\n",
       "    }\n",
       "\n",
       "    .dataframe thead th {\n",
       "        text-align: right;\n",
       "    }\n",
       "</style>\n",
       "<table border=\"1\" class=\"dataframe\">\n",
       "  <thead>\n",
       "    <tr style=\"text-align: right;\">\n",
       "      <th></th>\n",
       "      <th>feature</th>\n",
       "      <th>importance</th>\n",
       "    </tr>\n",
       "  </thead>\n",
       "  <tbody>\n",
       "    <tr>\n",
       "      <th>4</th>\n",
       "      <td>AgeinDays</td>\n",
       "      <td>0.173443</td>\n",
       "    </tr>\n",
       "    <tr>\n",
       "      <th>1</th>\n",
       "      <td>Hour</td>\n",
       "      <td>0.151671</td>\n",
       "    </tr>\n",
       "    <tr>\n",
       "      <th>3</th>\n",
       "      <td>Month</td>\n",
       "      <td>0.128473</td>\n",
       "    </tr>\n",
       "    <tr>\n",
       "      <th>7</th>\n",
       "      <td>FirstBreed</td>\n",
       "      <td>0.122730</td>\n",
       "    </tr>\n",
       "    <tr>\n",
       "      <th>8</th>\n",
       "      <td>FirstColor</td>\n",
       "      <td>0.111659</td>\n",
       "    </tr>\n",
       "    <tr>\n",
       "      <th>10</th>\n",
       "      <td>Sterile</td>\n",
       "      <td>0.111158</td>\n",
       "    </tr>\n",
       "    <tr>\n",
       "      <th>2</th>\n",
       "      <td>DoW</td>\n",
       "      <td>0.095375</td>\n",
       "    </tr>\n",
       "    <tr>\n",
       "      <th>5</th>\n",
       "      <td>Lifestage</td>\n",
       "      <td>0.036085</td>\n",
       "    </tr>\n",
       "    <tr>\n",
       "      <th>9</th>\n",
       "      <td>Sex</td>\n",
       "      <td>0.027774</td>\n",
       "    </tr>\n",
       "    <tr>\n",
       "      <th>0</th>\n",
       "      <td>AnimalType</td>\n",
       "      <td>0.022519</td>\n",
       "    </tr>\n",
       "    <tr>\n",
       "      <th>6</th>\n",
       "      <td>MixedBreed</td>\n",
       "      <td>0.019115</td>\n",
       "    </tr>\n",
       "  </tbody>\n",
       "</table>\n",
       "</div>"
      ],
      "text/plain": [
       "       feature  importance\n",
       "4    AgeinDays    0.173443\n",
       "1         Hour    0.151671\n",
       "3        Month    0.128473\n",
       "7   FirstBreed    0.122730\n",
       "8   FirstColor    0.111659\n",
       "10     Sterile    0.111158\n",
       "2          DoW    0.095375\n",
       "5    Lifestage    0.036085\n",
       "9          Sex    0.027774\n",
       "0   AnimalType    0.022519\n",
       "6   MixedBreed    0.019115"
      ]
     },
     "execution_count": 138,
     "metadata": {},
     "output_type": "execute_result"
    }
   ],
   "source": [
    "pd.DataFrame({'feature':feature_cols, \n",
    "              'importance':rf100.feature_importances_}).sort_values(by='importance', ascending=False)"
   ]
  },
  {
   "cell_type": "markdown",
   "metadata": {},
   "source": [
    "### Grid Search on Logistic Regression and Random Forest"
   ]
  },
  {
   "cell_type": "code",
   "execution_count": 61,
   "metadata": {},
   "outputs": [],
   "source": [
    "from sklearn.model_selection import GridSearchCV"
   ]
  },
  {
   "cell_type": "code",
   "execution_count": null,
   "metadata": {},
   "outputs": [],
   "source": [
    "rf_for_grid = RandomForestClassifier(random_state=1, n_jobs=-1)\n",
    "estimator_range = range(10,101,10)\n",
    "feature_range = range(1,len(feature_cols)+1)\n",
    "param_grid = dict(n_estimators = estimator_range, \n",
    "                  max_features = feature_range)\n",
    "RFgrid = GridSearchCV(rf_for_grid, param_grid, cv=10, scoring='accuracy')\n",
    "RFgrid.fit(X, y)\n"
   ]
  },
  {
   "cell_type": "code",
   "execution_count": 65,
   "metadata": {},
   "outputs": [
    {
     "data": {
      "text/plain": [
       "{'bootstrap': True,\n",
       " 'class_weight': None,\n",
       " 'criterion': 'gini',\n",
       " 'max_depth': None,\n",
       " 'max_features': 'auto',\n",
       " 'max_leaf_nodes': None,\n",
       " 'min_impurity_decrease': 0.0,\n",
       " 'min_impurity_split': None,\n",
       " 'min_samples_leaf': 1,\n",
       " 'min_samples_split': 2,\n",
       " 'min_weight_fraction_leaf': 0.0,\n",
       " 'n_estimators': 100,\n",
       " 'n_jobs': -1,\n",
       " 'oob_score': False,\n",
       " 'random_state': 1,\n",
       " 'verbose': 0,\n",
       " 'warm_start': False}"
      ]
     },
     "execution_count": 65,
     "metadata": {},
     "output_type": "execute_result"
    }
   ],
   "source": [
    "rf_for_grid.get_params()"
   ]
  },
  {
   "cell_type": "code",
   "execution_count": 105,
   "metadata": {},
   "outputs": [
    {
     "data": {
      "text/plain": [
       "RandomForestClassifier(bootstrap=True, class_weight=None, criterion='gini',\n",
       "            max_depth=None, max_features=5, max_leaf_nodes=None,\n",
       "            min_impurity_decrease=0.0, min_impurity_split=None,\n",
       "            min_samples_leaf=1, min_samples_split=2,\n",
       "            min_weight_fraction_leaf=0.0, n_estimators=70, n_jobs=-1,\n",
       "            oob_score=False, random_state=1, verbose=0, warm_start=False)"
      ]
     },
     "execution_count": 105,
     "metadata": {},
     "output_type": "execute_result"
    }
   ],
   "source": [
    "RFgrid.best_estimator_"
   ]
  },
  {
   "cell_type": "code",
   "execution_count": 107,
   "metadata": {
    "scrolled": true
   },
   "outputs": [
    {
     "data": {
      "text/plain": [
       "0.6543454674697894"
      ]
     },
     "execution_count": 107,
     "metadata": {},
     "output_type": "execute_result"
    }
   ],
   "source": [
    "RFgrid.best_score_"
   ]
  },
  {
   "cell_type": "code",
   "execution_count": 108,
   "metadata": {},
   "outputs": [
    {
     "data": {
      "text/plain": [
       "{'max_features': 5, 'n_estimators': 70}"
      ]
     },
     "execution_count": 108,
     "metadata": {},
     "output_type": "execute_result"
    }
   ],
   "source": [
    "RFgrid.best_params_"
   ]
  },
  {
   "cell_type": "code",
   "execution_count": 109,
   "metadata": {},
   "outputs": [
    {
     "name": "stderr",
     "output_type": "stream",
     "text": [
      "/Users/Nicole/anaconda3/lib/python3.6/site-packages/sklearn/model_selection/_search.py:761: DeprecationWarning: The grid_scores_ attribute was deprecated in version 0.18 in favor of the more elaborate cv_results_ attribute. The grid_scores_ attribute will not be available from 0.20\n",
      "  DeprecationWarning)\n"
     ]
    },
    {
     "data": {
      "text/plain": [
       "[mean: 0.62711, std: 0.00663, params: {'max_features': 1, 'n_estimators': 10},\n",
       " mean: 0.63908, std: 0.00675, params: {'max_features': 1, 'n_estimators': 20},\n",
       " mean: 0.64286, std: 0.00555, params: {'max_features': 1, 'n_estimators': 30},\n",
       " mean: 0.64499, std: 0.00599, params: {'max_features': 1, 'n_estimators': 40},\n",
       " mean: 0.64481, std: 0.00592, params: {'max_features': 1, 'n_estimators': 50},\n",
       " mean: 0.64623, std: 0.00525, params: {'max_features': 1, 'n_estimators': 60},\n",
       " mean: 0.64757, std: 0.00513, params: {'max_features': 1, 'n_estimators': 70},\n",
       " mean: 0.64828, std: 0.00484, params: {'max_features': 1, 'n_estimators': 80},\n",
       " mean: 0.64772, std: 0.00579, params: {'max_features': 1, 'n_estimators': 90},\n",
       " mean: 0.64813, std: 0.00535, params: {'max_features': 1, 'n_estimators': 100},\n",
       " mean: 0.63167, std: 0.00681, params: {'max_features': 2, 'n_estimators': 10},\n",
       " mean: 0.64073, std: 0.00632, params: {'max_features': 2, 'n_estimators': 20},\n",
       " mean: 0.64365, std: 0.00563, params: {'max_features': 2, 'n_estimators': 30},\n",
       " mean: 0.64712, std: 0.00676, params: {'max_features': 2, 'n_estimators': 40},\n",
       " mean: 0.64933, std: 0.00711, params: {'max_features': 2, 'n_estimators': 50},\n",
       " mean: 0.65083, std: 0.00592, params: {'max_features': 2, 'n_estimators': 60},\n",
       " mean: 0.65296, std: 0.00622, params: {'max_features': 2, 'n_estimators': 70},\n",
       " mean: 0.65218, std: 0.00661, params: {'max_features': 2, 'n_estimators': 80},\n",
       " mean: 0.65292, std: 0.00733, params: {'max_features': 2, 'n_estimators': 90},\n",
       " mean: 0.65382, std: 0.00692, params: {'max_features': 2, 'n_estimators': 100},\n",
       " mean: 0.63631, std: 0.00592, params: {'max_features': 3, 'n_estimators': 10},\n",
       " mean: 0.64368, std: 0.00778, params: {'max_features': 3, 'n_estimators': 20},\n",
       " mean: 0.64634, std: 0.00670, params: {'max_features': 3, 'n_estimators': 30},\n",
       " mean: 0.64866, std: 0.00528, params: {'max_features': 3, 'n_estimators': 40},\n",
       " mean: 0.65120, std: 0.00585, params: {'max_features': 3, 'n_estimators': 50},\n",
       " mean: 0.65075, std: 0.00535, params: {'max_features': 3, 'n_estimators': 60},\n",
       " mean: 0.65105, std: 0.00634, params: {'max_features': 3, 'n_estimators': 70},\n",
       " mean: 0.65218, std: 0.00591, params: {'max_features': 3, 'n_estimators': 80},\n",
       " mean: 0.65352, std: 0.00549, params: {'max_features': 3, 'n_estimators': 90},\n",
       " mean: 0.65382, std: 0.00517, params: {'max_features': 3, 'n_estimators': 100},\n",
       " mean: 0.63295, std: 0.00562, params: {'max_features': 4, 'n_estimators': 10},\n",
       " mean: 0.64402, std: 0.00561, params: {'max_features': 4, 'n_estimators': 20},\n",
       " mean: 0.64933, std: 0.00338, params: {'max_features': 4, 'n_estimators': 30},\n",
       " mean: 0.65090, std: 0.00421, params: {'max_features': 4, 'n_estimators': 40},\n",
       " mean: 0.65079, std: 0.00510, params: {'max_features': 4, 'n_estimators': 50},\n",
       " mean: 0.65233, std: 0.00567, params: {'max_features': 4, 'n_estimators': 60},\n",
       " mean: 0.65143, std: 0.00510, params: {'max_features': 4, 'n_estimators': 70},\n",
       " mean: 0.65277, std: 0.00702, params: {'max_features': 4, 'n_estimators': 80},\n",
       " mean: 0.65244, std: 0.00498, params: {'max_features': 4, 'n_estimators': 90},\n",
       " mean: 0.65390, std: 0.00556, params: {'max_features': 4, 'n_estimators': 100},\n",
       " mean: 0.63639, std: 0.00660, params: {'max_features': 5, 'n_estimators': 10},\n",
       " mean: 0.64510, std: 0.00549, params: {'max_features': 5, 'n_estimators': 20},\n",
       " mean: 0.64922, std: 0.00730, params: {'max_features': 5, 'n_estimators': 30},\n",
       " mean: 0.65143, std: 0.00557, params: {'max_features': 5, 'n_estimators': 40},\n",
       " mean: 0.65180, std: 0.00681, params: {'max_features': 5, 'n_estimators': 50},\n",
       " mean: 0.65240, std: 0.00522, params: {'max_features': 5, 'n_estimators': 60},\n",
       " mean: 0.65435, std: 0.00732, params: {'max_features': 5, 'n_estimators': 70},\n",
       " mean: 0.65240, std: 0.00766, params: {'max_features': 5, 'n_estimators': 80},\n",
       " mean: 0.65311, std: 0.00694, params: {'max_features': 5, 'n_estimators': 90},\n",
       " mean: 0.65393, std: 0.00596, params: {'max_features': 5, 'n_estimators': 100},\n",
       " mean: 0.63396, std: 0.00441, params: {'max_features': 6, 'n_estimators': 10},\n",
       " mean: 0.64320, std: 0.00465, params: {'max_features': 6, 'n_estimators': 20},\n",
       " mean: 0.64926, std: 0.00607, params: {'max_features': 6, 'n_estimators': 30},\n",
       " mean: 0.64971, std: 0.00518, params: {'max_features': 6, 'n_estimators': 40},\n",
       " mean: 0.65146, std: 0.00504, params: {'max_features': 6, 'n_estimators': 50},\n",
       " mean: 0.65304, std: 0.00671, params: {'max_features': 6, 'n_estimators': 60},\n",
       " mean: 0.65247, std: 0.00691, params: {'max_features': 6, 'n_estimators': 70},\n",
       " mean: 0.65266, std: 0.00725, params: {'max_features': 6, 'n_estimators': 80},\n",
       " mean: 0.65337, std: 0.00658, params: {'max_features': 6, 'n_estimators': 90},\n",
       " mean: 0.65233, std: 0.00688, params: {'max_features': 6, 'n_estimators': 100},\n",
       " mean: 0.63467, std: 0.00685, params: {'max_features': 7, 'n_estimators': 10},\n",
       " mean: 0.64327, std: 0.00562, params: {'max_features': 7, 'n_estimators': 20},\n",
       " mean: 0.64675, std: 0.00567, params: {'max_features': 7, 'n_estimators': 30},\n",
       " mean: 0.65102, std: 0.00702, params: {'max_features': 7, 'n_estimators': 40},\n",
       " mean: 0.65075, std: 0.00574, params: {'max_features': 7, 'n_estimators': 50},\n",
       " mean: 0.65049, std: 0.00613, params: {'max_features': 7, 'n_estimators': 60},\n",
       " mean: 0.65034, std: 0.00568, params: {'max_features': 7, 'n_estimators': 70},\n",
       " mean: 0.65102, std: 0.00590, params: {'max_features': 7, 'n_estimators': 80},\n",
       " mean: 0.65102, std: 0.00545, params: {'max_features': 7, 'n_estimators': 90},\n",
       " mean: 0.65098, std: 0.00540, params: {'max_features': 7, 'n_estimators': 100},\n",
       " mean: 0.62920, std: 0.00538, params: {'max_features': 8, 'n_estimators': 10},\n",
       " mean: 0.64256, std: 0.00409, params: {'max_features': 8, 'n_estimators': 20},\n",
       " mean: 0.64679, std: 0.00654, params: {'max_features': 8, 'n_estimators': 30},\n",
       " mean: 0.64791, std: 0.00630, params: {'max_features': 8, 'n_estimators': 40},\n",
       " mean: 0.64956, std: 0.00655, params: {'max_features': 8, 'n_estimators': 50},\n",
       " mean: 0.65083, std: 0.00561, params: {'max_features': 8, 'n_estimators': 60},\n",
       " mean: 0.65038, std: 0.00516, params: {'max_features': 8, 'n_estimators': 70},\n",
       " mean: 0.65064, std: 0.00415, params: {'max_features': 8, 'n_estimators': 80},\n",
       " mean: 0.65206, std: 0.00491, params: {'max_features': 8, 'n_estimators': 90},\n",
       " mean: 0.65240, std: 0.00547, params: {'max_features': 8, 'n_estimators': 100},\n",
       " mean: 0.63500, std: 0.00551, params: {'max_features': 9, 'n_estimators': 10},\n",
       " mean: 0.64458, std: 0.00538, params: {'max_features': 9, 'n_estimators': 20},\n",
       " mean: 0.64780, std: 0.00614, params: {'max_features': 9, 'n_estimators': 30},\n",
       " mean: 0.64862, std: 0.00634, params: {'max_features': 9, 'n_estimators': 40},\n",
       " mean: 0.65173, std: 0.00608, params: {'max_features': 9, 'n_estimators': 50},\n",
       " mean: 0.65045, std: 0.00669, params: {'max_features': 9, 'n_estimators': 60},\n",
       " mean: 0.65173, std: 0.00599, params: {'max_features': 9, 'n_estimators': 70},\n",
       " mean: 0.65244, std: 0.00505, params: {'max_features': 9, 'n_estimators': 80},\n",
       " mean: 0.65191, std: 0.00594, params: {'max_features': 9, 'n_estimators': 90},\n",
       " mean: 0.65255, std: 0.00506, params: {'max_features': 9, 'n_estimators': 100},\n",
       " mean: 0.62958, std: 0.00410, params: {'max_features': 10, 'n_estimators': 10},\n",
       " mean: 0.63983, std: 0.00678, params: {'max_features': 10, 'n_estimators': 20},\n",
       " mean: 0.64495, std: 0.00649, params: {'max_features': 10, 'n_estimators': 30},\n",
       " mean: 0.64555, std: 0.00638, params: {'max_features': 10, 'n_estimators': 40},\n",
       " mean: 0.64832, std: 0.00796, params: {'max_features': 10, 'n_estimators': 50},\n",
       " mean: 0.64806, std: 0.00538, params: {'max_features': 10, 'n_estimators': 60},\n",
       " mean: 0.64959, std: 0.00530, params: {'max_features': 10, 'n_estimators': 70},\n",
       " mean: 0.64926, std: 0.00458, params: {'max_features': 10, 'n_estimators': 80},\n",
       " mean: 0.64933, std: 0.00563, params: {'max_features': 10, 'n_estimators': 90},\n",
       " mean: 0.64877, std: 0.00466, params: {'max_features': 10, 'n_estimators': 100},\n",
       " mean: 0.62808, std: 0.00559, params: {'max_features': 11, 'n_estimators': 10},\n",
       " mean: 0.63796, std: 0.00779, params: {'max_features': 11, 'n_estimators': 20},\n",
       " mean: 0.64114, std: 0.00572, params: {'max_features': 11, 'n_estimators': 30},\n",
       " mean: 0.64544, std: 0.00586, params: {'max_features': 11, 'n_estimators': 40},\n",
       " mean: 0.64619, std: 0.00436, params: {'max_features': 11, 'n_estimators': 50},\n",
       " mean: 0.64735, std: 0.00465, params: {'max_features': 11, 'n_estimators': 60},\n",
       " mean: 0.64847, std: 0.00561, params: {'max_features': 11, 'n_estimators': 70},\n",
       " mean: 0.64959, std: 0.00494, params: {'max_features': 11, 'n_estimators': 80},\n",
       " mean: 0.64933, std: 0.00461, params: {'max_features': 11, 'n_estimators': 90},\n",
       " mean: 0.64825, std: 0.00554, params: {'max_features': 11, 'n_estimators': 100}]"
      ]
     },
     "execution_count": 109,
     "metadata": {},
     "output_type": "execute_result"
    }
   ],
   "source": [
    "RFgrid.grid_scores_"
   ]
  },
  {
   "cell_type": "code",
   "execution_count": 162,
   "metadata": {
    "scrolled": true
   },
   "outputs": [
    {
     "name": "stdout",
     "output_type": "stream",
     "text": [
      "Mean Accuracy for depth 12: 0.6638116067849569\n"
     ]
    }
   ],
   "source": [
    "rf_best = RandomForestClassifier(n_estimators=70, max_features=5, max_depth = 12)\n",
    "rf_best.fit(X,y)\n",
    "print(\"Mean Accuracy for depth 12:\", cross_val_score(rf_best, X, y, scoring='accuracy').mean())"
   ]
  },
  {
   "cell_type": "code",
   "execution_count": 163,
   "metadata": {},
   "outputs": [
    {
     "data": {
      "text/html": [
       "<div>\n",
       "<style scoped>\n",
       "    .dataframe tbody tr th:only-of-type {\n",
       "        vertical-align: middle;\n",
       "    }\n",
       "\n",
       "    .dataframe tbody tr th {\n",
       "        vertical-align: top;\n",
       "    }\n",
       "\n",
       "    .dataframe thead th {\n",
       "        text-align: right;\n",
       "    }\n",
       "</style>\n",
       "<table border=\"1\" class=\"dataframe\">\n",
       "  <thead>\n",
       "    <tr style=\"text-align: right;\">\n",
       "      <th></th>\n",
       "      <th>feature</th>\n",
       "      <th>importance</th>\n",
       "    </tr>\n",
       "  </thead>\n",
       "  <tbody>\n",
       "    <tr>\n",
       "      <th>4</th>\n",
       "      <td>AgeinDays</td>\n",
       "      <td>0.241419</td>\n",
       "    </tr>\n",
       "    <tr>\n",
       "      <th>10</th>\n",
       "      <td>Sterile</td>\n",
       "      <td>0.227799</td>\n",
       "    </tr>\n",
       "    <tr>\n",
       "      <th>1</th>\n",
       "      <td>Hour</td>\n",
       "      <td>0.151189</td>\n",
       "    </tr>\n",
       "    <tr>\n",
       "      <th>7</th>\n",
       "      <td>FirstBreed</td>\n",
       "      <td>0.070196</td>\n",
       "    </tr>\n",
       "    <tr>\n",
       "      <th>2</th>\n",
       "      <td>DoW</td>\n",
       "      <td>0.066118</td>\n",
       "    </tr>\n",
       "    <tr>\n",
       "      <th>3</th>\n",
       "      <td>Month</td>\n",
       "      <td>0.061046</td>\n",
       "    </tr>\n",
       "    <tr>\n",
       "      <th>5</th>\n",
       "      <td>Lifestage</td>\n",
       "      <td>0.059693</td>\n",
       "    </tr>\n",
       "    <tr>\n",
       "      <th>8</th>\n",
       "      <td>FirstColor</td>\n",
       "      <td>0.052125</td>\n",
       "    </tr>\n",
       "    <tr>\n",
       "      <th>0</th>\n",
       "      <td>AnimalType</td>\n",
       "      <td>0.042424</td>\n",
       "    </tr>\n",
       "    <tr>\n",
       "      <th>9</th>\n",
       "      <td>Sex</td>\n",
       "      <td>0.019000</td>\n",
       "    </tr>\n",
       "    <tr>\n",
       "      <th>6</th>\n",
       "      <td>MixedBreed</td>\n",
       "      <td>0.008991</td>\n",
       "    </tr>\n",
       "  </tbody>\n",
       "</table>\n",
       "</div>"
      ],
      "text/plain": [
       "       feature  importance\n",
       "4    AgeinDays    0.241419\n",
       "10     Sterile    0.227799\n",
       "1         Hour    0.151189\n",
       "7   FirstBreed    0.070196\n",
       "2          DoW    0.066118\n",
       "3        Month    0.061046\n",
       "5    Lifestage    0.059693\n",
       "8   FirstColor    0.052125\n",
       "0   AnimalType    0.042424\n",
       "9          Sex    0.019000\n",
       "6   MixedBreed    0.008991"
      ]
     },
     "execution_count": 163,
     "metadata": {},
     "output_type": "execute_result"
    }
   ],
   "source": [
    "# compute feature importances\n",
    "pd.DataFrame({'feature':feature_cols, \n",
    "              'importance':rf_best.feature_importances_}).sort_values(by='importance', ascending=False)"
   ]
  },
  {
   "cell_type": "code",
   "execution_count": 67,
   "metadata": {},
   "outputs": [
    {
     "data": {
      "text/plain": [
       "GridSearchCV(cv=10, error_score='raise',\n",
       "       estimator=LogisticRegression(C=1.0, class_weight=None, dual=False, fit_intercept=True,\n",
       "          intercept_scaling=1, max_iter=100, multi_class='ovr', n_jobs=1,\n",
       "          penalty='l2', random_state=None, solver='liblinear', tol=0.0001,\n",
       "          verbose=0, warm_start=False),\n",
       "       fit_params=None, iid=True, n_jobs=1,\n",
       "       param_grid={'penalty': ['l1', 'l2'], 'C': [0.1, 1, 10, 100]},\n",
       "       pre_dispatch='2*n_jobs', refit=True, return_train_score='warn',\n",
       "       scoring='accuracy', verbose=0)"
      ]
     },
     "execution_count": 67,
     "metadata": {},
     "output_type": "execute_result"
    }
   ],
   "source": [
    "log_for_grid = LogisticRegression()\n",
    "param_grid2 = {\"penalty\":['l1','l2'], 'C':[0.1,1,10,100]}\n",
    "LogGrid = GridSearchCV(log_for_grid, param_grid2, cv=10, scoring='accuracy')\n",
    "LogGrid.fit(X, y)"
   ]
  },
  {
   "cell_type": "code",
   "execution_count": 66,
   "metadata": {
    "scrolled": true
   },
   "outputs": [
    {
     "data": {
      "text/plain": [
       "{'C': 1.0,\n",
       " 'class_weight': None,\n",
       " 'dual': False,\n",
       " 'fit_intercept': True,\n",
       " 'intercept_scaling': 1,\n",
       " 'max_iter': 100,\n",
       " 'multi_class': 'ovr',\n",
       " 'n_jobs': 1,\n",
       " 'penalty': 'l2',\n",
       " 'random_state': None,\n",
       " 'solver': 'liblinear',\n",
       " 'tol': 0.0001,\n",
       " 'verbose': 0,\n",
       " 'warm_start': False}"
      ]
     },
     "execution_count": 66,
     "metadata": {},
     "output_type": "execute_result"
    }
   ],
   "source": [
    "log_for_grid.get_params()"
   ]
  },
  {
   "cell_type": "code",
   "execution_count": 69,
   "metadata": {
    "scrolled": true
   },
   "outputs": [
    {
     "name": "stderr",
     "output_type": "stream",
     "text": [
      "/Users/Nicole/anaconda3/lib/python3.6/site-packages/sklearn/model_selection/_search.py:761: DeprecationWarning: The grid_scores_ attribute was deprecated in version 0.18 in favor of the more elaborate cv_results_ attribute. The grid_scores_ attribute will not be available from 0.20\n",
      "  DeprecationWarning)\n"
     ]
    },
    {
     "data": {
      "text/plain": [
       "[mean: 0.61716, std: 0.00464, params: {'C': 0.1, 'penalty': 'l1'},\n",
       " mean: 0.61551, std: 0.00546, params: {'C': 0.1, 'penalty': 'l2'},\n",
       " mean: 0.61705, std: 0.00520, params: {'C': 1, 'penalty': 'l1'},\n",
       " mean: 0.61693, std: 0.00524, params: {'C': 1, 'penalty': 'l2'},\n",
       " mean: 0.61686, std: 0.00516, params: {'C': 10, 'penalty': 'l1'},\n",
       " mean: 0.61708, std: 0.00527, params: {'C': 10, 'penalty': 'l2'},\n",
       " mean: 0.61682, std: 0.00533, params: {'C': 100, 'penalty': 'l1'},\n",
       " mean: 0.61708, std: 0.00516, params: {'C': 100, 'penalty': 'l2'}]"
      ]
     },
     "execution_count": 69,
     "metadata": {},
     "output_type": "execute_result"
    }
   ],
   "source": [
    "LogGrid.grid_scores_"
   ]
  },
  {
   "cell_type": "code",
   "execution_count": 70,
   "metadata": {},
   "outputs": [
    {
     "data": {
      "text/plain": [
       "0.6171573945901455"
      ]
     },
     "execution_count": 70,
     "metadata": {},
     "output_type": "execute_result"
    }
   ],
   "source": [
    "LogGrid.best_score_"
   ]
  },
  {
   "cell_type": "code",
   "execution_count": 71,
   "metadata": {},
   "outputs": [
    {
     "data": {
      "text/plain": [
       "{'C': 0.1, 'penalty': 'l1'}"
      ]
     },
     "execution_count": 71,
     "metadata": {},
     "output_type": "execute_result"
    }
   ],
   "source": [
    "LogGrid.best_params_"
   ]
  },
  {
   "cell_type": "code",
   "execution_count": 154,
   "metadata": {},
   "outputs": [
    {
     "data": {
      "text/html": [
       "<div>\n",
       "<style scoped>\n",
       "    .dataframe tbody tr th:only-of-type {\n",
       "        vertical-align: middle;\n",
       "    }\n",
       "\n",
       "    .dataframe tbody tr th {\n",
       "        vertical-align: top;\n",
       "    }\n",
       "\n",
       "    .dataframe thead th {\n",
       "        text-align: right;\n",
       "    }\n",
       "</style>\n",
       "<table border=\"1\" class=\"dataframe\">\n",
       "  <thead>\n",
       "    <tr style=\"text-align: right;\">\n",
       "      <th></th>\n",
       "      <th>features</th>\n",
       "      <th>betas</th>\n",
       "    </tr>\n",
       "  </thead>\n",
       "  <tbody>\n",
       "    <tr>\n",
       "      <th>10</th>\n",
       "      <td>Sterile</td>\n",
       "      <td>3.425089</td>\n",
       "    </tr>\n",
       "    <tr>\n",
       "      <th>5</th>\n",
       "      <td>Lifestage</td>\n",
       "      <td>0.963674</td>\n",
       "    </tr>\n",
       "    <tr>\n",
       "      <th>9</th>\n",
       "      <td>Sex</td>\n",
       "      <td>0.472816</td>\n",
       "    </tr>\n",
       "    <tr>\n",
       "      <th>1</th>\n",
       "      <td>Hour</td>\n",
       "      <td>0.139518</td>\n",
       "    </tr>\n",
       "    <tr>\n",
       "      <th>2</th>\n",
       "      <td>DoW</td>\n",
       "      <td>0.126128</td>\n",
       "    </tr>\n",
       "    <tr>\n",
       "      <th>6</th>\n",
       "      <td>MixedBreed</td>\n",
       "      <td>0.124157</td>\n",
       "    </tr>\n",
       "    <tr>\n",
       "      <th>0</th>\n",
       "      <td>AnimalType</td>\n",
       "      <td>0.099536</td>\n",
       "    </tr>\n",
       "    <tr>\n",
       "      <th>4</th>\n",
       "      <td>AgeinDays</td>\n",
       "      <td>0.026314</td>\n",
       "    </tr>\n",
       "    <tr>\n",
       "      <th>3</th>\n",
       "      <td>Month</td>\n",
       "      <td>0.006452</td>\n",
       "    </tr>\n",
       "    <tr>\n",
       "      <th>7</th>\n",
       "      <td>FirstBreed</td>\n",
       "      <td>0.000966</td>\n",
       "    </tr>\n",
       "    <tr>\n",
       "      <th>8</th>\n",
       "      <td>FirstColor</td>\n",
       "      <td>0.000310</td>\n",
       "    </tr>\n",
       "  </tbody>\n",
       "</table>\n",
       "</div>"
      ],
      "text/plain": [
       "      features     betas\n",
       "10     Sterile  3.425089\n",
       "5    Lifestage  0.963674\n",
       "9          Sex  0.472816\n",
       "1         Hour  0.139518\n",
       "2          DoW  0.126128\n",
       "6   MixedBreed  0.124157\n",
       "0   AnimalType  0.099536\n",
       "4    AgeinDays  0.026314\n",
       "3        Month  0.006452\n",
       "7   FirstBreed  0.000966\n",
       "8   FirstColor  0.000310"
      ]
     },
     "execution_count": 154,
     "metadata": {},
     "output_type": "execute_result"
    }
   ],
   "source": [
    "# beta values of best Logistic Regression Model\n",
    "best_log = LogisticRegression(C=0.1, penalty='l1')\n",
    "betas = best_log.fit(X,y).coef_[0]\n",
    "best_betas = pd.DataFrame(list(zip(feature_cols,np.abs(betas))),columns=[\"features\",\"betas\"])\n",
    "best_betas.sort_values(\"betas\",ascending=False,inplace=True)\n",
    "best_betas"
   ]
  },
  {
   "cell_type": "code",
   "execution_count": null,
   "metadata": {},
   "outputs": [],
   "source": []
  },
  {
   "cell_type": "code",
   "execution_count": null,
   "metadata": {},
   "outputs": [],
   "source": []
  },
  {
   "cell_type": "code",
   "execution_count": 46,
   "metadata": {},
   "outputs": [
    {
     "name": "stdout",
     "output_type": "stream",
     "text": [
      "Most frequent class dummy classifier test accuracy:  0.4055368499812944\n"
     ]
    }
   ],
   "source": [
    "from sklearn.dummy import DummyClassifier\n",
    "dumb_model = DummyClassifier(strategy='most_frequent')\n",
    "dumb_model.fit(X_train, y_train)\n",
    "y_dumb_class = dumb_model.predict(X_test)\n",
    "print(\"Most frequent class dummy classifier test accuracy: \",metrics.accuracy_score(y_test, y_dumb_class))\n"
   ]
  },
  {
   "cell_type": "code",
   "execution_count": null,
   "metadata": {},
   "outputs": [],
   "source": []
  },
  {
   "cell_type": "code",
   "execution_count": null,
   "metadata": {},
   "outputs": [],
   "source": []
  },
  {
   "cell_type": "code",
   "execution_count": 103,
   "metadata": {},
   "outputs": [
    {
     "name": "stdout",
     "output_type": "stream",
     "text": [
      "10\n",
      "20\n",
      "30\n",
      "40\n",
      "50\n",
      "60\n",
      "70\n",
      "80\n",
      "90\n",
      "100\n"
     ]
    }
   ],
   "source": [
    "for i in range(10,101,10):\n",
    "    print(i)"
   ]
  },
  {
   "cell_type": "code",
   "execution_count": null,
   "metadata": {},
   "outputs": [],
   "source": []
  }
 ],
 "metadata": {
  "kernelspec": {
   "display_name": "Python 3",
   "language": "python",
   "name": "python3"
  },
  "language_info": {
   "codemirror_mode": {
    "name": "ipython",
    "version": 3
   },
   "file_extension": ".py",
   "mimetype": "text/x-python",
   "name": "python",
   "nbconvert_exporter": "python",
   "pygments_lexer": "ipython3",
   "version": "3.6.4"
  }
 },
 "nbformat": 4,
 "nbformat_minor": 2
}
